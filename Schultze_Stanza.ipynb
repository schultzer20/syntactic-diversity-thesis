{
 "cells": [
  {
   "cell_type": "code",
   "execution_count": null,
   "metadata": {
    "colab": {
     "base_uri": "https://localhost:8080/"
    },
    "collapsed": true,
    "id": "CPmAl55zyklQ",
    "outputId": "f1d9867e-85b8-4f97-ab30-90579793a969"
   },
   "outputs": [
    {
     "name": "stdout",
     "output_type": "stream",
     "text": [
      "Collecting stanza\n",
      "  Downloading stanza-1.10.1-py3-none-any.whl.metadata (13 kB)\n",
      "Collecting emoji (from stanza)\n",
      "  Downloading emoji-2.14.1-py3-none-any.whl.metadata (5.7 kB)\n",
      "Requirement already satisfied: numpy in /usr/local/lib/python3.11/dist-packages (from stanza) (2.0.2)\n",
      "Requirement already satisfied: protobuf>=3.15.0 in /usr/local/lib/python3.11/dist-packages (from stanza) (5.29.5)\n",
      "Requirement already satisfied: requests in /usr/local/lib/python3.11/dist-packages (from stanza) (2.32.3)\n",
      "Requirement already satisfied: networkx in /usr/local/lib/python3.11/dist-packages (from stanza) (3.5)\n",
      "Requirement already satisfied: torch>=1.3.0 in /usr/local/lib/python3.11/dist-packages (from stanza) (2.6.0+cu124)\n",
      "Requirement already satisfied: tqdm in /usr/local/lib/python3.11/dist-packages (from stanza) (4.67.1)\n",
      "Requirement already satisfied: filelock in /usr/local/lib/python3.11/dist-packages (from torch>=1.3.0->stanza) (3.18.0)\n",
      "Requirement already satisfied: typing-extensions>=4.10.0 in /usr/local/lib/python3.11/dist-packages (from torch>=1.3.0->stanza) (4.14.0)\n",
      "Requirement already satisfied: jinja2 in /usr/local/lib/python3.11/dist-packages (from torch>=1.3.0->stanza) (3.1.6)\n",
      "Requirement already satisfied: fsspec in /usr/local/lib/python3.11/dist-packages (from torch>=1.3.0->stanza) (2025.3.2)\n",
      "Collecting nvidia-cuda-nvrtc-cu12==12.4.127 (from torch>=1.3.0->stanza)\n",
      "  Downloading nvidia_cuda_nvrtc_cu12-12.4.127-py3-none-manylinux2014_x86_64.whl.metadata (1.5 kB)\n",
      "Collecting nvidia-cuda-runtime-cu12==12.4.127 (from torch>=1.3.0->stanza)\n",
      "  Downloading nvidia_cuda_runtime_cu12-12.4.127-py3-none-manylinux2014_x86_64.whl.metadata (1.5 kB)\n",
      "Collecting nvidia-cuda-cupti-cu12==12.4.127 (from torch>=1.3.0->stanza)\n",
      "  Downloading nvidia_cuda_cupti_cu12-12.4.127-py3-none-manylinux2014_x86_64.whl.metadata (1.6 kB)\n",
      "Collecting nvidia-cudnn-cu12==9.1.0.70 (from torch>=1.3.0->stanza)\n",
      "  Downloading nvidia_cudnn_cu12-9.1.0.70-py3-none-manylinux2014_x86_64.whl.metadata (1.6 kB)\n",
      "Collecting nvidia-cublas-cu12==12.4.5.8 (from torch>=1.3.0->stanza)\n",
      "  Downloading nvidia_cublas_cu12-12.4.5.8-py3-none-manylinux2014_x86_64.whl.metadata (1.5 kB)\n",
      "Collecting nvidia-cufft-cu12==11.2.1.3 (from torch>=1.3.0->stanza)\n",
      "  Downloading nvidia_cufft_cu12-11.2.1.3-py3-none-manylinux2014_x86_64.whl.metadata (1.5 kB)\n",
      "Collecting nvidia-curand-cu12==10.3.5.147 (from torch>=1.3.0->stanza)\n",
      "  Downloading nvidia_curand_cu12-10.3.5.147-py3-none-manylinux2014_x86_64.whl.metadata (1.5 kB)\n",
      "Collecting nvidia-cusolver-cu12==11.6.1.9 (from torch>=1.3.0->stanza)\n",
      "  Downloading nvidia_cusolver_cu12-11.6.1.9-py3-none-manylinux2014_x86_64.whl.metadata (1.6 kB)\n",
      "Collecting nvidia-cusparse-cu12==12.3.1.170 (from torch>=1.3.0->stanza)\n",
      "  Downloading nvidia_cusparse_cu12-12.3.1.170-py3-none-manylinux2014_x86_64.whl.metadata (1.6 kB)\n",
      "Requirement already satisfied: nvidia-cusparselt-cu12==0.6.2 in /usr/local/lib/python3.11/dist-packages (from torch>=1.3.0->stanza) (0.6.2)\n",
      "Requirement already satisfied: nvidia-nccl-cu12==2.21.5 in /usr/local/lib/python3.11/dist-packages (from torch>=1.3.0->stanza) (2.21.5)\n",
      "Requirement already satisfied: nvidia-nvtx-cu12==12.4.127 in /usr/local/lib/python3.11/dist-packages (from torch>=1.3.0->stanza) (12.4.127)\n",
      "Collecting nvidia-nvjitlink-cu12==12.4.127 (from torch>=1.3.0->stanza)\n",
      "  Downloading nvidia_nvjitlink_cu12-12.4.127-py3-none-manylinux2014_x86_64.whl.metadata (1.5 kB)\n",
      "Requirement already satisfied: triton==3.2.0 in /usr/local/lib/python3.11/dist-packages (from torch>=1.3.0->stanza) (3.2.0)\n",
      "Requirement already satisfied: sympy==1.13.1 in /usr/local/lib/python3.11/dist-packages (from torch>=1.3.0->stanza) (1.13.1)\n",
      "Requirement already satisfied: mpmath<1.4,>=1.1.0 in /usr/local/lib/python3.11/dist-packages (from sympy==1.13.1->torch>=1.3.0->stanza) (1.3.0)\n",
      "Requirement already satisfied: charset-normalizer<4,>=2 in /usr/local/lib/python3.11/dist-packages (from requests->stanza) (3.4.2)\n",
      "Requirement already satisfied: idna<4,>=2.5 in /usr/local/lib/python3.11/dist-packages (from requests->stanza) (3.10)\n",
      "Requirement already satisfied: urllib3<3,>=1.21.1 in /usr/local/lib/python3.11/dist-packages (from requests->stanza) (2.4.0)\n",
      "Requirement already satisfied: certifi>=2017.4.17 in /usr/local/lib/python3.11/dist-packages (from requests->stanza) (2025.6.15)\n",
      "Requirement already satisfied: MarkupSafe>=2.0 in /usr/local/lib/python3.11/dist-packages (from jinja2->torch>=1.3.0->stanza) (3.0.2)\n",
      "Downloading stanza-1.10.1-py3-none-any.whl (1.1 MB)\n",
      "\u001b[2K   \u001b[90m━━━━━━━━━━━━━━━━━━━━━━━━━━━━━━━━━━━━━━━━\u001b[0m \u001b[32m1.1/1.1 MB\u001b[0m \u001b[31m12.0 MB/s\u001b[0m eta \u001b[36m0:00:00\u001b[0m\n",
      "\u001b[?25hDownloading nvidia_cublas_cu12-12.4.5.8-py3-none-manylinux2014_x86_64.whl (363.4 MB)\n",
      "\u001b[2K   \u001b[90m━━━━━━━━━━━━━━━━━━━━━━━━━━━━━━━━━━━━━━━━\u001b[0m \u001b[32m363.4/363.4 MB\u001b[0m \u001b[31m4.4 MB/s\u001b[0m eta \u001b[36m0:00:00\u001b[0m\n",
      "\u001b[?25hDownloading nvidia_cuda_cupti_cu12-12.4.127-py3-none-manylinux2014_x86_64.whl (13.8 MB)\n",
      "\u001b[2K   \u001b[90m━━━━━━━━━━━━━━━━━━━━━━━━━━━━━━━━━━━━━━━━\u001b[0m \u001b[32m13.8/13.8 MB\u001b[0m \u001b[31m65.0 MB/s\u001b[0m eta \u001b[36m0:00:00\u001b[0m\n",
      "\u001b[?25hDownloading nvidia_cuda_nvrtc_cu12-12.4.127-py3-none-manylinux2014_x86_64.whl (24.6 MB)\n",
      "\u001b[2K   \u001b[90m━━━━━━━━━━━━━━━━━━━━━━━━━━━━━━━━━━━━━━━━\u001b[0m \u001b[32m24.6/24.6 MB\u001b[0m \u001b[31m58.1 MB/s\u001b[0m eta \u001b[36m0:00:00\u001b[0m\n",
      "\u001b[?25hDownloading nvidia_cuda_runtime_cu12-12.4.127-py3-none-manylinux2014_x86_64.whl (883 kB)\n",
      "\u001b[2K   \u001b[90m━━━━━━━━━━━━━━━━━━━━━━━━━━━━━━━━━━━━━━━━\u001b[0m \u001b[32m883.7/883.7 kB\u001b[0m \u001b[31m40.7 MB/s\u001b[0m eta \u001b[36m0:00:00\u001b[0m\n",
      "\u001b[?25hDownloading nvidia_cudnn_cu12-9.1.0.70-py3-none-manylinux2014_x86_64.whl (664.8 MB)\n",
      "\u001b[2K   \u001b[90m━━━━━━━━━━━━━━━━━━━━━━━━━━━━━━━━━━━━━━━━\u001b[0m \u001b[32m664.8/664.8 MB\u001b[0m \u001b[31m2.9 MB/s\u001b[0m eta \u001b[36m0:00:00\u001b[0m\n",
      "\u001b[?25hDownloading nvidia_cufft_cu12-11.2.1.3-py3-none-manylinux2014_x86_64.whl (211.5 MB)\n",
      "\u001b[2K   \u001b[90m━━━━━━━━━━━━━━━━━━━━━━━━━━━━━━━━━━━━━━━━\u001b[0m \u001b[32m211.5/211.5 MB\u001b[0m \u001b[31m5.9 MB/s\u001b[0m eta \u001b[36m0:00:00\u001b[0m\n",
      "\u001b[?25hDownloading nvidia_curand_cu12-10.3.5.147-py3-none-manylinux2014_x86_64.whl (56.3 MB)\n",
      "\u001b[2K   \u001b[90m━━━━━━━━━━━━━━━━━━━━━━━━━━━━━━━━━━━━━━━━\u001b[0m \u001b[32m56.3/56.3 MB\u001b[0m \u001b[31m11.8 MB/s\u001b[0m eta \u001b[36m0:00:00\u001b[0m\n",
      "\u001b[?25hDownloading nvidia_cusolver_cu12-11.6.1.9-py3-none-manylinux2014_x86_64.whl (127.9 MB)\n",
      "\u001b[2K   \u001b[90m━━━━━━━━━━━━━━━━━━━━━━━━━━━━━━━━━━━━━━━━\u001b[0m \u001b[32m127.9/127.9 MB\u001b[0m \u001b[31m5.8 MB/s\u001b[0m eta \u001b[36m0:00:00\u001b[0m\n",
      "\u001b[?25hDownloading nvidia_cusparse_cu12-12.3.1.170-py3-none-manylinux2014_x86_64.whl (207.5 MB)\n",
      "\u001b[2K   \u001b[90m━━━━━━━━━━━━━━━━━━━━━━━━━━━━━━━━━━━━━━━━\u001b[0m \u001b[32m207.5/207.5 MB\u001b[0m \u001b[31m4.8 MB/s\u001b[0m eta \u001b[36m0:00:00\u001b[0m\n",
      "\u001b[?25hDownloading nvidia_nvjitlink_cu12-12.4.127-py3-none-manylinux2014_x86_64.whl (21.1 MB)\n",
      "\u001b[2K   \u001b[90m━━━━━━━━━━━━━━━━━━━━━━━━━━━━━━━━━━━━━━━━\u001b[0m \u001b[32m21.1/21.1 MB\u001b[0m \u001b[31m79.7 MB/s\u001b[0m eta \u001b[36m0:00:00\u001b[0m\n",
      "\u001b[?25hDownloading emoji-2.14.1-py3-none-any.whl (590 kB)\n",
      "\u001b[2K   \u001b[90m━━━━━━━━━━━━━━━━━━━━━━━━━━━━━━━━━━━━━━━━\u001b[0m \u001b[32m590.6/590.6 kB\u001b[0m \u001b[31m34.5 MB/s\u001b[0m eta \u001b[36m0:00:00\u001b[0m\n",
      "\u001b[?25hInstalling collected packages: nvidia-nvjitlink-cu12, nvidia-curand-cu12, nvidia-cufft-cu12, nvidia-cuda-runtime-cu12, nvidia-cuda-nvrtc-cu12, nvidia-cuda-cupti-cu12, nvidia-cublas-cu12, emoji, nvidia-cusparse-cu12, nvidia-cudnn-cu12, nvidia-cusolver-cu12, stanza\n",
      "  Attempting uninstall: nvidia-nvjitlink-cu12\n",
      "    Found existing installation: nvidia-nvjitlink-cu12 12.5.82\n",
      "    Uninstalling nvidia-nvjitlink-cu12-12.5.82:\n",
      "      Successfully uninstalled nvidia-nvjitlink-cu12-12.5.82\n",
      "  Attempting uninstall: nvidia-curand-cu12\n",
      "    Found existing installation: nvidia-curand-cu12 10.3.6.82\n",
      "    Uninstalling nvidia-curand-cu12-10.3.6.82:\n",
      "      Successfully uninstalled nvidia-curand-cu12-10.3.6.82\n",
      "  Attempting uninstall: nvidia-cufft-cu12\n",
      "    Found existing installation: nvidia-cufft-cu12 11.2.3.61\n",
      "    Uninstalling nvidia-cufft-cu12-11.2.3.61:\n",
      "      Successfully uninstalled nvidia-cufft-cu12-11.2.3.61\n",
      "  Attempting uninstall: nvidia-cuda-runtime-cu12\n",
      "    Found existing installation: nvidia-cuda-runtime-cu12 12.5.82\n",
      "    Uninstalling nvidia-cuda-runtime-cu12-12.5.82:\n",
      "      Successfully uninstalled nvidia-cuda-runtime-cu12-12.5.82\n",
      "  Attempting uninstall: nvidia-cuda-nvrtc-cu12\n",
      "    Found existing installation: nvidia-cuda-nvrtc-cu12 12.5.82\n",
      "    Uninstalling nvidia-cuda-nvrtc-cu12-12.5.82:\n",
      "      Successfully uninstalled nvidia-cuda-nvrtc-cu12-12.5.82\n",
      "  Attempting uninstall: nvidia-cuda-cupti-cu12\n",
      "    Found existing installation: nvidia-cuda-cupti-cu12 12.5.82\n",
      "    Uninstalling nvidia-cuda-cupti-cu12-12.5.82:\n",
      "      Successfully uninstalled nvidia-cuda-cupti-cu12-12.5.82\n",
      "  Attempting uninstall: nvidia-cublas-cu12\n",
      "    Found existing installation: nvidia-cublas-cu12 12.5.3.2\n",
      "    Uninstalling nvidia-cublas-cu12-12.5.3.2:\n",
      "      Successfully uninstalled nvidia-cublas-cu12-12.5.3.2\n",
      "  Attempting uninstall: nvidia-cusparse-cu12\n",
      "    Found existing installation: nvidia-cusparse-cu12 12.5.1.3\n",
      "    Uninstalling nvidia-cusparse-cu12-12.5.1.3:\n",
      "      Successfully uninstalled nvidia-cusparse-cu12-12.5.1.3\n",
      "  Attempting uninstall: nvidia-cudnn-cu12\n",
      "    Found existing installation: nvidia-cudnn-cu12 9.3.0.75\n",
      "    Uninstalling nvidia-cudnn-cu12-9.3.0.75:\n",
      "      Successfully uninstalled nvidia-cudnn-cu12-9.3.0.75\n",
      "  Attempting uninstall: nvidia-cusolver-cu12\n",
      "    Found existing installation: nvidia-cusolver-cu12 11.6.3.83\n",
      "    Uninstalling nvidia-cusolver-cu12-11.6.3.83:\n",
      "      Successfully uninstalled nvidia-cusolver-cu12-11.6.3.83\n",
      "Successfully installed emoji-2.14.1 nvidia-cublas-cu12-12.4.5.8 nvidia-cuda-cupti-cu12-12.4.127 nvidia-cuda-nvrtc-cu12-12.4.127 nvidia-cuda-runtime-cu12-12.4.127 nvidia-cudnn-cu12-9.1.0.70 nvidia-cufft-cu12-11.2.1.3 nvidia-curand-cu12-10.3.5.147 nvidia-cusolver-cu12-11.6.1.9 nvidia-cusparse-cu12-12.3.1.170 nvidia-nvjitlink-cu12-12.4.127 stanza-1.10.1\n"
     ]
    }
   ],
   "source": [
    "!pip install stanza"
   ]
  },
  {
   "cell_type": "code",
   "execution_count": null,
   "metadata": {
    "colab": {
     "base_uri": "https://localhost:8080/"
    },
    "collapsed": true,
    "id": "zgW0qvxvWr_a",
    "outputId": "a23018f2-523a-4337-c557-8efb1c95d513"
   },
   "outputs": [
    {
     "name": "stdout",
     "output_type": "stream",
     "text": [
      "Requirement already satisfied: sacrebleu in /usr/local/lib/python3.11/dist-packages (2.5.1)\n",
      "Requirement already satisfied: portalocker in /usr/local/lib/python3.11/dist-packages (from sacrebleu) (3.2.0)\n",
      "Requirement already satisfied: regex in /usr/local/lib/python3.11/dist-packages (from sacrebleu) (2024.11.6)\n",
      "Requirement already satisfied: tabulate>=0.8.9 in /usr/local/lib/python3.11/dist-packages (from sacrebleu) (0.9.0)\n",
      "Requirement already satisfied: numpy>=1.17 in /usr/local/lib/python3.11/dist-packages (from sacrebleu) (1.26.4)\n",
      "Requirement already satisfied: colorama in /usr/local/lib/python3.11/dist-packages (from sacrebleu) (0.4.6)\n",
      "Requirement already satisfied: lxml in /usr/local/lib/python3.11/dist-packages (from sacrebleu) (5.4.0)\n"
     ]
    }
   ],
   "source": [
    "!pip install sacrebleu"
   ]
  },
  {
   "cell_type": "code",
   "execution_count": null,
   "metadata": {
    "colab": {
     "base_uri": "https://localhost:8080/"
    },
    "collapsed": true,
    "id": "Xb6vyKkDWuDE",
    "outputId": "1e609eaf-5d49-4c77-f6c6-c5479dbcc6a0"
   },
   "outputs": [
    {
     "name": "stdout",
     "output_type": "stream",
     "text": [
      "Requirement already satisfied: unbabel-comet in /usr/local/lib/python3.11/dist-packages (2.2.6)\n",
      "Requirement already satisfied: entmax<2.0,>=1.1 in /usr/local/lib/python3.11/dist-packages (from unbabel-comet) (1.3)\n",
      "Requirement already satisfied: huggingface-hub<1.0,>=0.19.3 in /usr/local/lib/python3.11/dist-packages (from unbabel-comet) (0.33.1)\n",
      "Requirement already satisfied: jsonargparse==3.13.1 in /usr/local/lib/python3.11/dist-packages (from unbabel-comet) (3.13.1)\n",
      "Requirement already satisfied: numpy<2.0.0,>=1.20.0 in /usr/local/lib/python3.11/dist-packages (from unbabel-comet) (1.26.4)\n",
      "Requirement already satisfied: pandas>=1.4.1 in /usr/local/lib/python3.11/dist-packages (from unbabel-comet) (2.2.2)\n",
      "Requirement already satisfied: protobuf<5.0.0,>=4.24.4 in /usr/local/lib/python3.11/dist-packages (from unbabel-comet) (4.25.8)\n",
      "Requirement already satisfied: pytorch-lightning<3.0.0,>=2.0.0 in /usr/local/lib/python3.11/dist-packages (from unbabel-comet) (2.5.2)\n",
      "Requirement already satisfied: sacrebleu<3.0.0,>=2.0.0 in /usr/local/lib/python3.11/dist-packages (from unbabel-comet) (2.5.1)\n",
      "Requirement already satisfied: scipy<2.0.0,>=1.5.4 in /usr/local/lib/python3.11/dist-packages (from unbabel-comet) (1.15.3)\n",
      "Requirement already satisfied: sentencepiece<0.3.0,>=0.2.0 in /usr/local/lib/python3.11/dist-packages (from unbabel-comet) (0.2.0)\n",
      "Requirement already satisfied: torch>=1.6.0 in /usr/local/lib/python3.11/dist-packages (from unbabel-comet) (2.6.0+cu124)\n",
      "Requirement already satisfied: torchmetrics<0.11.0,>=0.10.2 in /usr/local/lib/python3.11/dist-packages (from unbabel-comet) (0.10.3)\n",
      "Requirement already satisfied: transformers<5.0,>=4.17 in /usr/local/lib/python3.11/dist-packages (from unbabel-comet) (4.53.0)\n",
      "Requirement already satisfied: PyYAML>=3.13 in /usr/local/lib/python3.11/dist-packages (from jsonargparse==3.13.1->unbabel-comet) (6.0.2)\n",
      "Requirement already satisfied: filelock in /usr/local/lib/python3.11/dist-packages (from huggingface-hub<1.0,>=0.19.3->unbabel-comet) (3.18.0)\n",
      "Requirement already satisfied: fsspec>=2023.5.0 in /usr/local/lib/python3.11/dist-packages (from huggingface-hub<1.0,>=0.19.3->unbabel-comet) (2025.3.2)\n",
      "Requirement already satisfied: packaging>=20.9 in /usr/local/lib/python3.11/dist-packages (from huggingface-hub<1.0,>=0.19.3->unbabel-comet) (24.2)\n",
      "Requirement already satisfied: requests in /usr/local/lib/python3.11/dist-packages (from huggingface-hub<1.0,>=0.19.3->unbabel-comet) (2.32.3)\n",
      "Requirement already satisfied: tqdm>=4.42.1 in /usr/local/lib/python3.11/dist-packages (from huggingface-hub<1.0,>=0.19.3->unbabel-comet) (4.67.1)\n",
      "Requirement already satisfied: typing-extensions>=3.7.4.3 in /usr/local/lib/python3.11/dist-packages (from huggingface-hub<1.0,>=0.19.3->unbabel-comet) (4.14.0)\n",
      "Requirement already satisfied: hf-xet<2.0.0,>=1.1.2 in /usr/local/lib/python3.11/dist-packages (from huggingface-hub<1.0,>=0.19.3->unbabel-comet) (1.1.5)\n",
      "Requirement already satisfied: python-dateutil>=2.8.2 in /usr/local/lib/python3.11/dist-packages (from pandas>=1.4.1->unbabel-comet) (2.9.0.post0)\n",
      "Requirement already satisfied: pytz>=2020.1 in /usr/local/lib/python3.11/dist-packages (from pandas>=1.4.1->unbabel-comet) (2025.2)\n",
      "Requirement already satisfied: tzdata>=2022.7 in /usr/local/lib/python3.11/dist-packages (from pandas>=1.4.1->unbabel-comet) (2025.2)\n",
      "Requirement already satisfied: lightning-utilities>=0.10.0 in /usr/local/lib/python3.11/dist-packages (from pytorch-lightning<3.0.0,>=2.0.0->unbabel-comet) (0.14.3)\n",
      "Requirement already satisfied: portalocker in /usr/local/lib/python3.11/dist-packages (from sacrebleu<3.0.0,>=2.0.0->unbabel-comet) (3.2.0)\n",
      "Requirement already satisfied: regex in /usr/local/lib/python3.11/dist-packages (from sacrebleu<3.0.0,>=2.0.0->unbabel-comet) (2024.11.6)\n",
      "Requirement already satisfied: tabulate>=0.8.9 in /usr/local/lib/python3.11/dist-packages (from sacrebleu<3.0.0,>=2.0.0->unbabel-comet) (0.9.0)\n",
      "Requirement already satisfied: colorama in /usr/local/lib/python3.11/dist-packages (from sacrebleu<3.0.0,>=2.0.0->unbabel-comet) (0.4.6)\n",
      "Requirement already satisfied: lxml in /usr/local/lib/python3.11/dist-packages (from sacrebleu<3.0.0,>=2.0.0->unbabel-comet) (5.4.0)\n",
      "Requirement already satisfied: networkx in /usr/local/lib/python3.11/dist-packages (from torch>=1.6.0->unbabel-comet) (3.5)\n",
      "Requirement already satisfied: jinja2 in /usr/local/lib/python3.11/dist-packages (from torch>=1.6.0->unbabel-comet) (3.1.6)\n",
      "Requirement already satisfied: nvidia-cuda-nvrtc-cu12==12.4.127 in /usr/local/lib/python3.11/dist-packages (from torch>=1.6.0->unbabel-comet) (12.4.127)\n",
      "Requirement already satisfied: nvidia-cuda-runtime-cu12==12.4.127 in /usr/local/lib/python3.11/dist-packages (from torch>=1.6.0->unbabel-comet) (12.4.127)\n",
      "Requirement already satisfied: nvidia-cuda-cupti-cu12==12.4.127 in /usr/local/lib/python3.11/dist-packages (from torch>=1.6.0->unbabel-comet) (12.4.127)\n",
      "Requirement already satisfied: nvidia-cudnn-cu12==9.1.0.70 in /usr/local/lib/python3.11/dist-packages (from torch>=1.6.0->unbabel-comet) (9.1.0.70)\n",
      "Requirement already satisfied: nvidia-cublas-cu12==12.4.5.8 in /usr/local/lib/python3.11/dist-packages (from torch>=1.6.0->unbabel-comet) (12.4.5.8)\n",
      "Requirement already satisfied: nvidia-cufft-cu12==11.2.1.3 in /usr/local/lib/python3.11/dist-packages (from torch>=1.6.0->unbabel-comet) (11.2.1.3)\n",
      "Requirement already satisfied: nvidia-curand-cu12==10.3.5.147 in /usr/local/lib/python3.11/dist-packages (from torch>=1.6.0->unbabel-comet) (10.3.5.147)\n",
      "Requirement already satisfied: nvidia-cusolver-cu12==11.6.1.9 in /usr/local/lib/python3.11/dist-packages (from torch>=1.6.0->unbabel-comet) (11.6.1.9)\n",
      "Requirement already satisfied: nvidia-cusparse-cu12==12.3.1.170 in /usr/local/lib/python3.11/dist-packages (from torch>=1.6.0->unbabel-comet) (12.3.1.170)\n",
      "Requirement already satisfied: nvidia-cusparselt-cu12==0.6.2 in /usr/local/lib/python3.11/dist-packages (from torch>=1.6.0->unbabel-comet) (0.6.2)\n",
      "Requirement already satisfied: nvidia-nccl-cu12==2.21.5 in /usr/local/lib/python3.11/dist-packages (from torch>=1.6.0->unbabel-comet) (2.21.5)\n",
      "Requirement already satisfied: nvidia-nvtx-cu12==12.4.127 in /usr/local/lib/python3.11/dist-packages (from torch>=1.6.0->unbabel-comet) (12.4.127)\n",
      "Requirement already satisfied: nvidia-nvjitlink-cu12==12.4.127 in /usr/local/lib/python3.11/dist-packages (from torch>=1.6.0->unbabel-comet) (12.4.127)\n",
      "Requirement already satisfied: triton==3.2.0 in /usr/local/lib/python3.11/dist-packages (from torch>=1.6.0->unbabel-comet) (3.2.0)\n",
      "Requirement already satisfied: sympy==1.13.1 in /usr/local/lib/python3.11/dist-packages (from torch>=1.6.0->unbabel-comet) (1.13.1)\n",
      "Requirement already satisfied: mpmath<1.4,>=1.1.0 in /usr/local/lib/python3.11/dist-packages (from sympy==1.13.1->torch>=1.6.0->unbabel-comet) (1.3.0)\n",
      "Requirement already satisfied: tokenizers<0.22,>=0.21 in /usr/local/lib/python3.11/dist-packages (from transformers<5.0,>=4.17->unbabel-comet) (0.21.2)\n",
      "Requirement already satisfied: safetensors>=0.4.3 in /usr/local/lib/python3.11/dist-packages (from transformers<5.0,>=4.17->unbabel-comet) (0.5.3)\n",
      "Requirement already satisfied: aiohttp!=4.0.0a0,!=4.0.0a1 in /usr/local/lib/python3.11/dist-packages (from fsspec[http]>=2022.5.0->pytorch-lightning<3.0.0,>=2.0.0->unbabel-comet) (3.11.15)\n",
      "Requirement already satisfied: setuptools in /usr/local/lib/python3.11/dist-packages (from lightning-utilities>=0.10.0->pytorch-lightning<3.0.0,>=2.0.0->unbabel-comet) (75.2.0)\n",
      "Requirement already satisfied: six>=1.5 in /usr/local/lib/python3.11/dist-packages (from python-dateutil>=2.8.2->pandas>=1.4.1->unbabel-comet) (1.17.0)\n",
      "Requirement already satisfied: MarkupSafe>=2.0 in /usr/local/lib/python3.11/dist-packages (from jinja2->torch>=1.6.0->unbabel-comet) (3.0.2)\n",
      "Requirement already satisfied: charset-normalizer<4,>=2 in /usr/local/lib/python3.11/dist-packages (from requests->huggingface-hub<1.0,>=0.19.3->unbabel-comet) (3.4.2)\n",
      "Requirement already satisfied: idna<4,>=2.5 in /usr/local/lib/python3.11/dist-packages (from requests->huggingface-hub<1.0,>=0.19.3->unbabel-comet) (3.10)\n",
      "Requirement already satisfied: urllib3<3,>=1.21.1 in /usr/local/lib/python3.11/dist-packages (from requests->huggingface-hub<1.0,>=0.19.3->unbabel-comet) (2.4.0)\n",
      "Requirement already satisfied: certifi>=2017.4.17 in /usr/local/lib/python3.11/dist-packages (from requests->huggingface-hub<1.0,>=0.19.3->unbabel-comet) (2025.6.15)\n",
      "Requirement already satisfied: aiohappyeyeballs>=2.3.0 in /usr/local/lib/python3.11/dist-packages (from aiohttp!=4.0.0a0,!=4.0.0a1->fsspec[http]>=2022.5.0->pytorch-lightning<3.0.0,>=2.0.0->unbabel-comet) (2.6.1)\n",
      "Requirement already satisfied: aiosignal>=1.1.2 in /usr/local/lib/python3.11/dist-packages (from aiohttp!=4.0.0a0,!=4.0.0a1->fsspec[http]>=2022.5.0->pytorch-lightning<3.0.0,>=2.0.0->unbabel-comet) (1.3.2)\n",
      "Requirement already satisfied: attrs>=17.3.0 in /usr/local/lib/python3.11/dist-packages (from aiohttp!=4.0.0a0,!=4.0.0a1->fsspec[http]>=2022.5.0->pytorch-lightning<3.0.0,>=2.0.0->unbabel-comet) (25.3.0)\n",
      "Requirement already satisfied: frozenlist>=1.1.1 in /usr/local/lib/python3.11/dist-packages (from aiohttp!=4.0.0a0,!=4.0.0a1->fsspec[http]>=2022.5.0->pytorch-lightning<3.0.0,>=2.0.0->unbabel-comet) (1.7.0)\n",
      "Requirement already satisfied: multidict<7.0,>=4.5 in /usr/local/lib/python3.11/dist-packages (from aiohttp!=4.0.0a0,!=4.0.0a1->fsspec[http]>=2022.5.0->pytorch-lightning<3.0.0,>=2.0.0->unbabel-comet) (6.6.3)\n",
      "Requirement already satisfied: propcache>=0.2.0 in /usr/local/lib/python3.11/dist-packages (from aiohttp!=4.0.0a0,!=4.0.0a1->fsspec[http]>=2022.5.0->pytorch-lightning<3.0.0,>=2.0.0->unbabel-comet) (0.3.2)\n",
      "Requirement already satisfied: yarl<2.0,>=1.17.0 in /usr/local/lib/python3.11/dist-packages (from aiohttp!=4.0.0a0,!=4.0.0a1->fsspec[http]>=2022.5.0->pytorch-lightning<3.0.0,>=2.0.0->unbabel-comet) (1.20.1)\n"
     ]
    }
   ],
   "source": [
    "!pip install unbabel-comet"
   ]
  },
  {
   "cell_type": "code",
   "execution_count": null,
   "metadata": {
    "colab": {
     "base_uri": "https://localhost:8080/",
     "height": 288,
     "referenced_widgets": [
      "3e27791d60c74970a94d8c3e3e382265",
      "866ef437a049409a97a3f1a799175032",
      "72b8f5e087404bafb8d4d71b3c5a353f",
      "359bdb8e56fe4aec97b2de4eb9399e43",
      "497da160c5744813ad2e090abb15fa19",
      "2d56743d00714535bce61b89277cc48e",
      "d19b33e702534e8b8a15f4ab37bda94e",
      "60050af86ddb4edc8378edf8a6efa822",
      "1eb7f957f2de4ebbbe4ae020d39c5672",
      "5308197b6f274529b36006f8408709bd",
      "1914556612934c4699bef00ec8dc49a2",
      "7cfd56ce3aa8449ba10754aa9f605fc5",
      "f3b146bf58bf4d9d906e3565c7e6f4fc",
      "d0b9409cefc24997acef5f5d91b0b81b",
      "285689eb8dff40c496fc0f0f9af3da0d",
      "f497a7a5a84d4d9c89560f289ce12225",
      "60f38c4ad88f42158819b8d108e29f54",
      "bb9f6282195745dcbfcef5842b34a601",
      "f37a1541c701454e93175df1602f9c0a",
      "bf1c4f0425dc48178e18bbc861237661",
      "0f721898c8274f2fb60cd8e9f4c9be2e",
      "a8f7ef78af7946cf882a3205e8977128",
      "5d5037ddd19b4b5fb32c7a3dfad30d40",
      "33cd18a075c3411fba33be0457698fef",
      "25c2e1cfe7b741d89cfeb86f820bcbf8",
      "e9fca457e2ef44cab6ef4880f15cd56b",
      "b8a9d6a31db94d2691820612d12521c5",
      "d3aacab546aa476e9b0f2020e773144d",
      "2b4a51321d574072925606642c3db02d",
      "4736e5ff4351496090f335224e0a26be",
      "8181a03c567b41b9a5fe70e890c0d660",
      "ce3126aa36ba4116b3401590706ad9e6",
      "a7303591424c40859c7326351a7a923f",
      "67120d2a3edc4b2b881eb3a876aad86c",
      "22f7629937cb4a99906a07c0b2696f70",
      "49865112ad0147ce89c1aaf0debc6fb0",
      "d876e96eb27648e6a224290bc015ff4c",
      "2b5d947926404564a1bc10a7daca6db0",
      "bd0238c587e14e709807ed77e84c6ca8",
      "92b2266687ff4cebb78fc90a78d2d2ca",
      "925e3301847b45d5b5c29b3d5d75d0aa",
      "71688050d6474c4c95d4a977b61c988e",
      "d6197af483c24c75949abbae1759ddd5",
      "9940155863124642a476abb678658e69"
     ]
    },
    "collapsed": true,
    "id": "A-gdfY-kxlDz",
    "outputId": "5d825abf-dff5-4d9f-a9d6-377a72120554"
   },
   "outputs": [
    {
     "data": {
      "application/vnd.jupyter.widget-view+json": {
       "model_id": "3e27791d60c74970a94d8c3e3e382265",
       "version_major": 2,
       "version_minor": 0
      },
      "text/plain": [
       "Downloading https://raw.githubusercontent.com/stanfordnlp/stanza-resources/main/resources_1.10.0.json:   0%|  …"
      ]
     },
     "metadata": {},
     "output_type": "display_data"
    },
    {
     "name": "stderr",
     "output_type": "stream",
     "text": [
      "INFO:stanza:Downloaded file to /root/stanza_resources/resources.json\n",
      "INFO:stanza:Downloading default packages for language: de (German) ...\n"
     ]
    },
    {
     "data": {
      "application/vnd.jupyter.widget-view+json": {
       "model_id": "7cfd56ce3aa8449ba10754aa9f605fc5",
       "version_major": 2,
       "version_minor": 0
      },
      "text/plain": [
       "Downloading https://huggingface.co/stanfordnlp/stanza-de/resolve/v1.10.0/models/default.zip:   0%|          | …"
      ]
     },
     "metadata": {},
     "output_type": "display_data"
    },
    {
     "name": "stderr",
     "output_type": "stream",
     "text": [
      "INFO:stanza:Downloaded file to /root/stanza_resources/de/default.zip\n",
      "INFO:stanza:Finished downloading models and saved to /root/stanza_resources\n"
     ]
    },
    {
     "data": {
      "application/vnd.jupyter.widget-view+json": {
       "model_id": "5d5037ddd19b4b5fb32c7a3dfad30d40",
       "version_major": 2,
       "version_minor": 0
      },
      "text/plain": [
       "Downloading https://raw.githubusercontent.com/stanfordnlp/stanza-resources/main/resources_1.10.0.json:   0%|  …"
      ]
     },
     "metadata": {},
     "output_type": "display_data"
    },
    {
     "name": "stderr",
     "output_type": "stream",
     "text": [
      "INFO:stanza:Downloaded file to /root/stanza_resources/resources.json\n",
      "INFO:stanza:Downloading default packages for language: pt (Portuguese) ...\n"
     ]
    },
    {
     "data": {
      "application/vnd.jupyter.widget-view+json": {
       "model_id": "67120d2a3edc4b2b881eb3a876aad86c",
       "version_major": 2,
       "version_minor": 0
      },
      "text/plain": [
       "Downloading https://huggingface.co/stanfordnlp/stanza-pt/resolve/v1.10.0/models/default.zip:   0%|          | …"
      ]
     },
     "metadata": {},
     "output_type": "display_data"
    },
    {
     "name": "stderr",
     "output_type": "stream",
     "text": [
      "INFO:stanza:Downloaded file to /root/stanza_resources/pt/default.zip\n",
      "INFO:stanza:Finished downloading models and saved to /root/stanza_resources\n"
     ]
    }
   ],
   "source": [
    "import stanza\n",
    "stanza.download('de')\n",
    "stanza.download('pt')"
   ]
  },
  {
   "cell_type": "code",
   "execution_count": null,
   "metadata": {
    "colab": {
     "base_uri": "https://localhost:8080/",
     "height": 958,
     "referenced_widgets": [
      "fd32213fb5b04d8b9ba9b9fefb7e850a",
      "d1b3142c7a324abe83ae12b04a39f61f",
      "fc4b691534404c8fb8df975b694e7977",
      "d8350f78101f43f18a533af942cd563b",
      "b5120dc320494d33a1edc8ab1ff5a1a8",
      "475c20e824454084bf6b1d7d9eefa1ac",
      "53ae3e55f1a94de3a6c35fb2f6cf96c7",
      "8d137990c516468c9b20ea5ad8437abd",
      "89fe716f25e14f0f95d9e3e25dc28db3",
      "73647fd547cf4c309ebba2999c8fbe7c",
      "b6084de32ed443de9b5e250cf9b42d21",
      "724df9027afc40478ac3e3680ca1e096",
      "1ef0291574d44c6ba01e3679061da2a4",
      "5096747fa04d4767962ab52eebc3e9db",
      "b07be21765d7406e9eae347de08cb8d1",
      "da96aecf61d341f9ac1c1049b15fedee",
      "4b81237a491e44ba8deaa15c16b6186e",
      "7779b6b8fe0945f19caf7f1efa6cbf55",
      "0a53d85705624271b6f3f68485fb2c44",
      "67cee9a0cfd1454985f0962e8c1f5c35",
      "e4a167b2c03347408a7e7975a7139d21",
      "510919153a714b4aa1ea9df3e522c908"
     ]
    },
    "collapsed": true,
    "id": "NINM0S5gxiyM",
    "outputId": "dbb7231d-89b5-40a7-a1a8-4af7a1c1ac16"
   },
   "outputs": [
    {
     "name": "stderr",
     "output_type": "stream",
     "text": [
      "INFO:stanza:Checking for updates to resources.json in case models have been updated.  Note: this behavior can be turned off with download_method=None or download_method=DownloadMethod.REUSE_RESOURCES\n"
     ]
    },
    {
     "data": {
      "application/vnd.jupyter.widget-view+json": {
       "model_id": "fd32213fb5b04d8b9ba9b9fefb7e850a",
       "version_major": 2,
       "version_minor": 0
      },
      "text/plain": [
       "Downloading https://raw.githubusercontent.com/stanfordnlp/stanza-resources/main/resources_1.10.0.json:   0%|  …"
      ]
     },
     "metadata": {},
     "output_type": "display_data"
    },
    {
     "name": "stderr",
     "output_type": "stream",
     "text": [
      "INFO:stanza:Downloaded file to /root/stanza_resources/resources.json\n",
      "INFO:stanza:Loading these models for language: de (German):\n",
      "====================================\n",
      "| Processor    | Package           |\n",
      "------------------------------------\n",
      "| tokenize     | combined          |\n",
      "| mwt          | combined          |\n",
      "| pos          | combined_charlm   |\n",
      "| lemma        | combined_nocharlm |\n",
      "| constituency | spmrl_charlm      |\n",
      "| depparse     | combined_charlm   |\n",
      "| sentiment    | sb10k_charlm      |\n",
      "| ner          | germeval2014      |\n",
      "====================================\n",
      "\n",
      "INFO:stanza:Using device: cpu\n",
      "INFO:stanza:Loading: tokenize\n",
      "INFO:stanza:Loading: mwt\n",
      "INFO:stanza:Loading: pos\n",
      "INFO:stanza:Loading: lemma\n",
      "INFO:stanza:Loading: constituency\n",
      "INFO:stanza:Loading: depparse\n",
      "INFO:stanza:Loading: sentiment\n",
      "INFO:stanza:Loading: ner\n",
      "INFO:stanza:Done loading processors!\n",
      "INFO:stanza:Checking for updates to resources.json in case models have been updated.  Note: this behavior can be turned off with download_method=None or download_method=DownloadMethod.REUSE_RESOURCES\n"
     ]
    },
    {
     "data": {
      "application/vnd.jupyter.widget-view+json": {
       "model_id": "724df9027afc40478ac3e3680ca1e096",
       "version_major": 2,
       "version_minor": 0
      },
      "text/plain": [
       "Downloading https://raw.githubusercontent.com/stanfordnlp/stanza-resources/main/resources_1.10.0.json:   0%|  …"
      ]
     },
     "metadata": {},
     "output_type": "display_data"
    },
    {
     "name": "stderr",
     "output_type": "stream",
     "text": [
      "INFO:stanza:Downloaded file to /root/stanza_resources/resources.json\n",
      "INFO:stanza:Loading these models for language: pt (Portuguese):\n",
      "==================================\n",
      "| Processor    | Package         |\n",
      "----------------------------------\n",
      "| tokenize     | bosque          |\n",
      "| mwt          | bosque          |\n",
      "| pos          | bosque_charlm   |\n",
      "| lemma        | bosque_nocharlm |\n",
      "| constituency | cintil_charlm   |\n",
      "| depparse     | bosque_charlm   |\n",
      "==================================\n",
      "\n",
      "INFO:stanza:Using device: cpu\n",
      "INFO:stanza:Loading: tokenize\n",
      "INFO:stanza:Loading: mwt\n",
      "INFO:stanza:Loading: pos\n",
      "INFO:stanza:Loading: lemma\n",
      "INFO:stanza:Loading: constituency\n",
      "INFO:stanza:Loading: depparse\n",
      "INFO:stanza:Done loading processors!\n"
     ]
    }
   ],
   "source": [
    "pipeline_de = stanza.Pipeline(lang='de', processor='tokenize,pos,lemma,depparse,constituency')\n",
    "pipeline_pt = stanza.Pipeline(lang='pt', processor='tokenize,pos,lemma,depparse,constituency')"
   ]
  },
  {
   "cell_type": "code",
   "execution_count": null,
   "metadata": {
    "colab": {
     "base_uri": "https://localhost:8080/"
    },
    "collapsed": true,
    "id": "-woj-LPSy9U-",
    "outputId": "9a6a6764-afbf-4f39-c638-7aeb7c0d6fcf"
   },
   "outputs": [
    {
     "name": "stdout",
     "output_type": "stream",
     "text": [
      "[\n",
      "  [\n",
      "    {\n",
      "      \"id\": 1,\n",
      "      \"text\": \"Ich\",\n",
      "      \"lemma\": \"ich\",\n",
      "      \"upos\": \"PRON\",\n",
      "      \"xpos\": \"PPER\",\n",
      "      \"feats\": \"Case=Nom|Number=Sing|Person=1|PronType=Prs\",\n",
      "      \"head\": 2,\n",
      "      \"deprel\": \"nsubj\",\n",
      "      \"start_char\": 0,\n",
      "      \"end_char\": 3,\n",
      "      \"ner\": \"O\",\n",
      "      \"multi_ner\": [\n",
      "        \"O\"\n",
      "      ]\n",
      "    },\n",
      "    {\n",
      "      \"id\": 2,\n",
      "      \"text\": \"bin\",\n",
      "      \"lemma\": \"sein\",\n",
      "      \"upos\": \"VERB\",\n",
      "      \"xpos\": \"VAFIN\",\n",
      "      \"feats\": \"Mood=Ind|Number=Sing|Person=1|Tense=Pres|VerbForm=Fin\",\n",
      "      \"head\": 0,\n",
      "      \"deprel\": \"root\",\n",
      "      \"start_char\": 4,\n",
      "      \"end_char\": 7,\n",
      "      \"ner\": \"O\",\n",
      "      \"multi_ner\": [\n",
      "        \"O\"\n",
      "      ]\n",
      "    },\n",
      "    {\n",
      "      \"id\": 3,\n",
      "      \"text\": \"seit\",\n",
      "      \"lemma\": \"seit\",\n",
      "      \"upos\": \"ADP\",\n",
      "      \"xpos\": \"APPR\",\n",
      "      \"head\": 5,\n",
      "      \"deprel\": \"case\",\n",
      "      \"start_char\": 8,\n",
      "      \"end_char\": 12,\n",
      "      \"ner\": \"O\",\n",
      "      \"multi_ner\": [\n",
      "        \"O\"\n",
      "      ]\n",
      "    },\n",
      "    {\n",
      "      \"id\": 4,\n",
      "      \"text\": \"dem\",\n",
      "      \"lemma\": \"der\",\n",
      "      \"upos\": \"DET\",\n",
      "      \"xpos\": \"ART\",\n",
      "      \"feats\": \"Case=Dat|Definite=Def|Gender=Neut|Number=Sing|PronType=Art\",\n",
      "      \"head\": 9,\n",
      "      \"deprel\": \"det\",\n",
      "      \"start_char\": 13,\n",
      "      \"end_char\": 16,\n",
      "      \"ner\": \"O\",\n",
      "      \"multi_ner\": [\n",
      "        \"O\"\n",
      "      ]\n",
      "    },\n",
      "    {\n",
      "      \"id\": 5,\n",
      "      \"text\": \"25\",\n",
      "      \"lemma\": \"25\",\n",
      "      \"upos\": \"NUM\",\n",
      "      \"xpos\": \"CARD\",\n",
      "      \"feats\": \"NumType=Card\",\n",
      "      \"head\": 2,\n",
      "      \"deprel\": \"obl\",\n",
      "      \"start_char\": 17,\n",
      "      \"end_char\": 19,\n",
      "      \"ner\": \"O\",\n",
      "      \"multi_ner\": [\n",
      "        \"O\"\n",
      "      ],\n",
      "      \"misc\": \"SpaceAfter=No\"\n",
      "    },\n",
      "    {\n",
      "      \"id\": 6,\n",
      "      \"text\": \".\",\n",
      "      \"lemma\": \".\",\n",
      "      \"upos\": \"PUNCT\",\n",
      "      \"xpos\": \"$.\",\n",
      "      \"head\": 5,\n",
      "      \"deprel\": \"punct\",\n",
      "      \"start_char\": 19,\n",
      "      \"end_char\": 20,\n",
      "      \"ner\": \"O\",\n",
      "      \"multi_ner\": [\n",
      "        \"O\"\n",
      "      ]\n",
      "    },\n",
      "    {\n",
      "      \"id\": 7,\n",
      "      \"text\": \"des\",\n",
      "      \"lemma\": \"der\",\n",
      "      \"upos\": \"DET\",\n",
      "      \"xpos\": \"ART\",\n",
      "      \"feats\": \"Case=Gen|Definite=Def|Gender=Masc|Number=Sing|PronType=Art\",\n",
      "      \"head\": 9,\n",
      "      \"deprel\": \"det\",\n",
      "      \"start_char\": 21,\n",
      "      \"end_char\": 24,\n",
      "      \"ner\": \"O\",\n",
      "      \"multi_ner\": [\n",
      "        \"O\"\n",
      "      ]\n",
      "    },\n",
      "    {\n",
      "      \"id\": 8,\n",
      "      \"text\": \"letzten\",\n",
      "      \"lemma\": \"letzt\",\n",
      "      \"upos\": \"ADJ\",\n",
      "      \"xpos\": \"ADJA\",\n",
      "      \"feats\": \"Case=Gen|Degree=Pos|Gender=Neut|Number=Sing\",\n",
      "      \"head\": 9,\n",
      "      \"deprel\": \"amod\",\n",
      "      \"start_char\": 25,\n",
      "      \"end_char\": 32,\n",
      "      \"ner\": \"O\",\n",
      "      \"multi_ner\": [\n",
      "        \"O\"\n",
      "      ]\n",
      "    },\n",
      "    {\n",
      "      \"id\": 9,\n",
      "      \"text\": \"Monats\",\n",
      "      \"lemma\": \"Monat\",\n",
      "      \"upos\": \"NOUN\",\n",
      "      \"xpos\": \"NN\",\n",
      "      \"feats\": \"Case=Gen|Gender=Neut|Number=Sing\",\n",
      "      \"head\": 2,\n",
      "      \"deprel\": \"obl\",\n",
      "      \"start_char\": 33,\n",
      "      \"end_char\": 39,\n",
      "      \"ner\": \"O\",\n",
      "      \"multi_ner\": [\n",
      "        \"O\"\n",
      "      ]\n",
      "    },\n",
      "    {\n",
      "      \"id\": [\n",
      "        10,\n",
      "        11\n",
      "      ],\n",
      "      \"text\": \"im\",\n",
      "      \"start_char\": 40,\n",
      "      \"end_char\": 42,\n",
      "      \"ner\": \"O\",\n",
      "      \"multi_ner\": [\n",
      "        \"O\"\n",
      "      ]\n",
      "    },\n",
      "    {\n",
      "      \"id\": 10,\n",
      "      \"text\": \"in\",\n",
      "      \"lemma\": \"in\",\n",
      "      \"upos\": \"ADP\",\n",
      "      \"xpos\": \"APPR\",\n",
      "      \"head\": 12,\n",
      "      \"deprel\": \"case\"\n",
      "    },\n",
      "    {\n",
      "      \"id\": 11,\n",
      "      \"text\": \"dem\",\n",
      "      \"lemma\": \"der\",\n",
      "      \"upos\": \"DET\",\n",
      "      \"xpos\": \"ART\",\n",
      "      \"feats\": \"Case=Dat|Definite=Def|Gender=Neut|Number=Sing|PronType=Art\",\n",
      "      \"head\": 12,\n",
      "      \"deprel\": \"det\"\n",
      "    },\n",
      "    {\n",
      "      \"id\": 12,\n",
      "      \"text\": \"Hospiz\",\n",
      "      \"lemma\": \"Hospiz\",\n",
      "      \"upos\": \"NOUN\",\n",
      "      \"xpos\": \"NN\",\n",
      "      \"feats\": \"Case=Dat|Gender=Neut|Number=Sing\",\n",
      "      \"head\": 2,\n",
      "      \"deprel\": \"obl\",\n",
      "      \"start_char\": 43,\n",
      "      \"end_char\": 49,\n",
      "      \"ner\": \"O\",\n",
      "      \"multi_ner\": [\n",
      "        \"O\"\n",
      "      ],\n",
      "      \"misc\": \"SpaceAfter=No\"\n",
      "    },\n",
      "    {\n",
      "      \"id\": 13,\n",
      "      \"text\": \",\",\n",
      "      \"lemma\": \",\",\n",
      "      \"upos\": \"PUNCT\",\n",
      "      \"xpos\": \"$,\",\n",
      "      \"head\": 18,\n",
      "      \"deprel\": \"punct\",\n",
      "      \"start_char\": 49,\n",
      "      \"end_char\": 50,\n",
      "      \"ner\": \"O\",\n",
      "      \"multi_ner\": [\n",
      "        \"O\"\n",
      "      ]\n",
      "    },\n",
      "    {\n",
      "      \"id\": 14,\n",
      "      \"text\": \"oder\",\n",
      "      \"lemma\": \"oder\",\n",
      "      \"upos\": \"CCONJ\",\n",
      "      \"xpos\": \"KON\",\n",
      "      \"head\": 18,\n",
      "      \"deprel\": \"cc\",\n",
      "      \"start_char\": 51,\n",
      "      \"end_char\": 55,\n",
      "      \"ner\": \"O\",\n",
      "      \"multi_ner\": [\n",
      "        \"O\"\n",
      "      ]\n",
      "    },\n",
      "    {\n",
      "      \"id\": 15,\n",
      "      \"text\": \"vielmehr\",\n",
      "      \"lemma\": \"vielmehr\",\n",
      "      \"upos\": \"ADV\",\n",
      "      \"xpos\": \"ADV\",\n",
      "      \"head\": 18,\n",
      "      \"deprel\": \"advmod\",\n",
      "      \"start_char\": 56,\n",
      "      \"end_char\": 64,\n",
      "      \"ner\": \"O\",\n",
      "      \"multi_ner\": [\n",
      "        \"O\"\n",
      "      ]\n",
      "    },\n",
      "    {\n",
      "      \"id\": 16,\n",
      "      \"text\": \"in\",\n",
      "      \"lemma\": \"in\",\n",
      "      \"upos\": \"ADP\",\n",
      "      \"xpos\": \"APPR\",\n",
      "      \"head\": 18,\n",
      "      \"deprel\": \"case\",\n",
      "      \"start_char\": 65,\n",
      "      \"end_char\": 67,\n",
      "      \"ner\": \"O\",\n",
      "      \"multi_ner\": [\n",
      "        \"O\"\n",
      "      ]\n",
      "    },\n",
      "    {\n",
      "      \"id\": 17,\n",
      "      \"text\": \"verschiedenen\",\n",
      "      \"lemma\": \"verschieden\",\n",
      "      \"upos\": \"ADJ\",\n",
      "      \"xpos\": \"ADJA\",\n",
      "      \"feats\": \"Case=Dat|Degree=Pos|Gender=Masc|Number=Plur\",\n",
      "      \"head\": 18,\n",
      "      \"deprel\": \"amod\",\n",
      "      \"start_char\": 68,\n",
      "      \"end_char\": 81,\n",
      "      \"ner\": \"O\",\n",
      "      \"multi_ner\": [\n",
      "        \"O\"\n",
      "      ]\n",
      "    },\n",
      "    {\n",
      "      \"id\": 18,\n",
      "      \"text\": \"Teilen\",\n",
      "      \"lemma\": \"Teil|Teilen\",\n",
      "      \"upos\": \"NOUN\",\n",
      "      \"xpos\": \"NN\",\n",
      "      \"feats\": \"Case=Dat|Gender=Masc|Number=Plur\",\n",
      "      \"head\": 12,\n",
      "      \"deprel\": \"conj\",\n",
      "      \"start_char\": 82,\n",
      "      \"end_char\": 88,\n",
      "      \"ner\": \"O\",\n",
      "      \"multi_ner\": [\n",
      "        \"O\"\n",
      "      ]\n",
      "    },\n",
      "    {\n",
      "      \"id\": 19,\n",
      "      \"text\": \"davon\",\n",
      "      \"lemma\": \"davon\",\n",
      "      \"upos\": \"ADV\",\n",
      "      \"xpos\": \"PAV\",\n",
      "      \"feats\": \"PronType=Dem\",\n",
      "      \"head\": 18,\n",
      "      \"deprel\": \"advmod\",\n",
      "      \"start_char\": 89,\n",
      "      \"end_char\": 94,\n",
      "      \"ner\": \"O\",\n",
      "      \"multi_ner\": [\n",
      "        \"O\"\n",
      "      ],\n",
      "      \"misc\": \"SpaceAfter=No\"\n",
      "    },\n",
      "    {\n",
      "      \"id\": 20,\n",
      "      \"text\": \".\",\n",
      "      \"lemma\": \".\",\n",
      "      \"upos\": \"PUNCT\",\n",
      "      \"xpos\": \"$.\",\n",
      "      \"head\": 2,\n",
      "      \"deprel\": \"punct\",\n",
      "      \"start_char\": 94,\n",
      "      \"end_char\": 95,\n",
      "      \"ner\": \"O\",\n",
      "      \"multi_ner\": [\n",
      "        \"O\"\n",
      "      ],\n",
      "      \"misc\": \"SpaceAfter=No\"\n",
      "    }\n",
      "  ]\n",
      "]\n"
     ]
    }
   ],
   "source": [
    "doc = pipeline_de('Ich bin seit dem 25. des letzten Monats im Hospiz, oder vielmehr in verschiedenen Teilen davon.')\n",
    "print(doc)"
   ]
  },
  {
   "cell_type": "code",
   "execution_count": null,
   "metadata": {
    "colab": {
     "base_uri": "https://localhost:8080/"
    },
    "collapsed": true,
    "id": "wqsNQ0UFzZ6K",
    "outputId": "4956acd9-63bd-47f2-fe37-966f5533aa78"
   },
   "outputs": [
    {
     "name": "stdout",
     "output_type": "stream",
     "text": [
      "[\n",
      "  [\n",
      "    {\n",
      "      \"id\": 1,\n",
      "      \"text\": \"Estou\",\n",
      "      \"lemma\": \"estar\",\n",
      "      \"upos\": \"AUX\",\n",
      "      \"feats\": \"Mood=Ind|Number=Sing|Person=1|Tense=Pres|VerbForm=Fin\",\n",
      "      \"head\": 4,\n",
      "      \"deprel\": \"cop\",\n",
      "      \"start_char\": 0,\n",
      "      \"end_char\": 5\n",
      "    },\n",
      "    {\n",
      "      \"id\": [\n",
      "        2,\n",
      "        3\n",
      "      ],\n",
      "      \"text\": \"no\",\n",
      "      \"start_char\": 6,\n",
      "      \"end_char\": 8\n",
      "    },\n",
      "    {\n",
      "      \"id\": 2,\n",
      "      \"text\": \"em\",\n",
      "      \"lemma\": \"em\",\n",
      "      \"upos\": \"ADP\",\n",
      "      \"head\": 4,\n",
      "      \"deprel\": \"case\"\n",
      "    },\n",
      "    {\n",
      "      \"id\": 3,\n",
      "      \"text\": \"o\",\n",
      "      \"lemma\": \"o\",\n",
      "      \"upos\": \"DET\",\n",
      "      \"feats\": \"Definite=Def|Gender=Masc|Number=Sing|PronType=Art\",\n",
      "      \"head\": 4,\n",
      "      \"deprel\": \"det\"\n",
      "    },\n",
      "    {\n",
      "      \"id\": 4,\n",
      "      \"text\": \"Hospício\",\n",
      "      \"lemma\": \"Hospício\",\n",
      "      \"upos\": \"PROPN\",\n",
      "      \"feats\": \"Gender=Masc|Number=Sing\",\n",
      "      \"head\": 0,\n",
      "      \"deprel\": \"root\",\n",
      "      \"start_char\": 9,\n",
      "      \"end_char\": 17\n",
      "    },\n",
      "    {\n",
      "      \"id\": 5,\n",
      "      \"text\": \"ou\",\n",
      "      \"lemma\": \"ou\",\n",
      "      \"upos\": \"CCONJ\",\n",
      "      \"head\": 11,\n",
      "      \"deprel\": \"cc\",\n",
      "      \"start_char\": 18,\n",
      "      \"end_char\": 20,\n",
      "      \"misc\": \"SpaceAfter=No\"\n",
      "    },\n",
      "    {\n",
      "      \"id\": 6,\n",
      "      \"text\": \",\",\n",
      "      \"lemma\": \",\",\n",
      "      \"upos\": \"PUNCT\",\n",
      "      \"head\": 7,\n",
      "      \"deprel\": \"punct\",\n",
      "      \"start_char\": 20,\n",
      "      \"end_char\": 21\n",
      "    },\n",
      "    {\n",
      "      \"id\": 7,\n",
      "      \"text\": \"melhor\",\n",
      "      \"lemma\": \"melhor\",\n",
      "      \"upos\": \"ADV\",\n",
      "      \"head\": 4,\n",
      "      \"deprel\": \"advmod\",\n",
      "      \"start_char\": 22,\n",
      "      \"end_char\": 28,\n",
      "      \"misc\": \"SpaceAfter=No\"\n",
      "    },\n",
      "    {\n",
      "      \"id\": 8,\n",
      "      \"text\": \",\",\n",
      "      \"lemma\": \",\",\n",
      "      \"upos\": \"PUNCT\",\n",
      "      \"head\": 7,\n",
      "      \"deprel\": \"punct\",\n",
      "      \"start_char\": 28,\n",
      "      \"end_char\": 29\n",
      "    },\n",
      "    {\n",
      "      \"id\": 9,\n",
      "      \"text\": \"em\",\n",
      "      \"lemma\": \"em\",\n",
      "      \"upos\": \"ADP\",\n",
      "      \"head\": 11,\n",
      "      \"deprel\": \"case\",\n",
      "      \"start_char\": 30,\n",
      "      \"end_char\": 32\n",
      "    },\n",
      "    {\n",
      "      \"id\": 10,\n",
      "      \"text\": \"várias\",\n",
      "      \"lemma\": \"várias\",\n",
      "      \"upos\": \"DET\",\n",
      "      \"feats\": \"Gender=Fem|Number=Plur|PronType=Ind\",\n",
      "      \"head\": 11,\n",
      "      \"deprel\": \"det\",\n",
      "      \"start_char\": 33,\n",
      "      \"end_char\": 39\n",
      "    },\n",
      "    {\n",
      "      \"id\": 11,\n",
      "      \"text\": \"dependências\",\n",
      "      \"lemma\": \"dependência\",\n",
      "      \"upos\": \"NOUN\",\n",
      "      \"feats\": \"Gender=Fem|Number=Plur\",\n",
      "      \"head\": 4,\n",
      "      \"deprel\": \"conj\",\n",
      "      \"start_char\": 40,\n",
      "      \"end_char\": 52\n",
      "    },\n",
      "    {\n",
      "      \"id\": [\n",
      "        12,\n",
      "        13\n",
      "      ],\n",
      "      \"text\": \"dele\",\n",
      "      \"start_char\": 53,\n",
      "      \"end_char\": 57,\n",
      "      \"misc\": \"SpaceAfter=No\"\n",
      "    },\n",
      "    {\n",
      "      \"id\": 12,\n",
      "      \"text\": \"de\",\n",
      "      \"lemma\": \"de\",\n",
      "      \"upos\": \"ADP\",\n",
      "      \"head\": 13,\n",
      "      \"deprel\": \"case\"\n",
      "    },\n",
      "    {\n",
      "      \"id\": 13,\n",
      "      \"text\": \"ele\",\n",
      "      \"lemma\": \"ele\",\n",
      "      \"upos\": \"PRON\",\n",
      "      \"feats\": \"Gender=Masc|Number=Sing|Person=3|PronType=Prs\",\n",
      "      \"head\": 11,\n",
      "      \"deprel\": \"nmod\"\n",
      "    },\n",
      "    {\n",
      "      \"id\": 14,\n",
      "      \"text\": \",\",\n",
      "      \"lemma\": \",\",\n",
      "      \"upos\": \"PUNCT\",\n",
      "      \"head\": 17,\n",
      "      \"deprel\": \"punct\",\n",
      "      \"start_char\": 57,\n",
      "      \"end_char\": 58\n",
      "    },\n",
      "    {\n",
      "      \"id\": 15,\n",
      "      \"text\": \"desde\",\n",
      "      \"lemma\": \"desde\",\n",
      "      \"upos\": \"ADP\",\n",
      "      \"head\": 17,\n",
      "      \"deprel\": \"case\",\n",
      "      \"start_char\": 59,\n",
      "      \"end_char\": 64\n",
      "    },\n",
      "    {\n",
      "      \"id\": 16,\n",
      "      \"text\": \"o\",\n",
      "      \"lemma\": \"o\",\n",
      "      \"upos\": \"DET\",\n",
      "      \"feats\": \"Definite=Def|Gender=Masc|Number=Sing|PronType=Art\",\n",
      "      \"head\": 17,\n",
      "      \"deprel\": \"det\",\n",
      "      \"start_char\": 65,\n",
      "      \"end_char\": 66\n",
      "    },\n",
      "    {\n",
      "      \"id\": 17,\n",
      "      \"text\": \"dia\",\n",
      "      \"lemma\": \"dia\",\n",
      "      \"upos\": \"NOUN\",\n",
      "      \"feats\": \"Gender=Masc|Number=Sing\",\n",
      "      \"head\": 11,\n",
      "      \"deprel\": \"nmod\",\n",
      "      \"start_char\": 67,\n",
      "      \"end_char\": 70\n",
      "    },\n",
      "    {\n",
      "      \"id\": 18,\n",
      "      \"text\": \"25\",\n",
      "      \"lemma\": \"25\",\n",
      "      \"upos\": \"NUM\",\n",
      "      \"feats\": \"NumType=Card\",\n",
      "      \"head\": 17,\n",
      "      \"deprel\": \"nummod\",\n",
      "      \"start_char\": 71,\n",
      "      \"end_char\": 73\n",
      "    },\n",
      "    {\n",
      "      \"id\": [\n",
      "        19,\n",
      "        20\n",
      "      ],\n",
      "      \"text\": \"do\",\n",
      "      \"start_char\": 74,\n",
      "      \"end_char\": 76\n",
      "    },\n",
      "    {\n",
      "      \"id\": 19,\n",
      "      \"text\": \"de\",\n",
      "      \"lemma\": \"de\",\n",
      "      \"upos\": \"ADP\",\n",
      "      \"head\": 21,\n",
      "      \"deprel\": \"case\"\n",
      "    },\n",
      "    {\n",
      "      \"id\": 20,\n",
      "      \"text\": \"o\",\n",
      "      \"lemma\": \"o\",\n",
      "      \"upos\": \"DET\",\n",
      "      \"feats\": \"Definite=Def|Gender=Masc|Number=Sing|PronType=Art\",\n",
      "      \"head\": 21,\n",
      "      \"deprel\": \"det\"\n",
      "    },\n",
      "    {\n",
      "      \"id\": 21,\n",
      "      \"text\": \"mês\",\n",
      "      \"lemma\": \"mês\",\n",
      "      \"upos\": \"NOUN\",\n",
      "      \"feats\": \"Gender=Masc|Number=Sing\",\n",
      "      \"head\": 17,\n",
      "      \"deprel\": \"nmod\",\n",
      "      \"start_char\": 77,\n",
      "      \"end_char\": 80\n",
      "    },\n",
      "    {\n",
      "      \"id\": 22,\n",
      "      \"text\": \"passado\",\n",
      "      \"lemma\": \"passado\",\n",
      "      \"upos\": \"ADJ\",\n",
      "      \"feats\": \"Gender=Masc|Number=Sing\",\n",
      "      \"head\": 21,\n",
      "      \"deprel\": \"amod\",\n",
      "      \"start_char\": 81,\n",
      "      \"end_char\": 88,\n",
      "      \"misc\": \"SpaceAfter=No\"\n",
      "    },\n",
      "    {\n",
      "      \"id\": 23,\n",
      "      \"text\": \".\",\n",
      "      \"lemma\": \".\",\n",
      "      \"upos\": \"PUNCT\",\n",
      "      \"head\": 4,\n",
      "      \"deprel\": \"punct\",\n",
      "      \"start_char\": 88,\n",
      "      \"end_char\": 89,\n",
      "      \"misc\": \"SpaceAfter=No\"\n",
      "    }\n",
      "  ]\n",
      "]\n"
     ]
    }
   ],
   "source": [
    "doc = pipeline_pt('Estou no Hospício ou, melhor, em várias dependências dele, desde o dia 25 do mês passado.')\n",
    "print(doc)"
   ]
  },
  {
   "cell_type": "code",
   "execution_count": null,
   "metadata": {
    "id": "QU3qdOKeD3MZ"
   },
   "outputs": [],
   "source": [
    "import numpy as np"
   ]
  },
  {
   "cell_type": "code",
   "execution_count": null,
   "metadata": {
    "id": "2VadeW2DJ_dT"
   },
   "outputs": [],
   "source": [
    "ex_text = '''Ich bin seit dem 25. des letzten Monats im Hospiz, oder vielmehr in verschiedenen Teilen davon. Ich war auf der Beobachtungsstation, die die schlimmste Stufe für diejenigen ist, die wie ich hier in die Hände der Polizei geraten.\n",
    "Sie nehmen dir die Kleidung weg, die du trägst, und geben dir eine andere, die nur deine Blöße bedeckt, und sie geben dir nicht einmal Hausschuhe oder Clogs. Das andere Mal, als ich dort war, haben sie mir dieses Kleidungsstück geschenkt, das jetzt für mich unverzichtbar ist. Diesmal nicht. Die alte Krankenschwester war menschlich und gut; die jetzige ist eine arrogante Portugiesin (die andere war es), mit einer prahlerischen und anmaßenden Physiognomie.\n",
    "'''"
   ]
  },
  {
   "cell_type": "markdown",
   "metadata": {
    "id": "z5Q2vO3-CyS-"
   },
   "source": [
    "# Text and Statistics"
   ]
  },
  {
   "cell_type": "code",
   "execution_count": null,
   "metadata": {
    "id": "2C89c-ix5OHi"
   },
   "outputs": [],
   "source": [
    "#FULLY ALIGNED O Pavilhão e a Pinel (PEMT)\n",
    "\n",
    "ST ='''Estou no Hospício ou, melhor, em várias dependências dele, desde o dia 25 do mês passado. Estive no pavilhão de observações, que é a pior etapa de quem, como eu, entra para aqui pelas mãos da polícia.\n",
    "Tiram-nos a roupa que trazemos e dão-nos uma outra, só capaz de cobrir a nudez, e nem chinelos ou tamancos nos dão. Da outra vez que lá estive me deram essa peça do vestuário que me é hoje indispensável. Desta vez, não. O enfermeiro antigo era humano e bom; o atual é um português (o outro o era) arrogante, com uma fisionomia bragantina e presumida. Deram-me uma caneca de mate e, logo em seguida, ainda dia claro, atiraram-me sobre um colchão de capim com uma manta pobre, muito conhecida de toda a nossa pobreza e miséria.\n",
    "Não me incomodo muito com o hospício, mas o que me aborrece é essa intromissão da polícia na minha vida. De mim para mim, tenho certeza que não sou louco, mas devido ao álcool, misturado com toda a espécie de apreensões que as dificuldades de minha vida material há 6 anos me assoberbam, de quando em quando dou sinais de loucura: deliro.\n",
    "Além dessa primeira vez que estive no hospício, fui atingido por crise idêntica, em Ouro Fino, e levado para a Santa Casa de lá, em 1916; em 1917, recolheram-me ao Hospital Central do Exército, pela mesma razão; agora, volto ao hospício.\n",
    "Estou seguro que não voltarei a ele pela terceira vez; senão, saio dele para o São João Batista, que é próximo. Estou incomodando muito os outros, inclusive os meus parentes. Não é justo que tal continue. Quanto aos meus amigos, nenhum apareceu, senão o senhor Carlos Ventura e o sobrinho.\n",
    "Este senhor Carlos Ventura é um velho homem, tem uma venda na Rua Piauí, em Todos os Santos, fornece para a nossa casa, e foi com auxílio dele que me conseguiram laçar e trazer-me até ao hospício. Acompanharam-me o Alípio e o Jorge.\n",
    "Passei a noite de 25 no pavilhão, dormindo muito bem, pois a de 24 tinha passado em claro, errando pelos subúrbios, em pleno delírio.\n",
    "Amanheci, tomei café e pão e fui à presença de um médico, que me disseram chamar-se Adauto .Tratou-me ele com indiferença, fez-me perguntas e deu a entender que, por ele, me punha na rua.\n",
    "Voltei para o pátio. Que coisa, meu Deus! Estava ali que nem um peru, no meio de muitos outros, pastoreado por um bom português, que tinha um ar rude, mas doce e compassivo, de camponês transmontano. Ele já me conhecia da outra vez. Chamava-me você e me deu cigarros. Da outra vez, fui para a casa-forte e ele me fez baldear a varanda, lavar o banheiro, onde me deu um excelente banho de ducha de chicote. Todos nós estávamos nus, as portas abertas, e eu tive muito pudor. Eu me lembrei do banho de vapor de Dostoiévski, na Casa dos Mortos. Quando baldeei, chorei; mas lembrei de Cervantes, do próprio Dostoiévski, que pior deviam ter sofrido em Argel e na Sibéria.\n",
    "Desta vez, não me fizeram baldear a varanda, nem outro serviço. Já tinha pago o tributo... Fui para o pátio, após o doutor Adauto; mas, bem depressa, fui chamado à varanda de novo. Sentei-me ao lado de um preto moço, tipo completo do espécimen mais humilde da nossa sociedade. Vestia umas calças que me ficavam pelas canelas, uma camisa cujas mangas me ficavam por dois terços do antebraço e calçava uns chinelos muito sujos, que tinha descoberto no porão da varanda.\n",
    "Tinha que ser examinado pelo Henrique Roxo. Há quatro anos, nós nos conhecemos. É bem curioso esse Roxo. Ele me parece inteligente, estudioso, honesto; mas não sei por que não simpatizo com ele. Ele me parece desses médicos brasileiros imbuídos de um ar de certeza de sua arte, desdenhando inteiramente toda a outra atividade intelectual que não a sua e pouco capaz de examinar o fato por si. Acho-o muito livresco e pouco interessado em descobrir, em levantar um pouco o véu do mistério -que mistério!- que há na especialidade que professa. Lê os livros da Europa, dos Estados Unidos, talvez; mas não lê a natureza. Não tenho por ele antipatia; mas nada me atrai a ele.\n",
    "Perguntou-me por meu pai e eu lhe dei informações.\n",
    "Depois, disse-lhe que tinha sido posto ali por meu irmão, que tinha fé na onipotência da ciência e a crendice do hospício. Creio que ele não gostou.\n",
    "Acompanhava-o uma espécie de interno, que tinha uma cara bovina, apesar do pince-nez. Tanto lá, como aqui, no hospício, os internos evitam conversar com os doentes: morgue ou regulamento? No tempo de meu pai não era assim e, desde que eles descobrissem um doente em nossa casa, se aproximavam e conversavam.\n",
    "Decididamente, a mocidade acadêmica, de que fiz parte, cada vez mais fica mais presunçosa e oca.\n",
    "Julguei, apesar de tudo, que o Roxo me mandasse embora, tanto assim que, após o almoço-jantar, quando o tal bragança enfermeiro me chamou, pensei que fosse para ir-me embora. Não foi.\n",
    "Lembro-me agora de um fato; o guarda-civil, que me esperou na porta do hospício, pois não veio comigo nenhum polícia, dirigindo-se a ele, tratou-o mais de uma vez de doutor; ele, porém, nunca protestou.\n",
    "Chamou-me o bragantino e levou-me pelos corredores e pátios até ao hospício propriamente. Aí é que percebi que ficava e onde, na seção, na de indigentes, aquela em que a imagem do que a Desgraça pode sobre a vida dos homens é mais formidável.\n",
    "O mobiliário, o vestuário das camas, as camas, tudo é de uma pobreza sem par. Sem fazer monopólio, os loucos são da proveniência mais diversa, originando-se em geral das camadas mais pobres da nossa gente pobre. São de imigrantes italianos, portugueses e outros mais exóticos, são os negros roceiros, que teimam em dormir pelos desvãos das janelas sobre uma esteira esmolambada e uma manta sórdida; são copeiros, cocheiros, moços de cavalariça, trabalhadores braçais. No meio disto, muitos com educação, mas que a falta de recursos e proteção atira naquela geena social.\n",
    "Vi lá o D... L..., um poeta alegre, companheiro do Tapajós, que conheci assim, assim e depois montou um colégio em Vila Isabel. Parece-me que ele prosperou, mas, vindo a equiparação e não tendo ele recursos para equipará-lo ao ginásio (depósito de cinqüenta contos e quota de fiscalização), foi perdendo a freqüência, ele se desgostou, endividou-se e enlouqueceu. Cumprimentou-me, mas não quis falar comigo.\n",
    "Esperei o médico. Era um doutor Airosa, creio eu ser esse o nome, interrogou-me, respondi-lhe com toda a verdade, e ele não me pareceu mau rapaz, mas sorriu enigmaticamente, ou, como dizendo: «você fica mesmo aí» ou querendo exprimir que os meus méritos literários nada valiam, naturalmente à vista das burrices do Aluísio. Fosse uma coisa, fosse outra, fossem ambas conjuntamente, não me agastei. Ele era muito moço; na sua idade, no caso dele, eu talvez pensasse da mesma forma.\n",
    "O enfermeiro-mor ou inspetor era o Santana. Um mulato forte, simpático, olhos firmes, um pouco desconfiados, rosto oval, que foi muito bom para mim. Ele fora empregado na ilha, quando meu pai lá era almoxarife ou administrador, e se lembrava dele com amizade.\n",
    "Deu-me uma cama, numa seção mais razoável, arranjou que eu comesse com os pensionistas de quarta classe e, no dia seguinte, fez-me dormir num quarto, com um estudante de medicina, Queirós, que um ataque tornara hemiplégico e meio aluado.\n",
    "Tratou-me bem esse moço, conquanto não deixasse de ter, como eu já tive, essa presunção infantil do nosso estudante, que se julga, só por sê-lo, diferente dos outros. Dei-lhe a entender que já o havia sido; ele pareceu não acreditar.\n",
    "Dormi a noite de 26 no dormitório geral e a de 27 no quarto do estudante. Vinte e oito foi domingo, recebi visitas do meu irmão e do senhor Ventura, ambos me trouxeram cigarros, e o senhor Ventura, passas e figos. Ainda desta vez, dormi no quarto, com o estudante.\n",
    "Na Seção Pinel, que é a de que estou falando, reatei conhecimento com um rapaz português, que me conheceu quando era estudante e comia na pensão do Ferraz, isto deve ter sido há vinte anos ou mais. Durante os dias em que lá estive, ele, o José Pinto, me foi de um préstimo inesquecível. Relembrava ao porteiro a ordem que eu tinha do Santana de ir tomar refeições no refeitório especial, arranjava-me jornais (Santana também), cigarros (contarei essa tragédia manicomial em separado) e, na tarde de domingo, levou-me a passear pela chácara do hospício.\n",
    "É muito grande e, apesar de estiolada e maltratada, a sua arborização devia ter sido maravilhosa. Os ricos de hoje não gostam de árvores...\n",
    "O hospício é bem construído e, pelo tempo em que o edificaram, com bem acentuados cuidados higiênicos.\n",
    "As salas são claras, os quartos amplos, de acordo com a sua capacidade e destino, tudo bem arejado, com o ar azul dessa linda enseada de Botafogo que nos consola na sua imarcescível beleza, quando a olhamos levemente enrugada pelo terral, através das grades do manicômio, quando amanhecemos lembrando que não sabemos sonhar mais... Lá entra por ela adentro uma falua, com velas enfunadas e sem violentar; e na rua embaixo passam moças em traje de banho, com as suas bacias a desenharem-se nítidas no calção, até agora inúteis.\n",
    "Na segunda-feira, antes que meu irmão viesse, fui à presença do doutor Juliano Moreira. Tratou-me com grande ternura, paternalmente, não me admoestou, fez-me sentar a seu lado e perguntou-me onde queria ficar. Disse-lhe que na Seção Calmeil. Deu ordens ao Santana e, em breve, lá estava eu.\n",
    "Paro aqui, pois me canso; mas não posso deixar de consignar a singular mania que têm os doidos, principalmente os de baixa extração, de andarem nus. Na Pinel, dez por cento assim viviam, num pátio que era uma bolgia do inferno. Por que será?'''\n",
    "MT = '''Ich bin seit dem 25. des letzten Monats im Hospiz, oder vielmehr in verschiedenen Teilen davon. Ich war auf der Beobachtungsstation, die die schlimmste Stufe für diejenigen ist, die wie ich hier in die Hände der Polizei geraten.\n",
    "Sie nehmen dir die Kleidung weg, die du trägst, und geben dir eine andere, die nur deine Blöße bedeckt, und sie geben dir nicht einmal Hausschuhe oder Clogs. Das andere Mal, als ich dort war, haben sie mir dieses Kleidungsstück geschenkt, das jetzt für mich unverzichtbar ist. Diesmal nicht. Die alte Krankenschwester war menschlich und gut, die jetzige ist eine arrogante Portugiesin (die andere war es), mit einer prahlerischen und anmaßenden Physiognomie. Sie gaben mir einen Becher Mate, und danach, als es noch hell war, warfen sie mich auf eine Grasmatratze mit einer armen Decke, bekannt für unsere ganze Armut und unser Elend.\n",
    "Das Hospiz stört mich nicht sehr, aber was mich stört, ist dieses Eindringen der Polizei in mein Leben. Von mir zu mir, ich bin sicher, dass ich nicht verrückt bin, aber wegen des Alkohols, gemischt mit allen Arten von Befürchtungen, dass die Schwierigkeiten meines materiellen Lebens seit 6 Jahren mich überwältigen, von Zeit zu Zeit gebe ich Zeichen des Wahnsinns: Ich Delirium.\n",
    "Außer diesem ersten Mal, als ich im Irrenhaus war, wurde ich 1916 in Ouro Fino von einer identischen Krise heimgesucht und in die dortige Santa Casa gebracht, 1917 wurde ich aus demselben Grund in das Zentralkrankenhaus der Armee gebracht, jetzt gehe ich wieder ins Irrenhaus.\n",
    "Ich bin mir sicher, dass ich nicht ein drittes Mal dorthin zurückkehren werde, andernfalls werde ich es für St. Johannes der Täufer verlassen, der in der Nähe liegt. Ich störe andere sehr, auch meine Verwandten. Es ist nicht fair, dass dies so weitergeht. Was meine Freunde angeht, so ist keiner von ihnen aufgetaucht, außer Mr. Carlos Ventura und sein Neffe.\n",
    "Dieser Herr Carlos Ventura ist ein alter Mann, er hat einen Verkauf in der Piauí Straße, in Todos os Santos, er beliefert unser Haus, und mit seiner Hilfe haben sie es geschafft, mich mit dem Lasso einzufangen und ins Hospiz zu bringen. Alípio und Jorge begleiteten mich.\n",
    "Die Nacht zum 25. verbrachte ich im Pavillon und schlief sehr gut, denn die Nacht zum 24, hatte ich im Schlaf verbracht, indem ich im vollen Delirium in der Vorstadt herumirrte.\n",
    "Ich aß Kaffee und Brot und ging zu einem Arzt, von dem man mir sagte, er heiße Adauto. Er behandelte mich mit Gleichgültigkeit, stellte mir Fragen und deutete an, dass er mich für ihn rauswerfen würde.\n",
    "Ich ging zurück in den Hof. Was für ein Ding, mein Gott! Ich war dort wie ein Truthahn, inmitten vieler anderer, gehütet von einem guten portugiesischen Mann, der die raue, aber süße und mitfühlende Art eines Bauern aus Trás-os-Montes hatte. Er kannte mich schon vom anderen Mal. Er nannte mich Sie und gab mir Zigaretten. Das andere Mal ging ich in die Villa und er ließ mich die Veranda schaufeln, das Badezimmer waschen, wo er mir ein ausgezeichnetes Peitschen-Duschbad verpasste. Wir waren alle nackt, die Türen offen, und ich war sehr schüchtern. Ich erinnerte mich an Dostojewskis Dampfbad im Haus der Toten. Als ich kübelte, weinte ich, aber ich erinnerte mich an Cervantes, an Dostojewski selbst, die schlimmer in Algier und Sibirien hätten leiden müssen.\n",
    "Dieses Mal haben sie mich nicht dazu gebracht, den Balkon oder einen anderen Service zu kaufen. Ich hatte den Tribut bereits entrichtet... Ich ging in den Innenhof, nach Doktor Adauto, aber sehr bald wurde ich wieder auf den Balkon gerufen. Ich setzte mich neben einen jungen schwarzen Mann, ein kompletter Typ des bescheidensten Exemplars unserer Gesellschaft. Er trug eine Hose, die bis zu den Schienbeinen reichte, ein Hemd, dessen Ärmel bis zu zwei Dritteln der Unterarme reichten, und sehr schmutzige Hausschuhe, die ich im Keller der Veranda entdeckt hatte.\n",
    "Ich musste von Henrique Roxo untersucht werden. Vor vier Jahren lernten wir uns kennen. Dieser Roxo ist sehr neugierig. Er scheint mir intelligent, fleißig, ehrlich, aber ich weiß nicht, warum ich nicht mit ihm sympathisiere. Er scheint mir einer jener brasilianischen Ärzte zu sein, die von der Gewissheit ihrer Kunst durchdrungen sind, die jede andere intellektuelle Tätigkeit als die eigene völlig verachten und kaum in der Lage sind, die Tatsache selbst zu überprüfen. Ich finde ihn sehr buchhalterisch und wenig daran interessiert, zu entdecken, ein wenig den Schleier des Geheimnisses zu lüften - was für ein Geheimnis! Er liest die Bücher von Europa, von den Vereinigten Staaten vielleicht, aber er liest nicht die Natur. Ich habe keine Antipathie gegen ihn, aber nichts zieht mich zu ihm hin.\n",
    "Er fragte mich nach meinem Vater, und ich gab ihm Auskunft.\n",
    "Dann erzählte ich ihm, dass ich von meinem Bruder dorthin gesteckt worden war, der an die Allmacht der Wissenschaft und den Glauben an das Irrenhaus glaubte. Ich glaube, er hat es nicht gemocht.\n",
    "Ihn begleitete eine Art Praktikantin, die trotz des Kneifzahns ein bovines Gesicht hatte. Sowohl dort als auch hier, im Hospiz, vermeiden die Kostgänger das Gespräch mit den Kranken: Leichenschauhaus oder Verordnung? Zu Zeiten meines Vaters war das nicht so, und sobald sie einen kranken Menschen in unserem Haus entdeckten, gingen sie auf ihn zu und sprachen ihn an.\n",
    "Die akademische Jugend, der ich angehörte, wird entschieden immer anmaßender und hohler.\n",
    "Ich dachte, trotz allem, dass Roxo mich wegschicken würde, so sehr, dass ich nach dem Mittagessen, als diese Krankenschwester bragança mich rief, dachte, es sei, um zu gehen. Das war es nicht.\n",
    "Ich erinnere mich jetzt an eine Tatsache, der Zivilwächter, der an der Tür des Hospizes auf mich wartete, da kein Polizist mit mir kam, sprach ihn an und nannte ihn mehr als einmal Doktor, er protestierte jedoch nie.\n",
    "Er nannte mich die Bragantin und führte mich durch die Gänge und Höfe zum eigentlichen Hospiz. Dort wurde mir klar, dass ich mich dort aufhielt, und zwar in der Abteilung, der der Bedürftigen, in der das Bild dessen, was Unglück über das Leben der Menschen bringen kann, am eindrucksvollsten ist.\n",
    "Die Möbel, das Bettzeug, die Betten, alles ist von einer unvergleichlichen Armut. Ohne ein Monopol zu bilden, sind die Verrückten unterschiedlichster Provenienz und stammen in der Regel aus den ärmsten Schichten unseres armen Volkes. Sie stammen von italienischen, portugiesischen und anderen exotischeren Einwanderern, sie sind die schwarzen Bauern, die darauf bestehen, in den Fensteröffnungen auf einer schmuddeligen Matte und einer schäbigen Decke zu schlafen, sie sind Mundschenke, Kutscher, Stallburschen, Handarbeiter. Inmitten von all dem gab es viele gebildete Menschen, die aber aus Mangel an Mitteln und Schutz in dieses soziale Gehenna geworfen wurden.\n",
    "Ich sah dort D... L..., ein fröhlicher Dichter, ein Weggefährte von Tapajós, den ich so und so kennengelernt habe, und dann hat er in Vila Isabel eine Schule gegründet. Es scheint mir, dass es ihm gut ging, aber als die Gleichstellung kam und er nicht die Mittel hatte, um daraus ein Gymnasium zu machen (eine Kaution von fünfzigtausend Escudos und eine Aufsichtsquote), verlor er die Teilnahme, wurde angewidert, verschuldete sich und wurde verrückt. Er grüßte mich, aber er wollte nicht mit mir sprechen.\n",
    "Ich habe auf den Arzt gewartet. Es war ein Doktor Airosa, ich glaube, so hieß er, er befragte mich, ich antwortete ihm wahrheitsgemäß, und er schien kein schlechter Kerl zu sein, aber er lächelte rätselhaft, so als wolle er sagen: \"Du bleibst hier\" oder zum Ausdruck bringen, dass meine literarischen Verdienste wertlos seien, natürlich angesichts der Dummheiten von Aluisio. Ob es nun das eine oder das andere war, oder beides zusammen, ich habe mich nicht aufgeregt. Er war sehr jung, in seinem Alter hätte ich in seinem Fall vielleicht auch so gedacht.\n",
    "Die Oberschwester oder Inspektorin war Santana. Ein kräftiger, freundlicher Mulatte, feste Augen, ein wenig wachsam, ovales Gesicht, der sehr gut zu mir war. Er war auf der Insel angestellt gewesen, als mein Vater dort Steward oder Verwalter war, und er erinnerte sich in Freundschaft an ihn.\n",
    "Er gab mir ein Bett in einer vernünftigeren Abteilung, sorgte dafür, dass ich mit den Internatsschülern der vierten Klasse aß, und ließ mich am nächsten Tag in einem Zimmer mit einem Medizinstudenten, Queirós, schlafen, der durch einen Anfall halbseitig gelähmt und halbwertig geworden war.\n",
    "Er behandelte mich gut, obwohl er nicht ohne diese kindische Anmaßung unseres Schülers war, der denkt, er sei anders als die anderen, nur weil er anders ist. Ich gab ihm zu verstehen, dass ich schon einer gewesen sei, er schien mir nicht zu glauben.\n",
    "Die Nacht vom 26. auf den 27. schlief ich im allgemeinen Schlafsaal, den 27. im Studentenzimmer. Achtundzwanzig war Sonntag, ich hatte Besuch von meinem Bruder und Herrn Ventura, beide brachten mir Zigaretten, und Herr Ventura, Rosinen und Feigen. Auch dieses Mal schlief ich im Zimmer mit dem Studenten.\n",
    "In der Sektion Pinel, von der ich spreche, lernte ich einen portugiesischen Jungen wieder kennen, der mich schon kannte, als ich noch Student war und in der Ferraz-Pension aß, das muss zwanzig Jahre oder mehr her sein. Während der Tage, die ich dort war, war er, José Pinto, eine unvergessliche Hilfe für mich. Er erinnerte den Portier an den Auftrag von Santana, die Mahlzeiten im speziellen Speisesaal einzunehmen, er besorgte mir Zeitungen (auch Santana), Zigaretten (diese Irrenhaus-Tragödie werde ich gesondert erzählen) und am Sonntagnachmittag machte er mit mir einen Spaziergang durch den Hospizhof.\n",
    "Sie ist sehr groß und sollte trotz ihrer Verkrüppelung und Misshandlung eine wunderbare Arborealisation haben. Die reichen Leute von heute mögen keine Bäume...\n",
    "Das Hospiz ist gut gebaut und für die Zeit, in der es gebaut wurde, mit sehr ausgeprägter hygienischer Pflege.\n",
    "Die Räume sind klar, die Zimmer großzügig, entsprechend ihrer Kapazität und Bestimmung, alles gut gelüftet, mit der blauen Luft dieser schönen Bucht von Botafogo, die uns in ihrer unerbittlichen Schönheit tröstet, wenn wir sie leicht von der Erde zerknittert durch die Gitterstäbe des Irrenhauses betrachten, wenn wir dämmern und uns daran erinnern, dass wir nicht mehr wissen, wie wir träumen sollen... Dort fährt eine Falua ein, mit geschmückten Segeln, und auf der Straße unten gehen Mädchen in Badekleidern vorbei, die ihre Waschbecken scharf in den Rüssel ziehen, bis jetzt unbrauchbar.\n",
    "Am Montag, bevor mein Bruder kam, ging ich zu Dr. Juliano Moreira. Er behandelte mich mit großer Zärtlichkeit, väterlich, ermahnte mich nicht, ließ mich an seiner Seite sitzen und fragte mich, wo ich bleiben wolle. Ich habe es ihm in der Calmeil-Sektion gesagt. Er gab Santana Anweisungen, und bald war ich da.\n",
    "Ich will hier aufhören, denn ich werde müde, aber ich kann nicht umhin, die eigentümliche Manie zu nennen, die die Geisteskranken haben, besonders die von niedriger Herkunft, nackt zu gehen. Im Pinel lebten zehn Prozent so, in einem Innenhof, der eine Bolgia aus der Hölle war. Warum ist das so?\n",
    "'''\n",
    "PEMT = '''Seit dem 25. des vergangenen Monats bin ich in der Irrenanstalt, genauer, in ihren verschiedenen Abteilungen. Zunächst war ich im Beobachtungspavillon, der schlimmsten Station für einen, der wie ich von der Polizei eingeliefert wurde.\n",
    "Man nimmt uns, was wir am Leibe tragen, und gibt uns ein Hemd, das kaum die Blöße bedeckt, nicht einmal Hausschuhe oder Pantoffeln bekommen wir. Das letzte Mal gaben sie mir noch welche, sie sind mir unverzichtbar geworden. Diesmal nicht. Der Krankenpfleger damals war menschlich und gut, der jetzige ist (wie schon der vorige) Portugiese, aber überheblich, mit den selbstgefälligen Gesichtszügen aus dem Hause Braganza. Man gab mir einen Becher Mate; sodann, es war noch hell, stieß man mich auf eine mit Gras ausgestopfte Matratze mit einer armseligen Decke, die nur allzu gut um unser Leid und Elend wusste.\n",
    "In der Anstalt zu sein ist nicht so schlimm für mich, aber es verdrießt mich, wie sehr sich die Polizei in mein Leben mengt. Bei mir gesagt, ich bin sicher, dass ich nicht verrückt bin, aber der Alkohol, zusammen mit all den Sorgen um die materiellen Nöte meines Lebens, die mich seit sechs Jahren peinigen, treibt mich von Zeit zu Zeit in den Wahnsinn, ins Delirium.\n",
    "Von meinem ersten Aufenthalt hier abgesehen, wurde ich 1916 in Ouro Fino von einer ebensolchen Krise heimgesucht und in die die dortige Santa Casa  gebracht, im Jahr darauf landete ich aus demselben Grund im Heeresspital von Rio de Janeiro, nun bin ich zurück im Irrenhaus.\n",
    "Ein drittes Mal werde ich gewiss nicht hierherkommen, andernfalls lasse ich mich nach São João Batista, dem nahegelegenen Friedhof, verlegen. Meine Mitmenschen verstört das alles sehr, auch meine Verwandten. So soll es nicht weitergehen. Was meine Freunde betrifft, so hat sich, außer Senhor Carlos Ventura und seinem Neffen, kein einziger blicken lassen.\n",
    "Dieser Carlos Ventura ist ein älterer Herr, ihm gehört der Laden in der Rua Piauí in Todos os Santos, der auch unser Haus beliefert, mit seiner Hilfe ist es ihnen gelungen, mich einzufangen und hierher zu bringen. Alípio und Jorge begleiteten mich.\n",
    "Die Nacht des 25. verbrachte ich im Pavillon und schlief sehr gut, während ich die Nacht des 24. schlaflos, in vollem Delirium durch die Vorstädte irrte.\n",
    "Ich erwachte, nahm Brot und Kaffee zu mir und kam zu einem Arzt, von dem es hieß, er höre auf den Namen Adauto. Er behandelte mich mit Gleichgültigkeit, stellte einige Fragen und ließ durchblicken, dass er mich, ginge es nach ihm, auf die Straße setzen würde.\n",
    "Ich kehrte in den Innenhof zurück. Ach, Gott! Ich kam mir wie ein Truthahn vor inmitten so vieler anderer, gehütet von einem guten Portugiesen mit der rauen, aber zugleich warmen und mitfühlenden Art eines Bauern aus Trás-os-Montes. Der mich noch vom letzten Mal kannte. Er duzte mich und steckte mir Zigaretten zu. Beim letzten Mal ließ er mich die Veranda des Haupthauses schrubben und das Badezimmer putzen, wo er mir eine erstklassige Peitschen-Dusche verpasste. Wir waren alle nackt, die Türen standen offen, und ich empfand große Scham. Ich musste an das Dampfbad in Dostojewskis Totenhaus denken. Als ich das Wasser aus den Eimern schöpfte, weinte ich, aber dann dachte ich an Cervantes und an Dostojewski selbst, die wohl in Algier und in Sibirien viel schlimmer hatten leiden müssen.\n",
    "Dieses Mal musste ich weder die Veranda schrubben noch andere Arbeiten tun. Ich hatte meinen Tribut bereits entrichtet... Also ging ich in den Innenhof, nachdem ich bei Doktor Adauto gewesen war, doch sogleich rief man mich abermals zur Veranda. Ich setzte mich neben einen jungen Schwarzen, der den Typus der Allerärmsten unserer Gesellschaft vollkommen verkörperte. Ich trug eine Hose, die bis zu den Schienbeinen hinabschlotterte, ein Hemd, das kaum zwei Drittel der Unterarme bedeckte, und sehr schmutzige Pantoffeln, die ich unter der Veranda gefunden hatte.\n",
    "Ich sollte von Henrique Roxo untersucht werden. Wir kannten uns seit vier Jahren. Ein merkwürdiger Mensch, dieser Roxo. Er scheint mir klug, fleißig, aufrichtig, ich kann nicht sagen, warum ich ihn nicht recht mag. Er scheint mir einer jener brasilianischen Ärzte zu sein, die vor Gewissheit um ihre Kunst nur so strotzen und jede andere geistige Tätigkeit, der es weniger um die Fakten zu tun ist, durch und durch verachten. Ich halte ihn für sehr belesen, und kaum daran interessiert, Neues zu entdecken, den Schleier des Mysteriums – was für ein Mysterium! –, der sein Fachgebiet umhüllt, auch nur ein wenig zu lüften. Er mag wohl Bücher aus Europa, aus den Vereinigten Staaten lesen, doch die Natur, die liest er nicht. Ich hege keine Abneigung gegen ihn, aber nichts zieht mich zu ihm hin.\n",
    "Er stellte mir Fragen nach meinem Vater  und ich gab ihm Auskunft.\n",
    "Dann erzählte ich ihm, dass ich durch meinen Bruder hier gelandet sei, der an die Allmacht der Wissenschaft und die Einfalt des Irrenhauses glaube. Das hat ihm vermutlich nicht gefallen.\n",
    "Er hatte so etwas wie einen Hospitanten, der seinem Pincenez zum Trotz das Gesicht eines Rindviehs hatte. Sowohl draußen wie hier in der Anstalt vermeiden es die Hospitanten, sich mit den Kranken zu unterhalten: Morgue oder Gebot? Zur Zeit meines Vaters war das anders, sobald sie einen Kranken auch nur von weitem sahen, stürzten sie sich auf ihn, um sich mit ihm zu unterhalten.\n",
    "Wahrlich, die akademische Jugend, der auch ich angehörte, wird immer eingebildeter und hohler.\n",
    "Trotz allem war ich überzeugt, dass Roxo mich nach Hause schicken würde, und als mich der Pfleger aus dem Hause Braganza nach dem Essen zu sich rief, meinte ich, ich könne gehen. Weit gefehlt.\n",
    "Gerade fällt mir ein, dass ihn der Schutzmann, der mich am Tor der Anstalt in Empfang genommen hatte, da mich kein Polizist hineinbegleitete, mehr als einmal Doktor genannt hatte, er wies es nie zurück.\n",
    "Der bragantinische Pfleger rief mich also und führte mich durch die Gänge und Höfe bis zum eigentlichen Irrenhaus. Dort erst wurde mir klar, dass man mich dabehalten würde, und zwar in der Armenabteilung, wo sich das Bilde dessen, was das Unheil über das Leben eines Menschen zu bringen vermag, am eindrücklichsten gestaltet.\n",
    "Das Mobiliar, das Bettzeug, die Betten, alles ist von einem unvergleichlichen Elend. Die Verrückten bilden kein Monopol, sie sind von unterschiedlichster Herkunft, entstammen aber in der Regel den ärmsten Schichten unseres armen Volkes. Es sind die Abkömmlinge italienischer, portugiesischer und noch fremderer Einwanderer, es sind die Schwarzen, die Feldarbeiter, die darauf beharren, in den Fensterwinkeln auf einer zerlumpten Matte und einer schmutzigen Decke zu schlafen, es sind Kellerjungen, Kutscher, Stallburschen, Handlanger. Mitten darin auch viele mit Bildung, die aber wegen fehlender Mittel und Unterstützung in dieser gesellschaftlichen Gehenna landen.\n",
    "Ich erkannte unter ihnen Dantas Lessa, einen fröhlichen Dichter, Weggefährten des Journalisten Tapajós, den ich flüchtig kennengelernt hatte, bevor er in Vila Isabel eine Schule gründete. Es scheint mir, dass er es zu Wohlstand brachte, doch als die Gleichstellung  kam, fehlten ihm die Mittel, daraus ein Gymnasium zu machen (eine Einlage von fünfzig Milreis und der Anteil für den Fiskus), und da verlor er an Zulauf, er war verstimmt, verschuldete sich und wurde verrückt. Er grüßte mich, wollte aber nicht mit mir sprechen.\n",
    "Ich wartete auf den Arzt. Doktor Ayrosa, so glaube ich, hieß er, er befragte mich, ich antwortete ihm wahrheitsgemäß, und er schien kein schlechter Kerl zu sein, indes sein Lächeln war rätselhaft, so als wolle er sagen «Du bleibst hier» oder aber zum Ausdruck bringen, dass meine literarischen Verdienste wertlos seien, kein Wunder angesichts der Eseleien, die sein Kollege Aloísio de Castro fabrizierte. Ob es nun das eine oder das andere war, oder beides zusammen, ich ereiferte mich nicht. Er war sehr jung, in seinem Alter, an seiner Stelle hätte ich vielleicht auch so gedacht.\n",
    "Der Direktor des Hospitals oder der Inspektor hieß SantʼAna. Ein kräftiger, dunkler, freundlicher Mann mit festem, etwas misstrauischem Blick und ovalem Gesicht, der sehr gut zu mir war. Er hatte auf der Ilha do Governador gearbeitet, als mein Vater dort Lagerverwalter oder Administrator war, und er erinnerte sich freundschaftlich an ihn.\n",
    "Er wies mir ein Bett in einer vernünftigeren Abteilung zu, sorgte dafür, dass ich mit den Pensionären der vierten Klasse speiste und ließ mich am nächsten Tag in einem Zimmer mit einem Medizinstudenten namens Queirós schlafen, der seit einem Anfall halbseitig gelähmt und ein wenig irre war.\n",
    "Der junge Mann behandelte mich gut, wenngleich er die auch mir zu eigen gewesene kindische Anmaßung des Studenten, der sich den anderen überlegen dünkt, nur weil er studiert, nicht ablegte. Ich gab ihm zu verstehen, dass ich auch einmal studiert hatte, er schien mir nicht zu glauben.\n",
    "Die Nacht des 26. verbrachte ich im Schlafsaal, die des 27. im Zimmer des Studenten. Der achtundzwanzigste war ein Sonntag, ich erhielt Besuch von meinem Bruder und Herrn Ventura, beide brachten mir Zigaretten, Herr Ventura auch Feigen und Rosinen. Auch dieses Mal schlief ich im Zimmer, zusammen mit dem Studenten.\n",
    "In der Sektion Pinel, von der ich hier spreche, traf ich auf einen jungen Portugiesen, den ich kennengelernt hatte, als ich noch Student war und in der Pension Ferraz verköstigt wurde, es musste zwanzig Jahre oder noch länger her sein. Während der Tage, die ich dort verbrachte, war mir dieser José Pinto eine unvergessliche Stütze. Er erinnerte den Portier an SantʼAnas Anweisung, dass ich die Mahlzeiten im besonderen Speisesaal einnehmen könne, er besorgte mir Zeitungen (SantʼAna ebenso), Zigaretten (diese Irrenhaus-Tragödie werde ich gesondert erzählen) und am Sonntagnachmittag unternahmen wir Spaziergänge auf dem Anstaltsgelände.\n",
    "Das Areal ist weitläufig, und der Baumbestand, nunmehr verdorrt und vernachlässigt, muss einst wunderbar gewesen sein. Die Reichen von heute wissen Bäume nicht zu würdigen ...\n",
    "Die Bauweise der Anstalt ist gut, und war für die Zeit, in der sie errichtet wurde, von ausgeprägter hygienischer Sorgfalt.\n",
    "Die Räume sind hell, die Zimmer großzügig, ihrer Kapazität und Bestimmung entsprechend, alles ist gut durchlüftet von der blauen Luft dieser herrlichen Bucht von Botafogo, die uns in ihrer unvergänglichen Schönheit tröstet, wenn wir sie, vom ablandigen Winde leicht zerfurcht, durch die Gitterstäbe der Anstalt betrachten, wenn wir erwachen und uns gewahr werden, dass wir nicht mehr zu träumen wissen...\n",
    "\n",
    "Sanft und mit geblähten Segeln gleitet eine Falua in die Bucht, und auf der Straße unten ziehen Mädchen in Badekleidern vorüber, deren noch unnütze Hüften sich deutlich unter dem engen Stoff abzeichnen.\n",
    "Am Montag, bevor mein Bruder kam, suchte ich Dr. Juliano Moreira auf. Er behandelte mich mit väterlicher Zärtlichkeit, rügte mich nicht, ließ mich an seiner Seite sitzen und fragte mich, wo ich untergebracht sein wolle. Ich sagte, in der Sektion Calmeil. Er erteilte SantʼAna die Anweisung und kurz darauf fand ich mich dort ein.\n",
    "Hier will ich nun innehalten, denn ich werde müde, doch kann ich nicht umhin, noch jene eigentümliche Manie der Geisteskranken, vor allem derer von niederer Herkunft, anzuführen, nämlich nackt herumzulaufen. Zehn Prozent in der Sektion Pinel fristeten auf diese Weise ihr Dasein, im Innenhof, ein Graben  aus der Hölle. Warum mag das so sein?\n",
    "'''\n",
    "PEMT_fn = '''Seit dem 25. des vergangenen Monats bin ich in der Irrenanstalt, genauer, in ihren verschiedenen Abteilungen. Zunächst war ich im Beobachtungspavillon, der schlimmsten Station für einen, der wie ich von der Polizei eingeliefert wurde.\n",
    "Man nimmt uns, was wir am Leibe tragen, und gibt uns ein Hemd, das kaum die Blöße bedeckt, nicht einmal Hausschuhe oder Pantoffeln bekommen wir. Das letzte Mal gaben sie mir noch welche, sie sind mir unverzichtbar geworden. Diesmal nicht. Der Krankenpfleger damals war menschlich und gut, der jetzige ist (wie schon der vorige) Portugiese, aber überheblich, mit den selbstgefälligen Gesichtszügen aus dem Hause Braganza. Man gab mir einen Becher Mate; sodann, es war noch hell, stieß man mich auf eine mit Gras ausgestopfte Matratze mit einer armseligen Decke, die nur allzu gut um unser Leid und Elend wusste.\n",
    "In der Anstalt zu sein ist nicht so schlimm für mich, aber es verdrießt mich, wie sehr sich die Polizei in mein Leben mengt. Bei mir gesagt, ich bin sicher, dass ich nicht verrückt bin, aber der Alkohol, zusammen mit all den Sorgen um die materiellen Nöte meines Lebens, die mich seit sechs Jahren peinigen, treibt mich von Zeit zu Zeit in den Wahnsinn, ins Delirium.\n",
    "Von meinem ersten Aufenthalt hier abgesehen, wurde ich 1916 in Ouro Fino von einer ebensolchen Krise heimgesucht und in die die dortige Santa Casa  gebracht, im Jahr darauf landete ich aus demselben Grund im Heeresspital von Rio de Janeiro, nun bin ich zurück im Irrenhaus.\n",
    "Ein drittes Mal werde ich gewiss nicht hierherkommen, andernfalls lasse ich mich nach São João Batista, dem nahegelegenen Friedhof, verlegen. Meine Mitmenschen verstört das alles sehr, auch meine Verwandten. So soll es nicht weitergehen. Was meine Freunde betrifft, so hat sich, außer Senhor Carlos Ventura und seinem Neffen, kein einziger blicken lassen.\n",
    "Dieser Carlos Ventura ist ein älterer Herr, ihm gehört der Laden in der Rua Piauí in Todos os Santos, der auch unser Haus beliefert, mit seiner Hilfe ist es ihnen gelungen, mich einzufangen und hierher zu bringen. Alípio und Jorge begleiteten mich.\n",
    "Die Nacht des 25. verbrachte ich im Pavillon und schlief sehr gut, während ich die Nacht des 24. schlaflos, in vollem Delirium durch die Vorstädte irrte.\n",
    "Ich erwachte, nahm Brot und Kaffee zu mir und kam zu einem Arzt, von dem es hieß, er höre auf den Namen Adauto. Er behandelte mich mit Gleichgültigkeit, stellte einige Fragen und ließ durchblicken, dass er mich, ginge es nach ihm, auf die Straße setzen würde.\n",
    "Ich kehrte in den Innenhof zurück. Ach, Gott! Ich kam mir wie ein Truthahn vor inmitten so vieler anderer, gehütet von einem guten Portugiesen mit der rauen, aber zugleich warmen und mitfühlenden Art eines Bauern aus Trás-os-Montes. Der mich noch vom letzten Mal kannte. Er duzte mich und steckte mir Zigaretten zu. Beim letzten Mal ließ er mich die Veranda des Haupthauses schrubben und das Badezimmer putzen, wo er mir eine erstklassige Peitschen-Dusche verpasste. Wir waren alle nackt, die Türen standen offen, und ich empfand große Scham. Ich musste an das Dampfbad in Dostojewskis Totenhaus denken. Als ich das Wasser aus den Eimern schöpfte, weinte ich, aber dann dachte ich an Cervantes und an Dostojewski selbst, die wohl in Algier und in Sibirien viel schlimmer hatten leiden müssen.\n",
    "Dieses Mal musste ich weder die Veranda schrubben noch andere Arbeiten tun. Ich hatte meinen Tribut bereits entrichtet... Also ging ich in den Innenhof, nachdem ich bei Doktor Adauto gewesen war, doch sogleich rief man mich abermals zur Veranda. Ich setzte mich neben einen jungen Schwarzen, der den Typus der Allerärmsten unserer Gesellschaft vollkommen verkörperte. Ich trug eine Hose, die bis zu den Schienbeinen hinabschlotterte, ein Hemd, das kaum zwei Drittel der Unterarme bedeckte, und sehr schmutzige Pantoffeln, die ich unter der Veranda gefunden hatte.\n",
    "Ich sollte von Henrique Roxo untersucht werden. Wir kannten uns seit vier Jahren. Ein merkwürdiger Mensch, dieser Roxo. Er scheint mir klug, fleißig, aufrichtig, ich kann nicht sagen, warum ich ihn nicht recht mag. Er scheint mir einer jener brasilianischen Ärzte zu sein, die vor Gewissheit um ihre Kunst nur so strotzen und jede andere geistige Tätigkeit, der es weniger um die Fakten zu tun ist, durch und durch verachten. Ich halte ihn für sehr belesen, und kaum daran interessiert, Neues zu entdecken, den Schleier des Mysteriums – was für ein Mysterium! –, der sein Fachgebiet umhüllt, auch nur ein wenig zu lüften. Er mag wohl Bücher aus Europa, aus den Vereinigten Staaten lesen, doch die Natur, die liest er nicht. Ich hege keine Abneigung gegen ihn, aber nichts zieht mich zu ihm hin.\n",
    "Er stellte mir Fragen nach meinem Vater  und ich gab ihm Auskunft.\n",
    "Dann erzählte ich ihm, dass ich durch meinen Bruder hier gelandet sei, der an die Allmacht der Wissenschaft und die Einfalt des Irrenhauses glaube. Das hat ihm vermutlich nicht gefallen.\n",
    "Er hatte so etwas wie einen Hospitanten, der seinem Pincenez zum Trotz das Gesicht eines Rindviehs hatte. Sowohl draußen wie hier in der Anstalt vermeiden es die Hospitanten, sich mit den Kranken zu unterhalten: Morgue oder Gebot? Zur Zeit meines Vaters war das anders, sobald sie einen Kranken auch nur von weitem sahen, stürzten sie sich auf ihn, um sich mit ihm zu unterhalten.\n",
    "Wahrlich, die akademische Jugend, der auch ich angehörte, wird immer eingebildeter und hohler.\n",
    "Trotz allem war ich überzeugt, dass Roxo mich nach Hause schicken würde, und als mich der Pfleger aus dem Hause Braganza nach dem Essen zu sich rief, meinte ich, ich könne gehen. Weit gefehlt.\n",
    "Gerade fällt mir ein, dass ihn der Schutzmann, der mich am Tor der Anstalt in Empfang genommen hatte, da mich kein Polizist hineinbegleitete, mehr als einmal Doktor genannt hatte, er wies es nie zurück.\n",
    "Der bragantinische Pfleger rief mich also und führte mich durch die Gänge und Höfe bis zum eigentlichen Irrenhaus. Dort erst wurde mir klar, dass man mich dabehalten würde, und zwar in der Armenabteilung, wo sich das Bilde dessen, was das Unheil über das Leben eines Menschen zu bringen vermag, am eindrücklichsten gestaltet.\n",
    "Das Mobiliar, das Bettzeug, die Betten, alles ist von einem unvergleichlichen Elend. Die Verrückten bilden kein Monopol, sie sind von unterschiedlichster Herkunft, entstammen aber in der Regel den ärmsten Schichten unseres armen Volkes. Es sind die Abkömmlinge italienischer, portugiesischer und noch fremderer Einwanderer, es sind die Schwarzen, die Feldarbeiter, die darauf beharren, in den Fensterwinkeln auf einer zerlumpten Matte und einer schmutzigen Decke zu schlafen, es sind Kellerjungen, Kutscher, Stallburschen, Handlanger. Mitten darin auch viele mit Bildung, die aber wegen fehlender Mittel und Unterstützung in dieser gesellschaftlichen Gehenna landen.\n",
    "Ich erkannte unter ihnen Dantas Lessa, einen fröhlichen Dichter, Weggefährten des Journalisten Tapajós, den ich flüchtig kennengelernt hatte, bevor er in Vila Isabel eine Schule gründete. Es scheint mir, dass er es zu Wohlstand brachte, doch als die Gleichstellung  kam, fehlten ihm die Mittel, daraus ein Gymnasium zu machen (eine Einlage von fünfzig Milreis und der Anteil für den Fiskus), und da verlor er an Zulauf, er war verstimmt, verschuldete sich und wurde verrückt. Er grüßte mich, wollte aber nicht mit mir sprechen.\n",
    "Ich wartete auf den Arzt. Doktor Ayrosa, so glaube ich, hieß er, er befragte mich, ich antwortete ihm wahrheitsgemäß, und er schien kein schlechter Kerl zu sein, indes sein Lächeln war rätselhaft, so als wolle er sagen «Du bleibst hier» oder aber zum Ausdruck bringen, dass meine literarischen Verdienste wertlos seien, kein Wunder angesichts der Eseleien, die sein Kollege Aloísio de Castro fabrizierte. Ob es nun das eine oder das andere war, oder beides zusammen, ich ereiferte mich nicht. Er war sehr jung, in seinem Alter, an seiner Stelle hätte ich vielleicht auch so gedacht.\n",
    "Der Direktor des Hospitals oder der Inspektor hieß SantʼAna. Ein kräftiger, dunkler, freundlicher Mann mit festem, etwas misstrauischem Blick und ovalem Gesicht, der sehr gut zu mir war. Er hatte auf der Ilha do Governador gearbeitet, als mein Vater dort Lagerverwalter oder Administrator war, und er erinnerte sich freundschaftlich an ihn.\n",
    "Er wies mir ein Bett in einer vernünftigeren Abteilung zu, sorgte dafür, dass ich mit den Pensionären der vierten Klasse speiste und ließ mich am nächsten Tag in einem Zimmer mit einem Medizinstudenten namens Queirós schlafen, der seit einem Anfall halbseitig gelähmt und ein wenig irre war.\n",
    "Der junge Mann behandelte mich gut, wenngleich er die auch mir zu eigen gewesene kindische Anmaßung des Studenten, der sich den anderen überlegen dünkt, nur weil er studiert, nicht ablegte. Ich gab ihm zu verstehen, dass ich auch einmal studiert hatte, er schien mir nicht zu glauben.\n",
    "Die Nacht des 26. verbrachte ich im Schlafsaal, die des 27. im Zimmer des Studenten. Der achtundzwanzigste war ein Sonntag, ich erhielt Besuch von meinem Bruder und Herrn Ventura, beide brachten mir Zigaretten, Herr Ventura auch Feigen und Rosinen. Auch dieses Mal schlief ich im Zimmer, zusammen mit dem Studenten.\n",
    "In der Sektion Pinel, von der ich hier spreche, traf ich auf einen jungen Portugiesen, den ich kennengelernt hatte, als ich noch Student war und in der Pension Ferraz verköstigt wurde, es musste zwanzig Jahre oder noch länger her sein. Während der Tage, die ich dort verbrachte, war mir dieser José Pinto eine unvergessliche Stütze. Er erinnerte den Portier an SantʼAnas Anweisung, dass ich die Mahlzeiten im besonderen Speisesaal einnehmen könne, er besorgte mir Zeitungen (SantʼAna ebenso), Zigaretten (diese Irrenhaus-Tragödie werde ich gesondert erzählen) und am Sonntagnachmittag unternahmen wir Spaziergänge auf dem Anstaltsgelände.\n",
    "Das Areal ist weitläufig, und der Baumbestand, nunmehr verdorrt und vernachlässigt, muss einst wunderbar gewesen sein. Die Reichen von heute wissen Bäume nicht zu würdigen ...\n",
    "Die Bauweise der Anstalt ist gut, und war für die Zeit, in der sie errichtet wurde, von ausgeprägter hygienischer Sorgfalt.\n",
    "Die Räume sind hell, die Zimmer großzügig, ihrer Kapazität und Bestimmung entsprechend, alles ist gut durchlüftet von der blauen Luft dieser herrlichen Bucht von Botafogo, die uns in ihrer unvergänglichen Schönheit tröstet, wenn wir sie, vom ablandigen Winde leicht zerfurcht, durch die Gitterstäbe der Anstalt betrachten, wenn wir erwachen und uns gewahr werden, dass wir nicht mehr zu träumen wissen...\n",
    "\n",
    "Sanft und mit geblähten Segeln gleitet eine Falua in die Bucht, und auf der Straße unten ziehen Mädchen in Badekleidern vorüber, deren noch unnütze Hüften sich deutlich unter dem engen Stoff abzeichnen.\n",
    "Am Montag, bevor mein Bruder kam, suchte ich Dr. Juliano Moreira auf. Er behandelte mich mit väterlicher Zärtlichkeit, rügte mich nicht, ließ mich an seiner Seite sitzen und fragte mich, wo ich untergebracht sein wolle. Ich sagte, in der Sektion Calmeil. Er erteilte SantʼAna die Anweisung und kurz darauf fand ich mich dort ein.\n",
    "Hier will ich nun innehalten, denn ich werde müde, doch kann ich nicht umhin, noch jene eigentümliche Manie der Geisteskranken, vor allem derer von niederer Herkunft, anzuführen, nämlich nackt herumzulaufen. Zehn Prozent in der Sektion Pinel fristeten auf diese Weise ihr Dasein, im Innenhof, ein Graben  aus der Hölle. Warum mag das so sein?\n",
    "Santa Casa de Misericórdia, (wörtl. Heiliges Haus der Barmherzigkeit), eine bereits im 15. Jahrhundert gegründete katholische Einrichtung der portugiesischen Gesundheitsfürsorge, die sich im gesamten Kolonialreich ausbreitete und deren Mission bis heute darin besteht, sich vor allem um die Armen und Bedürftigen zu kümmern (Anm. d. Ü.).\n",
    "Lima Barretos Vater arbeitete jahrelang als Verwalter der Colônia dos Alienados, einer Nervenheilanstalt auf der Ilha do Governador in Rio de Janeiro, bevor ihn selbst eine Reihe psychiatrischer Krankheiten ereilen sollte (Anm. d. Ü.).\n",
    "Bezieht sich auf die Reform Benjamin Constant (1890), die einheitliche Maßstäbe für sämtliche Schulstufen und Schultypen vorsah, um die Modernisierung des Unterrichts voranzutreiben. Herzstück der Reform bildete das Ginásio Nacional, das Nationale Gymnasium (Anm. d. Ü.).\n",
    "Anspielung auf Dantes Göttliche Komödie. Der achte Höllenkreis besteht aus zehn konzentrisch angelegten Gräben (bolgia), in denen diejenigen bestraft werden, die sich eines einfachen Betrugs schuldig gemacht haben (Anm. d. Ü.).\n",
    "'''"
   ]
  },
  {
   "cell_type": "code",
   "execution_count": null,
   "metadata": {
    "id": "2cfetjbQC4vy"
   },
   "outputs": [],
   "source": [
    "test_ST = pipeline_pt(ST)"
   ]
  },
  {
   "cell_type": "code",
   "execution_count": null,
   "metadata": {
    "id": "8dQVgXNvqrT-"
   },
   "outputs": [],
   "source": [
    "test_MT = pipeline_de(MT)\n",
    "test_PEMT = pipeline_de(PEMT)"
   ]
  },
  {
   "cell_type": "code",
   "execution_count": null,
   "metadata": {
    "id": "szoKOZ7rG_jW"
   },
   "outputs": [],
   "source": [
    "test_PEMT_fn = pipeline_de(PEMT_fn)"
   ]
  },
  {
   "cell_type": "code",
   "execution_count": null,
   "metadata": {
    "colab": {
     "base_uri": "https://localhost:8080/"
    },
    "id": "_CBRyzn-sKZv",
    "outputId": "75b4e9f1-b100-4e00-b032-182020b08419"
   },
   "outputs": [
    {
     "data": {
      "text/plain": [
       "88"
      ]
     },
     "execution_count": 9,
     "metadata": {},
     "output_type": "execute_result"
    }
   ],
   "source": [
    "len(test_ST.sentences)"
   ]
  },
  {
   "cell_type": "code",
   "execution_count": null,
   "metadata": {
    "colab": {
     "base_uri": "https://localhost:8080/"
    },
    "id": "I0drOsYrsYPz",
    "outputId": "fbc15fc7-5179-4653-97c6-59c77c16fce9"
   },
   "outputs": [
    {
     "data": {
      "text/plain": [
       "88"
      ]
     },
     "execution_count": 10,
     "metadata": {},
     "output_type": "execute_result"
    }
   ],
   "source": [
    "len(test_MT.sentences)"
   ]
  },
  {
   "cell_type": "code",
   "execution_count": null,
   "metadata": {
    "colab": {
     "base_uri": "https://localhost:8080/"
    },
    "id": "p9hSZFeZsZQa",
    "outputId": "2bfb77d9-e22a-4482-ce4d-afe0ad8936c8"
   },
   "outputs": [
    {
     "data": {
      "text/plain": [
       "88"
      ]
     },
     "execution_count": 11,
     "metadata": {},
     "output_type": "execute_result"
    }
   ],
   "source": [
    "len(test_PEMT.sentences)"
   ]
  },
  {
   "cell_type": "code",
   "execution_count": null,
   "metadata": {
    "colab": {
     "base_uri": "https://localhost:8080/"
    },
    "id": "hiYg_fLXHKtf",
    "outputId": "829481ba-01a9-4ce8-f3d1-bd4145e1b904"
   },
   "outputs": [
    {
     "data": {
      "text/plain": [
       "95"
      ]
     },
     "execution_count": 12,
     "metadata": {},
     "output_type": "execute_result"
    }
   ],
   "source": [
    "len(test_PEMT_fn.sentences)"
   ]
  },
  {
   "cell_type": "code",
   "execution_count": null,
   "metadata": {
    "id": "xqLz_KWzsff3"
   },
   "outputs": [],
   "source": [
    "def check_sentence_alignment(test_ST, test_MT, test_PEMT):\n",
    "    \"\"\"\n",
    "    Compare sentences from Source Text (ST), Machine Translation (MT),\n",
    "    and Post-Edited Machine Translation (PEMT) to find alignment differences.\n",
    "\n",
    "    Args:\n",
    "        test_ST (object): Parsed output of the source text pipeline.\n",
    "        test_MT (object): Parsed output of the MT pipeline.\n",
    "        test_PEMT (object): Parsed output of the PEMT pipeline.\n",
    "\n",
    "    Returns:\n",
    "        list: A list of misaligned sentence information.\n",
    "    \"\"\"\n",
    "    misalignments = []\n",
    "\n",
    "    # Extract sentences from the parsed objects\n",
    "    st_sentences = [sentence.text for sentence in test_ST.sentences]\n",
    "    mt_sentences = [sentence.text for sentence in test_MT.sentences]\n",
    "    pemt_sentences = [sentence.text for sentence in test_PEMT.sentences]\n",
    "\n",
    "    # Find the length of the shortest text\n",
    "    min_length = min(len(st_sentences), len(mt_sentences), len(pemt_sentences))\n",
    "\n",
    "    for i in range(min_length):\n",
    "        st_sentence = st_sentences[i]\n",
    "        mt_sentence = mt_sentences[i]\n",
    "        pemt_sentence = pemt_sentences[i]\n",
    "\n",
    "        if st_sentence != mt_sentence or st_sentence != pemt_sentence:\n",
    "            misalignments.append({\n",
    "                \"index\": i + 1,\n",
    "                \"source\": st_sentence,\n",
    "                \"mt\": mt_sentence,\n",
    "                \"pemt\": pemt_sentence\n",
    "            })\n",
    "\n",
    "    return misalignments"
   ]
  },
  {
   "cell_type": "code",
   "execution_count": null,
   "metadata": {
    "colab": {
     "base_uri": "https://localhost:8080/"
    },
    "id": "9_20INzKte7N",
    "outputId": "c74f17c2-dcc3-400e-8126-4f662383b1c4"
   },
   "outputs": [
    {
     "name": "stdout",
     "output_type": "stream",
     "text": [
      "Sentence 1:\n",
      "  Source: Estou no Hospício ou, melhor, em várias dependências dele, desde o dia 25 do mês passado.\n",
      "  MT: Ich bin seit dem 25. des letzten Monats im Hospiz, oder vielmehr in verschiedenen Teilen davon.\n",
      "  PEMT: Seit dem 25. des vergangenen Monats bin ich in der Irrenanstalt, genauer, in ihren verschiedenen Abteilungen.\n",
      "Sentence 2:\n",
      "  Source: Estive no pavilhão de observações, que é a pior etapa de quem, como eu, entra para aqui pelas mãos da polícia.\n",
      "  MT: Ich war auf der Beobachtungsstation, die die schlimmste Stufe für diejenigen ist, die wie ich hier in die Hände der Polizei geraten.\n",
      "  PEMT: Zunächst war ich im Beobachtungspavillon, der schlimmsten Station für einen, der wie ich von der Polizei eingeliefert wurde.\n",
      "Sentence 3:\n",
      "  Source: Tiram-nos a roupa que trazemos e dão-nos uma outra, só capaz de cobrir a nudez, e nem chinelos ou tamancos nos dão.\n",
      "  MT: Sie nehmen dir die Kleidung weg, die du trägst, und geben dir eine andere, die nur deine Blöße bedeckt, und sie geben dir nicht einmal Hausschuhe oder Clogs.\n",
      "  PEMT: Man nimmt uns, was wir am Leibe tragen, und gibt uns ein Hemd, das kaum die Blöße bedeckt, nicht einmal Hausschuhe oder Pantoffeln bekommen wir.\n",
      "Sentence 4:\n",
      "  Source: Da outra vez que lá estive me deram essa peça do vestuário que me é hoje indispensável.\n",
      "  MT: Das andere Mal, als ich dort war, haben sie mir dieses Kleidungsstück geschenkt, das jetzt für mich unverzichtbar ist.\n",
      "  PEMT: Das letzte Mal gaben sie mir noch welche, sie sind mir unverzichtbar geworden.\n",
      "Sentence 5:\n",
      "  Source: Desta vez, não.\n",
      "  MT: Diesmal nicht.\n",
      "  PEMT: Diesmal nicht.\n",
      "Sentence 6:\n",
      "  Source: O enfermeiro antigo era humano e bom; o atual é um português (o outro o era) arrogante, com uma fisionomia bragantina e presumida.\n",
      "  MT: Die alte Krankenschwester war menschlich und gut, die jetzige ist eine arrogante Portugiesin (die andere war es), mit einer prahlerischen und anmaßenden Physiognomie.\n",
      "  PEMT: Der Krankenpfleger damals war menschlich und gut, der jetzige ist (wie schon der vorige) Portugiese, aber überheblich, mit den selbstgefälligen Gesichtszügen aus dem Hause Braganza.\n",
      "Sentence 7:\n",
      "  Source: Deram-me uma caneca de mate e, logo em seguida, ainda dia claro, atiraram-me sobre um colchão de capim com uma manta pobre, muito conhecida de toda a nossa pobreza e miséria.\n",
      "  MT: Sie gaben mir einen Becher Mate, und danach, als es noch hell war, warfen sie mich auf eine Grasmatratze mit einer armen Decke, bekannt für unsere ganze Armut und unser Elend.\n",
      "  PEMT: Man gab mir einen Becher Mate; sodann, es war noch hell, stieß man mich auf eine mit Gras ausgestopfte Matratze mit einer armseligen Decke, die nur allzu gut um unser Leid und Elend wusste.\n",
      "Sentence 8:\n",
      "  Source: Não me incomodo muito com o hospício, mas o que me aborrece é essa intromissão da polícia na minha vida.\n",
      "  MT: Das Hospiz stört mich nicht sehr, aber was mich stört, ist dieses Eindringen der Polizei in mein Leben.\n",
      "  PEMT: In der Anstalt zu sein ist nicht so schlimm für mich, aber es verdrießt mich, wie sehr sich die Polizei in mein Leben mengt.\n",
      "Sentence 9:\n",
      "  Source: De mim para mim, tenho certeza que não sou louco, mas devido ao álcool, misturado com toda a espécie de apreensões que as dificuldades de minha vida material há 6 anos me assoberbam, de quando em quando dou sinais de loucura: deliro.\n",
      "  MT: Von mir zu mir, ich bin sicher, dass ich nicht verrückt bin, aber wegen des Alkohols, gemischt mit allen Arten von Befürchtungen, dass die Schwierigkeiten meines materiellen Lebens seit 6 Jahren mich überwältigen, von Zeit zu Zeit gebe ich Zeichen des Wahnsinns: Ich Delirium.\n",
      "  PEMT: Bei mir gesagt, ich bin sicher, dass ich nicht verrückt bin, aber der Alkohol, zusammen mit all den Sorgen um die materiellen Nöte meines Lebens, die mich seit sechs Jahren peinigen, treibt mich von Zeit zu Zeit in den Wahnsinn, ins Delirium.\n",
      "Sentence 10:\n",
      "  Source: Além dessa primeira vez que estive no hospício, fui atingido por crise idêntica, em Ouro Fino, e levado para a Santa Casa de lá, em 1916; em 1917, recolheram-me ao Hospital Central do Exército, pela mesma razão; agora, volto ao hospício.\n",
      "  MT: Außer diesem ersten Mal, als ich im Irrenhaus war, wurde ich 1916 in Ouro Fino von einer identischen Krise heimgesucht und in die dortige Santa Casa gebracht, 1917 wurde ich aus demselben Grund in das Zentralkrankenhaus der Armee gebracht, jetzt gehe ich wieder ins Irrenhaus.\n",
      "  PEMT: Von meinem ersten Aufenthalt hier abgesehen, wurde ich 1916 in Ouro Fino von einer ebensolchen Krise heimgesucht und in die die dortige Santa Casa  gebracht, im Jahr darauf landete ich aus demselben Grund im Heeresspital von Rio de Janeiro, nun bin ich zurück im Irrenhaus.\n",
      "Sentence 11:\n",
      "  Source: Estou seguro que não voltarei a ele pela terceira vez; senão, saio dele para o São João Batista, que é próximo.\n",
      "  MT: Ich bin mir sicher, dass ich nicht ein drittes Mal dorthin zurückkehren werde, andernfalls werde ich es für St. Johannes der Täufer verlassen, der in der Nähe liegt.\n",
      "  PEMT: Ein drittes Mal werde ich gewiss nicht hierherkommen, andernfalls lasse ich mich nach São João Batista, dem nahegelegenen Friedhof, verlegen.\n",
      "Sentence 12:\n",
      "  Source: Estou incomodando muito os outros, inclusive os meus parentes.\n",
      "  MT: Ich störe andere sehr, auch meine Verwandten.\n",
      "  PEMT: Meine Mitmenschen verstört das alles sehr, auch meine Verwandten.\n",
      "Sentence 13:\n",
      "  Source: Não é justo que tal continue.\n",
      "  MT: Es ist nicht fair, dass dies so weitergeht.\n",
      "  PEMT: So soll es nicht weitergehen.\n",
      "Sentence 14:\n",
      "  Source: Quanto aos meus amigos, nenhum apareceu, senão o senhor Carlos Ventura e o sobrinho.\n",
      "  MT: Was meine Freunde angeht, so ist keiner von ihnen aufgetaucht, außer Mr. Carlos Ventura und sein Neffe.\n",
      "  PEMT: Was meine Freunde betrifft, so hat sich, außer Senhor Carlos Ventura und seinem Neffen, kein einziger blicken lassen.\n",
      "Sentence 15:\n",
      "  Source: Este senhor Carlos Ventura é um velho homem, tem uma venda na Rua Piauí, em Todos os Santos, fornece para a nossa casa, e foi com auxílio dele que me conseguiram laçar e trazer-me até ao hospício.\n",
      "  MT: Dieser Herr Carlos Ventura ist ein alter Mann, er hat einen Verkauf in der Piauí Straße, in Todos os Santos, er beliefert unser Haus, und mit seiner Hilfe haben sie es geschafft, mich mit dem Lasso einzufangen und ins Hospiz zu bringen.\n",
      "  PEMT: Dieser Carlos Ventura ist ein älterer Herr, ihm gehört der Laden in der Rua Piauí in Todos os Santos, der auch unser Haus beliefert, mit seiner Hilfe ist es ihnen gelungen, mich einzufangen und hierher zu bringen.\n",
      "Sentence 16:\n",
      "  Source: Acompanharam-me o Alípio e o Jorge.\n",
      "  MT: Alípio und Jorge begleiteten mich.\n",
      "  PEMT: Alípio und Jorge begleiteten mich.\n",
      "Sentence 17:\n",
      "  Source: Passei a noite de 25 no pavilhão, dormindo muito bem, pois a de 24 tinha passado em claro, errando pelos subúrbios, em pleno delírio.\n",
      "  MT: Die Nacht zum 25. verbrachte ich im Pavillon und schlief sehr gut, denn die Nacht zum 24, hatte ich im Schlaf verbracht, indem ich im vollen Delirium in der Vorstadt herumirrte.\n",
      "  PEMT: Die Nacht des 25. verbrachte ich im Pavillon und schlief sehr gut, während ich die Nacht des 24. schlaflos, in vollem Delirium durch die Vorstädte irrte.\n",
      "Sentence 18:\n",
      "  Source: Amanheci, tomei café e pão e fui à presença de um médico, que me disseram chamar-se Adauto .\n",
      "  MT: Ich aß Kaffee und Brot und ging zu einem Arzt, von dem man mir sagte, er heiße Adauto.\n",
      "  PEMT: Ich erwachte, nahm Brot und Kaffee zu mir und kam zu einem Arzt, von dem es hieß, er höre auf den Namen Adauto.\n",
      "Sentence 19:\n",
      "  Source: Tratou-me ele com indiferença, fez-me perguntas e deu a entender que, por ele, me punha na rua.\n",
      "  MT: Er behandelte mich mit Gleichgültigkeit, stellte mir Fragen und deutete an, dass er mich für ihn rauswerfen würde.\n",
      "  PEMT: Er behandelte mich mit Gleichgültigkeit, stellte einige Fragen und ließ durchblicken, dass er mich, ginge es nach ihm, auf die Straße setzen würde.\n",
      "Sentence 20:\n",
      "  Source: Voltei para o pátio.\n",
      "  MT: Ich ging zurück in den Hof.\n",
      "  PEMT: Ich kehrte in den Innenhof zurück.\n",
      "Sentence 21:\n",
      "  Source: Que coisa, meu Deus!\n",
      "  MT: Was für ein Ding, mein Gott!\n",
      "  PEMT: Ach, Gott!\n",
      "Sentence 22:\n",
      "  Source: Estava ali que nem um peru, no meio de muitos outros, pastoreado por um bom português, que tinha um ar rude, mas doce e compassivo, de camponês transmontano.\n",
      "  MT: Ich war dort wie ein Truthahn, inmitten vieler anderer, gehütet von einem guten portugiesischen Mann, der die raue, aber süße und mitfühlende Art eines Bauern aus Trás-os-Montes hatte.\n",
      "  PEMT: Ich kam mir wie ein Truthahn vor inmitten so vieler anderer, gehütet von einem guten Portugiesen mit der rauen, aber zugleich warmen und mitfühlenden Art eines Bauern aus Trás-os-Montes.\n",
      "Sentence 23:\n",
      "  Source: Ele já me conhecia da outra vez.\n",
      "  MT: Er kannte mich schon vom anderen Mal.\n",
      "  PEMT: Der mich noch vom letzten Mal kannte.\n",
      "Sentence 24:\n",
      "  Source: Chamava-me você e me deu cigarros.\n",
      "  MT: Er nannte mich Sie und gab mir Zigaretten.\n",
      "  PEMT: Er duzte mich und steckte mir Zigaretten zu.\n",
      "Sentence 25:\n",
      "  Source: Da outra vez, fui para a casa-forte e ele me fez baldear a varanda, lavar o banheiro, onde me deu um excelente banho de ducha de chicote.\n",
      "  MT: Das andere Mal ging ich in die Villa und er ließ mich die Veranda schaufeln, das Badezimmer waschen, wo er mir ein ausgezeichnetes Peitschen-Duschbad verpasste.\n",
      "  PEMT: Beim letzten Mal ließ er mich die Veranda des Haupthauses schrubben und das Badezimmer putzen, wo er mir eine erstklassige Peitschen-Dusche verpasste.\n",
      "Sentence 26:\n",
      "  Source: Todos nós estávamos nus, as portas abertas, e eu tive muito pudor.\n",
      "  MT: Wir waren alle nackt, die Türen offen, und ich war sehr schüchtern.\n",
      "  PEMT: Wir waren alle nackt, die Türen standen offen, und ich empfand große Scham.\n",
      "Sentence 27:\n",
      "  Source: Eu me lembrei do banho de vapor de Dostoiévski, na Casa dos Mortos.\n",
      "  MT: Ich erinnerte mich an Dostojewskis Dampfbad im Haus der Toten.\n",
      "  PEMT: Ich musste an das Dampfbad in Dostojewskis Totenhaus denken.\n",
      "Sentence 28:\n",
      "  Source: Quando baldeei, chorei; mas lembrei de Cervantes, do próprio Dostoiévski, que pior deviam ter sofrido em Argel e na Sibéria.\n",
      "  MT: Als ich kübelte, weinte ich, aber ich erinnerte mich an Cervantes, an Dostojewski selbst, die schlimmer in Algier und Sibirien hätten leiden müssen.\n",
      "  PEMT: Als ich das Wasser aus den Eimern schöpfte, weinte ich, aber dann dachte ich an Cervantes und an Dostojewski selbst, die wohl in Algier und in Sibirien viel schlimmer hatten leiden müssen.\n",
      "Sentence 29:\n",
      "  Source: Desta vez, não me fizeram baldear a varanda, nem outro serviço.\n",
      "  MT: Dieses Mal haben sie mich nicht dazu gebracht, den Balkon oder einen anderen Service zu kaufen.\n",
      "  PEMT: Dieses Mal musste ich weder die Veranda schrubben noch andere Arbeiten tun.\n",
      "Sentence 30:\n",
      "  Source: Já tinha pago o tributo...\n",
      "  MT: Ich hatte den Tribut bereits entrichtet...\n",
      "  PEMT: Ich hatte meinen Tribut bereits entrichtet...\n",
      "Sentence 31:\n",
      "  Source: Fui para o pátio, após o doutor Adauto; mas, bem depressa, fui chamado à varanda de novo.\n",
      "  MT: Ich ging in den Innenhof, nach Doktor Adauto, aber sehr bald wurde ich wieder auf den Balkon gerufen.\n",
      "  PEMT: Also ging ich in den Innenhof, nachdem ich bei Doktor Adauto gewesen war, doch sogleich rief man mich abermals zur Veranda.\n",
      "Sentence 32:\n",
      "  Source: Sentei-me ao lado de um preto moço, tipo completo do espécimen mais humilde da nossa sociedade.\n",
      "  MT: Ich setzte mich neben einen jungen schwarzen Mann, ein kompletter Typ des bescheidensten Exemplars unserer Gesellschaft.\n",
      "  PEMT: Ich setzte mich neben einen jungen Schwarzen, der den Typus der Allerärmsten unserer Gesellschaft vollkommen verkörperte.\n",
      "Sentence 33:\n",
      "  Source: Vestia umas calças que me ficavam pelas canelas, uma camisa cujas mangas me ficavam por dois terços do antebraço e calçava uns chinelos muito sujos, que tinha descoberto no porão da varanda.\n",
      "  MT: Er trug eine Hose, die bis zu den Schienbeinen reichte, ein Hemd, dessen Ärmel bis zu zwei Dritteln der Unterarme reichten, und sehr schmutzige Hausschuhe, die ich im Keller der Veranda entdeckt hatte.\n",
      "  PEMT: Ich trug eine Hose, die bis zu den Schienbeinen hinabschlotterte, ein Hemd, das kaum zwei Drittel der Unterarme bedeckte, und sehr schmutzige Pantoffeln, die ich unter der Veranda gefunden hatte.\n",
      "Sentence 34:\n",
      "  Source: Tinha que ser examinado pelo Henrique Roxo.\n",
      "  MT: Ich musste von Henrique Roxo untersucht werden.\n",
      "  PEMT: Ich sollte von Henrique Roxo untersucht werden.\n",
      "Sentence 35:\n",
      "  Source: Há quatro anos, nós nos conhecemos.\n",
      "  MT: Vor vier Jahren lernten wir uns kennen.\n",
      "  PEMT: Wir kannten uns seit vier Jahren.\n",
      "Sentence 36:\n",
      "  Source: É bem curioso esse Roxo.\n",
      "  MT: Dieser Roxo ist sehr neugierig.\n",
      "  PEMT: Ein merkwürdiger Mensch, dieser Roxo.\n",
      "Sentence 37:\n",
      "  Source: Ele me parece inteligente, estudioso, honesto; mas não sei por que não simpatizo com ele.\n",
      "  MT: Er scheint mir intelligent, fleißig, ehrlich, aber ich weiß nicht, warum ich nicht mit ihm sympathisiere.\n",
      "  PEMT: Er scheint mir klug, fleißig, aufrichtig, ich kann nicht sagen, warum ich ihn nicht recht mag.\n",
      "Sentence 38:\n",
      "  Source: Ele me parece desses médicos brasileiros imbuídos de um ar de certeza de sua arte, desdenhando inteiramente toda a outra atividade intelectual que não a sua e pouco capaz de examinar o fato por si.\n",
      "  MT: Er scheint mir einer jener brasilianischen Ärzte zu sein, die von der Gewissheit ihrer Kunst durchdrungen sind, die jede andere intellektuelle Tätigkeit als die eigene völlig verachten und kaum in der Lage sind, die Tatsache selbst zu überprüfen.\n",
      "  PEMT: Er scheint mir einer jener brasilianischen Ärzte zu sein, die vor Gewissheit um ihre Kunst nur so strotzen und jede andere geistige Tätigkeit, der es weniger um die Fakten zu tun ist, durch und durch verachten.\n",
      "Sentence 39:\n",
      "  Source: Acho-o muito livresco e pouco interessado em descobrir, em levantar um pouco o véu do mistério -que mistério!- que há na especialidade que professa.\n",
      "  MT: Ich finde ihn sehr buchhalterisch und wenig daran interessiert, zu entdecken, ein wenig den Schleier des Geheimnisses zu lüften - was für ein Geheimnis!\n",
      "  PEMT: Ich halte ihn für sehr belesen, und kaum daran interessiert, Neues zu entdecken, den Schleier des Mysteriums – was für ein Mysterium! –, der sein Fachgebiet umhüllt, auch nur ein wenig zu lüften.\n",
      "Sentence 40:\n",
      "  Source: Lê os livros da Europa, dos Estados Unidos, talvez; mas não lê a natureza.\n",
      "  MT: Er liest die Bücher von Europa, von den Vereinigten Staaten vielleicht, aber er liest nicht die Natur.\n",
      "  PEMT: Er mag wohl Bücher aus Europa, aus den Vereinigten Staaten lesen, doch die Natur, die liest er nicht.\n",
      "Sentence 41:\n",
      "  Source: Não tenho por ele antipatia; mas nada me atrai a ele.\n",
      "  MT: Ich habe keine Antipathie gegen ihn, aber nichts zieht mich zu ihm hin.\n",
      "  PEMT: Ich hege keine Abneigung gegen ihn, aber nichts zieht mich zu ihm hin.\n",
      "Sentence 42:\n",
      "  Source: Perguntou-me por meu pai e eu lhe dei informações.\n",
      "  MT: Er fragte mich nach meinem Vater, und ich gab ihm Auskunft.\n",
      "  PEMT: Er stellte mir Fragen nach meinem Vater  und ich gab ihm Auskunft.\n",
      "Sentence 43:\n",
      "  Source: Depois, disse-lhe que tinha sido posto ali por meu irmão, que tinha fé na onipotência da ciência e a crendice do hospício.\n",
      "  MT: Dann erzählte ich ihm, dass ich von meinem Bruder dorthin gesteckt worden war, der an die Allmacht der Wissenschaft und den Glauben an das Irrenhaus glaubte.\n",
      "  PEMT: Dann erzählte ich ihm, dass ich durch meinen Bruder hier gelandet sei, der an die Allmacht der Wissenschaft und die Einfalt des Irrenhauses glaube.\n",
      "Sentence 44:\n",
      "  Source: Creio que ele não gostou.\n",
      "  MT: Ich glaube, er hat es nicht gemocht.\n",
      "  PEMT: Das hat ihm vermutlich nicht gefallen.\n",
      "Sentence 45:\n",
      "  Source: Acompanhava-o uma espécie de interno, que tinha uma cara bovina, apesar do pince-nez.\n",
      "  MT: Ihn begleitete eine Art Praktikantin, die trotz des Kneifzahns ein bovines Gesicht hatte.\n",
      "  PEMT: Er hatte so etwas wie einen Hospitanten, der seinem Pincenez zum Trotz das Gesicht eines Rindviehs hatte.\n",
      "Sentence 46:\n",
      "  Source: Tanto lá, como aqui, no hospício, os internos evitam conversar com os doentes: morgue ou regulamento?\n",
      "  MT: Sowohl dort als auch hier, im Hospiz, vermeiden die Kostgänger das Gespräch mit den Kranken: Leichenschauhaus oder Verordnung?\n",
      "  PEMT: Sowohl draußen wie hier in der Anstalt vermeiden es die Hospitanten, sich mit den Kranken zu unterhalten: Morgue oder Gebot?\n",
      "Sentence 47:\n",
      "  Source: No tempo de meu pai não era assim e, desde que eles descobrissem um doente em nossa casa, se aproximavam e conversavam.\n",
      "  MT: Zu Zeiten meines Vaters war das nicht so, und sobald sie einen kranken Menschen in unserem Haus entdeckten, gingen sie auf ihn zu und sprachen ihn an.\n",
      "  PEMT: Zur Zeit meines Vaters war das anders, sobald sie einen Kranken auch nur von weitem sahen, stürzten sie sich auf ihn, um sich mit ihm zu unterhalten.\n",
      "Sentence 48:\n",
      "  Source: Decididamente, a mocidade acadêmica, de que fiz parte, cada vez mais fica mais presunçosa e oca.\n",
      "  MT: Die akademische Jugend, der ich angehörte, wird entschieden immer anmaßender und hohler.\n",
      "  PEMT: Wahrlich, die akademische Jugend, der auch ich angehörte, wird immer eingebildeter und hohler.\n",
      "Sentence 49:\n",
      "  Source: Julguei, apesar de tudo, que o Roxo me mandasse embora, tanto assim que, após o almoço-jantar, quando o tal bragança enfermeiro me chamou, pensei que fosse para ir-me embora.\n",
      "  MT: Ich dachte, trotz allem, dass Roxo mich wegschicken würde, so sehr, dass ich nach dem Mittagessen, als diese Krankenschwester bragança mich rief, dachte, es sei, um zu gehen.\n",
      "  PEMT: Trotz allem war ich überzeugt, dass Roxo mich nach Hause schicken würde, und als mich der Pfleger aus dem Hause Braganza nach dem Essen zu sich rief, meinte ich, ich könne gehen.\n",
      "Sentence 50:\n",
      "  Source: Não foi.\n",
      "  MT: Das war es nicht.\n",
      "  PEMT: Weit gefehlt.\n",
      "Sentence 51:\n",
      "  Source: Lembro-me agora de um fato; o guarda-civil, que me esperou na porta do hospício, pois não veio comigo nenhum polícia, dirigindo-se a ele, tratou-o mais de uma vez de doutor; ele, porém, nunca protestou.\n",
      "  MT: Ich erinnere mich jetzt an eine Tatsache, der Zivilwächter, der an der Tür des Hospizes auf mich wartete, da kein Polizist mit mir kam, sprach ihn an und nannte ihn mehr als einmal Doktor, er protestierte jedoch nie.\n",
      "  PEMT: Gerade fällt mir ein, dass ihn der Schutzmann, der mich am Tor der Anstalt in Empfang genommen hatte, da mich kein Polizist hineinbegleitete, mehr als einmal Doktor genannt hatte, er wies es nie zurück.\n",
      "Sentence 52:\n",
      "  Source: Chamou-me o bragantino e levou-me pelos corredores e pátios até ao hospício propriamente.\n",
      "  MT: Er nannte mich die Bragantin und führte mich durch die Gänge und Höfe zum eigentlichen Hospiz.\n",
      "  PEMT: Der bragantinische Pfleger rief mich also und führte mich durch die Gänge und Höfe bis zum eigentlichen Irrenhaus.\n",
      "Sentence 53:\n",
      "  Source: Aí é que percebi que ficava e onde, na seção, na de indigentes, aquela em que a imagem do que a Desgraça pode sobre a vida dos homens é mais formidável.\n",
      "  MT: Dort wurde mir klar, dass ich mich dort aufhielt, und zwar in der Abteilung, der der Bedürftigen, in der das Bild dessen, was Unglück über das Leben der Menschen bringen kann, am eindrucksvollsten ist.\n",
      "  PEMT: Dort erst wurde mir klar, dass man mich dabehalten würde, und zwar in der Armenabteilung, wo sich das Bilde dessen, was das Unheil über das Leben eines Menschen zu bringen vermag, am eindrücklichsten gestaltet.\n",
      "Sentence 54:\n",
      "  Source: O mobiliário, o vestuário das camas, as camas, tudo é de uma pobreza sem par.\n",
      "  MT: Die Möbel, das Bettzeug, die Betten, alles ist von einer unvergleichlichen Armut.\n",
      "  PEMT: Das Mobiliar, das Bettzeug, die Betten, alles ist von einem unvergleichlichen Elend.\n",
      "Sentence 55:\n",
      "  Source: Sem fazer monopólio, os loucos são da proveniência mais diversa, originando-se em geral das camadas mais pobres da nossa gente pobre.\n",
      "  MT: Ohne ein Monopol zu bilden, sind die Verrückten unterschiedlichster Provenienz und stammen in der Regel aus den ärmsten Schichten unseres armen Volkes.\n",
      "  PEMT: Die Verrückten bilden kein Monopol, sie sind von unterschiedlichster Herkunft, entstammen aber in der Regel den ärmsten Schichten unseres armen Volkes.\n",
      "Sentence 56:\n",
      "  Source: São de imigrantes italianos, portugueses e outros mais exóticos, são os negros roceiros, que teimam em dormir pelos desvãos das janelas sobre uma esteira esmolambada e uma manta sórdida; são copeiros, cocheiros, moços de cavalariça, trabalhadores braçais.\n",
      "  MT: Sie stammen von italienischen, portugiesischen und anderen exotischeren Einwanderern, sie sind die schwarzen Bauern, die darauf bestehen, in den Fensteröffnungen auf einer schmuddeligen Matte und einer schäbigen Decke zu schlafen, sie sind Mundschenke, Kutscher, Stallburschen, Handarbeiter.\n",
      "  PEMT: Es sind die Abkömmlinge italienischer, portugiesischer und noch fremderer Einwanderer, es sind die Schwarzen, die Feldarbeiter, die darauf beharren, in den Fensterwinkeln auf einer zerlumpten Matte und einer schmutzigen Decke zu schlafen, es sind Kellerjungen, Kutscher, Stallburschen, Handlanger.\n",
      "Sentence 57:\n",
      "  Source: No meio disto, muitos com educação, mas que a falta de recursos e proteção atira naquela geena social.\n",
      "  MT: Inmitten von all dem gab es viele gebildete Menschen, die aber aus Mangel an Mitteln und Schutz in dieses soziale Gehenna geworfen wurden.\n",
      "  PEMT: Mitten darin auch viele mit Bildung, die aber wegen fehlender Mittel und Unterstützung in dieser gesellschaftlichen Gehenna landen.\n",
      "Sentence 58:\n",
      "  Source: Vi lá o D... L..., um poeta alegre, companheiro do Tapajós, que conheci assim, assim e depois montou um colégio em Vila Isabel.\n",
      "  MT: Ich sah dort D... L..., ein fröhlicher Dichter, ein Weggefährte von Tapajós, den ich so und so kennengelernt habe, und dann hat er in Vila Isabel eine Schule gegründet.\n",
      "  PEMT: Ich erkannte unter ihnen Dantas Lessa, einen fröhlichen Dichter, Weggefährten des Journalisten Tapajós, den ich flüchtig kennengelernt hatte, bevor er in Vila Isabel eine Schule gründete.\n",
      "Sentence 59:\n",
      "  Source: Parece-me que ele prosperou, mas, vindo a equiparação e não tendo ele recursos para equipará-lo ao ginásio (depósito de cinqüenta contos e quota de fiscalização), foi perdendo a freqüência, ele se desgostou, endividou-se e enlouqueceu.\n",
      "  MT: Es scheint mir, dass es ihm gut ging, aber als die Gleichstellung kam und er nicht die Mittel hatte, um daraus ein Gymnasium zu machen (eine Kaution von fünfzigtausend Escudos und eine Aufsichtsquote), verlor er die Teilnahme, wurde angewidert, verschuldete sich und wurde verrückt.\n",
      "  PEMT: Es scheint mir, dass er es zu Wohlstand brachte, doch als die Gleichstellung  kam, fehlten ihm die Mittel, daraus ein Gymnasium zu machen (eine Einlage von fünfzig Milreis und der Anteil für den Fiskus), und da verlor er an Zulauf, er war verstimmt, verschuldete sich und wurde verrückt.\n",
      "Sentence 60:\n",
      "  Source: Cumprimentou-me, mas não quis falar comigo.\n",
      "  MT: Er grüßte mich, aber er wollte nicht mit mir sprechen.\n",
      "  PEMT: Er grüßte mich, wollte aber nicht mit mir sprechen.\n",
      "Sentence 61:\n",
      "  Source: Esperei o médico.\n",
      "  MT: Ich habe auf den Arzt gewartet.\n",
      "  PEMT: Ich wartete auf den Arzt.\n",
      "Sentence 62:\n",
      "  Source: Era um doutor Airosa, creio eu ser esse o nome, interrogou-me, respondi-lhe com toda a verdade, e ele não me pareceu mau rapaz, mas sorriu enigmaticamente, ou, como dizendo: «você fica mesmo aí» ou querendo exprimir que os meus méritos literários nada valiam, naturalmente à vista das burrices do Aluísio.\n",
      "  MT: Es war ein Doktor Airosa, ich glaube, so hieß er, er befragte mich, ich antwortete ihm wahrheitsgemäß, und er schien kein schlechter Kerl zu sein, aber er lächelte rätselhaft, so als wolle er sagen: \"Du bleibst hier\" oder zum Ausdruck bringen, dass meine literarischen Verdienste wertlos seien, natürlich angesichts der Dummheiten von Aluisio.\n",
      "  PEMT: Doktor Ayrosa, so glaube ich, hieß er, er befragte mich, ich antwortete ihm wahrheitsgemäß, und er schien kein schlechter Kerl zu sein, indes sein Lächeln war rätselhaft, so als wolle er sagen «Du bleibst hier» oder aber zum Ausdruck bringen, dass meine literarischen Verdienste wertlos seien, kein Wunder angesichts der Eseleien, die sein Kollege Aloísio de Castro fabrizierte.\n",
      "Sentence 63:\n",
      "  Source: Fosse uma coisa, fosse outra, fossem ambas conjuntamente, não me agastei.\n",
      "  MT: Ob es nun das eine oder das andere war, oder beides zusammen, ich habe mich nicht aufgeregt.\n",
      "  PEMT: Ob es nun das eine oder das andere war, oder beides zusammen, ich ereiferte mich nicht.\n",
      "Sentence 64:\n",
      "  Source: Ele era muito moço; na sua idade, no caso dele, eu talvez pensasse da mesma forma.\n",
      "  MT: Er war sehr jung, in seinem Alter hätte ich in seinem Fall vielleicht auch so gedacht.\n",
      "  PEMT: Er war sehr jung, in seinem Alter, an seiner Stelle hätte ich vielleicht auch so gedacht.\n",
      "Sentence 65:\n",
      "  Source: O enfermeiro-mor ou inspetor era o Santana.\n",
      "  MT: Die Oberschwester oder Inspektorin war Santana.\n",
      "  PEMT: Der Direktor des Hospitals oder der Inspektor hieß SantʼAna.\n",
      "Sentence 66:\n",
      "  Source: Um mulato forte, simpático, olhos firmes, um pouco desconfiados, rosto oval, que foi muito bom para mim.\n",
      "  MT: Ein kräftiger, freundlicher Mulatte, feste Augen, ein wenig wachsam, ovales Gesicht, der sehr gut zu mir war.\n",
      "  PEMT: Ein kräftiger, dunkler, freundlicher Mann mit festem, etwas misstrauischem Blick und ovalem Gesicht, der sehr gut zu mir war.\n",
      "Sentence 67:\n",
      "  Source: Ele fora empregado na ilha, quando meu pai lá era almoxarife ou administrador, e se lembrava dele com amizade.\n",
      "  MT: Er war auf der Insel angestellt gewesen, als mein Vater dort Steward oder Verwalter war, und er erinnerte sich in Freundschaft an ihn.\n",
      "  PEMT: Er hatte auf der Ilha do Governador gearbeitet, als mein Vater dort Lagerverwalter oder Administrator war, und er erinnerte sich freundschaftlich an ihn.\n",
      "Sentence 68:\n",
      "  Source: Deu-me uma cama, numa seção mais razoável, arranjou que eu comesse com os pensionistas de quarta classe e, no dia seguinte, fez-me dormir num quarto, com um estudante de medicina, Queirós, que um ataque tornara hemiplégico e meio aluado.\n",
      "  MT: Er gab mir ein Bett in einer vernünftigeren Abteilung, sorgte dafür, dass ich mit den Internatsschülern der vierten Klasse aß, und ließ mich am nächsten Tag in einem Zimmer mit einem Medizinstudenten, Queirós, schlafen, der durch einen Anfall halbseitig gelähmt und halbwertig geworden war.\n",
      "  PEMT: Er wies mir ein Bett in einer vernünftigeren Abteilung zu, sorgte dafür, dass ich mit den Pensionären der vierten Klasse speiste und ließ mich am nächsten Tag in einem Zimmer mit einem Medizinstudenten namens Queirós schlafen, der seit einem Anfall halbseitig gelähmt und ein wenig irre war.\n",
      "Sentence 69:\n",
      "  Source: Tratou-me bem esse moço, conquanto não deixasse de ter, como eu já tive, essa presunção infantil do nosso estudante, que se julga, só por sê-lo, diferente dos outros.\n",
      "  MT: Er behandelte mich gut, obwohl er nicht ohne diese kindische Anmaßung unseres Schülers war, der denkt, er sei anders als die anderen, nur weil er anders ist.\n",
      "  PEMT: Der junge Mann behandelte mich gut, wenngleich er die auch mir zu eigen gewesene kindische Anmaßung des Studenten, der sich den anderen überlegen dünkt, nur weil er studiert, nicht ablegte.\n",
      "Sentence 70:\n",
      "  Source: Dei-lhe a entender que já o havia sido; ele pareceu não acreditar.\n",
      "  MT: Ich gab ihm zu verstehen, dass ich schon einer gewesen sei, er schien mir nicht zu glauben.\n",
      "  PEMT: Ich gab ihm zu verstehen, dass ich auch einmal studiert hatte, er schien mir nicht zu glauben.\n",
      "Sentence 71:\n",
      "  Source: Dormi a noite de 26 no dormitório geral e a de 27 no quarto do estudante.\n",
      "  MT: Die Nacht vom 26. auf den 27. schlief ich im allgemeinen Schlafsaal, den 27. im Studentenzimmer.\n",
      "  PEMT: Die Nacht des 26. verbrachte ich im Schlafsaal, die des 27. im Zimmer des Studenten.\n",
      "Sentence 72:\n",
      "  Source: Vinte e oito foi domingo, recebi visitas do meu irmão e do senhor Ventura, ambos me trouxeram cigarros, e o senhor Ventura, passas e figos.\n",
      "  MT: Achtundzwanzig war Sonntag, ich hatte Besuch von meinem Bruder und Herrn Ventura, beide brachten mir Zigaretten, und Herr Ventura, Rosinen und Feigen.\n",
      "  PEMT: Der achtundzwanzigste war ein Sonntag, ich erhielt Besuch von meinem Bruder und Herrn Ventura, beide brachten mir Zigaretten, Herr Ventura auch Feigen und Rosinen.\n",
      "Sentence 73:\n",
      "  Source: Ainda desta vez, dormi no quarto, com o estudante.\n",
      "  MT: Auch dieses Mal schlief ich im Zimmer mit dem Studenten.\n",
      "  PEMT: Auch dieses Mal schlief ich im Zimmer, zusammen mit dem Studenten.\n",
      "Sentence 74:\n",
      "  Source: Na Seção Pinel, que é a de que estou falando, reatei conhecimento com um rapaz português, que me conheceu quando era estudante e comia na pensão do Ferraz, isto deve ter sido há vinte anos ou mais.\n",
      "  MT: In der Sektion Pinel, von der ich spreche, lernte ich einen portugiesischen Jungen wieder kennen, der mich schon kannte, als ich noch Student war und in der Ferraz-Pension aß, das muss zwanzig Jahre oder mehr her sein.\n",
      "  PEMT: In der Sektion Pinel, von der ich hier spreche, traf ich auf einen jungen Portugiesen, den ich kennengelernt hatte, als ich noch Student war und in der Pension Ferraz verköstigt wurde, es musste zwanzig Jahre oder noch länger her sein.\n",
      "Sentence 75:\n",
      "  Source: Durante os dias em que lá estive, ele, o José Pinto, me foi de um préstimo inesquecível.\n",
      "  MT: Während der Tage, die ich dort war, war er, José Pinto, eine unvergessliche Hilfe für mich.\n",
      "  PEMT: Während der Tage, die ich dort verbrachte, war mir dieser José Pinto eine unvergessliche Stütze.\n",
      "Sentence 76:\n",
      "  Source: Relembrava ao porteiro a ordem que eu tinha do Santana de ir tomar refeições no refeitório especial, arranjava-me jornais (Santana também), cigarros (contarei essa tragédia manicomial em separado) e, na tarde de domingo, levou-me a passear pela chácara do hospício.\n",
      "  MT: Er erinnerte den Portier an den Auftrag von Santana, die Mahlzeiten im speziellen Speisesaal einzunehmen, er besorgte mir Zeitungen (auch Santana), Zigaretten (diese Irrenhaus-Tragödie werde ich gesondert erzählen) und am Sonntagnachmittag machte er mit mir einen Spaziergang durch den Hospizhof.\n",
      "  PEMT: Er erinnerte den Portier an SantʼAnas Anweisung, dass ich die Mahlzeiten im besonderen Speisesaal einnehmen könne, er besorgte mir Zeitungen (SantʼAna ebenso), Zigaretten (diese Irrenhaus-Tragödie werde ich gesondert erzählen) und am Sonntagnachmittag unternahmen wir Spaziergänge auf dem Anstaltsgelände.\n",
      "Sentence 77:\n",
      "  Source: É muito grande e, apesar de estiolada e maltratada, a sua arborização devia ter sido maravilhosa.\n",
      "  MT: Sie ist sehr groß und sollte trotz ihrer Verkrüppelung und Misshandlung eine wunderbare Arborealisation haben.\n",
      "  PEMT: Das Areal ist weitläufig, und der Baumbestand, nunmehr verdorrt und vernachlässigt, muss einst wunderbar gewesen sein.\n",
      "Sentence 78:\n",
      "  Source: Os ricos de hoje não gostam de árvores...\n",
      "  MT: Die reichen Leute von heute mögen keine Bäume...\n",
      "  PEMT: Die Reichen von heute wissen Bäume nicht zu würdigen ...\n",
      "Sentence 79:\n",
      "  Source: O hospício é bem construído e, pelo tempo em que o edificaram, com bem acentuados cuidados higiênicos.\n",
      "  MT: Das Hospiz ist gut gebaut und für die Zeit, in der es gebaut wurde, mit sehr ausgeprägter hygienischer Pflege.\n",
      "  PEMT: Die Bauweise der Anstalt ist gut, und war für die Zeit, in der sie errichtet wurde, von ausgeprägter hygienischer Sorgfalt.\n",
      "Sentence 80:\n",
      "  Source: As salas são claras, os quartos amplos, de acordo com a sua capacidade e destino, tudo bem arejado, com o ar azul dessa linda enseada de Botafogo que nos consola na sua imarcescível beleza, quando a olhamos levemente enrugada pelo terral, através das grades do manicômio, quando amanhecemos lembrando que não sabemos sonhar mais...\n",
      "  MT: Die Räume sind klar, die Zimmer großzügig, entsprechend ihrer Kapazität und Bestimmung, alles gut gelüftet, mit der blauen Luft dieser schönen Bucht von Botafogo, die uns in ihrer unerbittlichen Schönheit tröstet, wenn wir sie leicht von der Erde zerknittert durch die Gitterstäbe des Irrenhauses betrachten, wenn wir dämmern und uns daran erinnern, dass wir nicht mehr wissen, wie wir träumen sollen...\n",
      "  PEMT: Die Räume sind hell, die Zimmer großzügig, ihrer Kapazität und Bestimmung entsprechend, alles ist gut durchlüftet von der blauen Luft dieser herrlichen Bucht von Botafogo, die uns in ihrer unvergänglichen Schönheit tröstet, wenn wir sie, vom ablandigen Winde leicht zerfurcht, durch die Gitterstäbe der Anstalt betrachten, wenn wir erwachen und uns gewahr werden, dass wir nicht mehr zu träumen wissen...\n",
      "Sentence 81:\n",
      "  Source: Lá entra por ela adentro uma falua, com velas enfunadas e sem violentar; e na rua embaixo passam moças em traje de banho, com as suas bacias a desenharem-se nítidas no calção, até agora inúteis.\n",
      "  MT: Dort fährt eine Falua ein, mit geschmückten Segeln, und auf der Straße unten gehen Mädchen in Badekleidern vorbei, die ihre Waschbecken scharf in den Rüssel ziehen, bis jetzt unbrauchbar.\n",
      "  PEMT: Sanft und mit geblähten Segeln gleitet eine Falua in die Bucht, und auf der Straße unten ziehen Mädchen in Badekleidern vorüber, deren noch unnütze Hüften sich deutlich unter dem engen Stoff abzeichnen.\n",
      "Sentence 82:\n",
      "  Source: Na segunda-feira, antes que meu irmão viesse, fui à presença do doutor Juliano Moreira.\n",
      "  MT: Am Montag, bevor mein Bruder kam, ging ich zu Dr. Juliano Moreira.\n",
      "  PEMT: Am Montag, bevor mein Bruder kam, suchte ich Dr. Juliano Moreira auf.\n",
      "Sentence 83:\n",
      "  Source: Tratou-me com grande ternura, paternalmente, não me admoestou, fez-me sentar a seu lado e perguntou-me onde queria ficar.\n",
      "  MT: Er behandelte mich mit großer Zärtlichkeit, väterlich, ermahnte mich nicht, ließ mich an seiner Seite sitzen und fragte mich, wo ich bleiben wolle.\n",
      "  PEMT: Er behandelte mich mit väterlicher Zärtlichkeit, rügte mich nicht, ließ mich an seiner Seite sitzen und fragte mich, wo ich untergebracht sein wolle.\n",
      "Sentence 84:\n",
      "  Source: Disse-lhe que na Seção Calmeil.\n",
      "  MT: Ich habe es ihm in der Calmeil-Sektion gesagt.\n",
      "  PEMT: Ich sagte, in der Sektion Calmeil.\n",
      "Sentence 85:\n",
      "  Source: Deu ordens ao Santana e, em breve, lá estava eu.\n",
      "  MT: Er gab Santana Anweisungen, und bald war ich da.\n",
      "  PEMT: Er erteilte SantʼAna die Anweisung und kurz darauf fand ich mich dort ein.\n",
      "Sentence 86:\n",
      "  Source: Paro aqui, pois me canso; mas não posso deixar de consignar a singular mania que têm os doidos, principalmente os de baixa extração, de andarem nus.\n",
      "  MT: Ich will hier aufhören, denn ich werde müde, aber ich kann nicht umhin, die eigentümliche Manie zu nennen, die die Geisteskranken haben, besonders die von niedriger Herkunft, nackt zu gehen.\n",
      "  PEMT: Hier will ich nun innehalten, denn ich werde müde, doch kann ich nicht umhin, noch jene eigentümliche Manie der Geisteskranken, vor allem derer von niederer Herkunft, anzuführen, nämlich nackt herumzulaufen.\n",
      "Sentence 87:\n",
      "  Source: Na Pinel, dez por cento assim viviam, num pátio que era uma bolgia do inferno.\n",
      "  MT: Im Pinel lebten zehn Prozent so, in einem Innenhof, der eine Bolgia aus der Hölle war.\n",
      "  PEMT: Zehn Prozent in der Sektion Pinel fristeten auf diese Weise ihr Dasein, im Innenhof, ein Graben  aus der Hölle.\n",
      "Sentence 88:\n",
      "  Source: Por que será?\n",
      "  MT: Warum ist das so?\n",
      "  PEMT: Warum mag das so sein?\n"
     ]
    }
   ],
   "source": [
    "#Example usage:\n",
    "misaligned = check_sentence_alignment(test_ST, test_MT, test_PEMT)\n",
    "for item in misaligned:\n",
    "    print(f\"Sentence {item['index']}:\")\n",
    "    print(f\"  Source: {item['source']}\")\n",
    "    print(f\"  MT: {item['mt']}\")\n",
    "    print(f\"  PEMT: {item['pemt']}\")"
   ]
  },
  {
   "cell_type": "markdown",
   "metadata": {
    "id": "WBUaSD8njXXW"
   },
   "source": [
    "# Statistics\n"
   ]
  },
  {
   "cell_type": "code",
   "execution_count": null,
   "metadata": {
    "id": "oWRPxIGj6m0o"
   },
   "outputs": [],
   "source": [
    "# Function to calculate statistics\n",
    "def calculate_statistics(text, nlp):\n",
    "    doc = nlp(text)\n",
    "    num_sentences = len(doc.sentences)\n",
    "    words = [word.text for sentence in doc.sentences for word in sentence.words if word.upos != \"PUNCT\"] # counts only real words\n",
    "    num_words = len(words) # how many words in text\n",
    "    num_unique_words = len(set(words))\n",
    "    num_characters = len(doc.text) # number of char with whitespace also punctuation\n",
    "    #num_characters_no_space = len(doc.text.replace(\" \", \"\"))\n",
    "    num_unique_lemmas = len(set(word.lemma for sentence in doc.sentences for word in sentence.words if word.upos != \"PUNCT\")) # lemma of real words, no punct\n",
    "    type_token_ratio = num_unique_words / num_words #if num_words > 0 else 0 # number_of_unique_lemmas / number_of_all_lemmas\n",
    "    mean_sentence_length = num_words / num_sentences #if num_sentences > 0 else 0\n",
    "\n",
    "    return {\n",
    "        \"num_sentences\": num_sentences,\n",
    "        \"num_words\": num_words,\n",
    "        \"unique_words\": num_unique_words,\n",
    "        \"unique_lemmas\": num_unique_lemmas,\n",
    "        \"num_char with space\": num_characters,\n",
    "        #\"num_char no space\" : num_characters_no_space,\n",
    "        \"type_token_ratio\": round(type_token_ratio, 3),\n",
    "        \"mean_sentence_length\": round(mean_sentence_length, 2),\n",
    "\n",
    "        #\"lemmas\": set(word.lemma for sentence in doc.sentences for word in sentence.words if word.upos != \"PUNCT\"),\n",
    "        #\"number of all lemmas\": len([word.lemma for sentence in doc.sentences for word in sentence.words if word.upos != \"PUNCT\"])\n",
    "    }"
   ]
  },
  {
   "cell_type": "code",
   "execution_count": null,
   "metadata": {
    "id": "jfT8hJZJ6qss"
   },
   "outputs": [],
   "source": [
    "# Function to calculate average length difference between two texts\n",
    "def calculate_avg_length_diff(text1, text2, nlp1, nlp2):\n",
    "    doc1 = nlp1(text1)\n",
    "    doc2 = nlp2(text2)\n",
    "    sentence_lengths1 = [len(sentence.words) for sentence in doc1.sentences]\n",
    "    print(sentence_lengths1)\n",
    "    sentence_lengths2 = [len(sentence.words) for sentence in doc2.sentences]\n",
    "    print(sentence_lengths2)\n",
    "    length_differences = [abs(l1 - l2) for l1, l2 in zip(sentence_lengths1, sentence_lengths2)]\n",
    "    print(length_differences)\n",
    "    return np.mean(length_differences) if length_differences else 0"
   ]
  },
  {
   "cell_type": "code",
   "execution_count": null,
   "metadata": {
    "collapsed": true,
    "id": "aBX2OK1J6uTJ"
   },
   "outputs": [],
   "source": [
    "# Calculate statistics\n",
    "source_stats = calculate_statistics(ST, pipeline_pt)\n",
    "mt_stats = calculate_statistics(MT, pipeline_de)\n",
    "pe_stats = calculate_statistics(PEMT, pipeline_de)\n",
    "pe_fn_stats = calculate_statistics(PEMT_fn, pipeline_de)"
   ]
  },
  {
   "cell_type": "code",
   "execution_count": null,
   "metadata": {
    "colab": {
     "base_uri": "https://localhost:8080/"
    },
    "id": "dx610MsuXtsw",
    "outputId": "bfb091a3-f747-437e-b2b5-6554e657822b"
   },
   "outputs": [
    {
     "name": "stdout",
     "output_type": "stream",
     "text": [
      "[23, 28, 28, 20, 5, 28, 38, 24, 49, 58, 27, 11, 7, 18, 46, 8, 31, 22, 24, 5, 6, 35, 9, 8, 32, 15, 18, 27, 14, 6, 23, 22, 39, 9, 9, 6, 19, 38, 31, 20, 13, 11, 29, 6, 18, 22, 26, 20, 37, 3, 48, 18, 39, 20, 28, 47, 24, 29, 47, 9, 4, 67, 15, 24, 8, 23, 24, 52, 39, 15, 20, 32, 14, 45, 21, 57, 19, 9, 21, 67, 43, 20, 25, 8, 14, 32, 21, 4]\n",
      "[19, 25, 33, 23, 3, 28, 36, 21, 52, 52, 32, 9, 10, 20, 49, 6, 40, 22, 21, 7, 8, 36, 9, 9, 30, 15, 12, 28, 18, 7, 21, 18, 40, 8, 8, 6, 21, 42, 27, 20, 15, 13, 29, 9, 15, 23, 30, 15, 37, 5, 44, 18, 42, 16, 24, 45, 25, 34, 53, 12, 7, 67, 20, 18, 7, 23, 26, 52, 32, 20, 22, 27, 12, 45, 21, 52, 16, 9, 22, 71, 34, 16, 28, 11, 11, 37, 20, 4]\n",
      "[4, 3, 5, 3, 2, 0, 2, 3, 3, 6, 5, 2, 3, 2, 3, 2, 9, 0, 3, 2, 2, 1, 0, 1, 2, 0, 6, 1, 4, 1, 2, 4, 1, 1, 1, 0, 2, 4, 4, 0, 2, 2, 0, 3, 3, 1, 4, 5, 0, 2, 4, 0, 3, 4, 4, 2, 1, 5, 6, 3, 3, 0, 5, 6, 1, 0, 2, 0, 7, 5, 2, 5, 2, 0, 0, 5, 3, 0, 1, 4, 9, 4, 3, 3, 3, 5, 1, 0]\n",
      "[23, 28, 28, 20, 5, 28, 38, 24, 49, 58, 27, 11, 7, 18, 46, 8, 31, 22, 24, 5, 6, 35, 9, 8, 32, 15, 18, 27, 14, 6, 23, 22, 39, 9, 9, 6, 19, 38, 31, 20, 13, 11, 29, 6, 18, 22, 26, 20, 37, 3, 48, 18, 39, 20, 28, 47, 24, 29, 47, 9, 4, 67, 15, 24, 8, 23, 24, 52, 39, 15, 20, 32, 14, 45, 21, 57, 19, 9, 21, 67, 43, 20, 25, 8, 14, 32, 21, 4]\n",
      "[19, 22, 31, 15, 3, 31, 39, 27, 51, 52, 24, 11, 6, 22, 42, 6, 31, 27, 28, 7, 4, 35, 9, 9, 27, 16, 10, 36, 13, 7, 25, 18, 36, 8, 7, 7, 21, 40, 40, 22, 15, 13, 27, 7, 20, 23, 32, 17, 37, 3, 41, 20, 41, 16, 24, 48, 20, 31, 58, 11, 6, 72, 19, 19, 11, 24, 26, 52, 35, 20, 19, 28, 14, 46, 18, 52, 20, 10, 24, 71, 35, 16, 27, 8, 15, 37, 23, 6]\n",
      "[4, 6, 3, 5, 2, 3, 1, 3, 2, 6, 3, 0, 1, 4, 4, 2, 0, 5, 4, 2, 2, 0, 0, 1, 5, 1, 8, 9, 1, 1, 2, 4, 3, 1, 2, 1, 2, 2, 9, 2, 2, 2, 2, 1, 2, 1, 6, 3, 0, 0, 7, 2, 2, 4, 4, 1, 4, 2, 11, 2, 2, 5, 4, 5, 3, 1, 2, 0, 4, 5, 1, 4, 0, 1, 3, 5, 1, 1, 3, 4, 8, 4, 2, 0, 1, 5, 2, 2]\n",
      "[23, 28, 28, 20, 5, 28, 38, 24, 49, 58, 27, 11, 7, 18, 46, 8, 31, 22, 24, 5, 6, 35, 9, 8, 32, 15, 18, 27, 14, 6, 23, 22, 39, 9, 9, 6, 19, 38, 31, 20, 13, 11, 29, 6, 18, 22, 26, 20, 37, 3, 48, 18, 39, 20, 28, 47, 24, 29, 47, 9, 4, 67, 15, 24, 8, 23, 24, 52, 39, 15, 20, 32, 14, 45, 21, 57, 19, 9, 21, 67, 43, 20, 25, 8, 14, 32, 21, 4]\n",
      "[19, 22, 31, 15, 3, 31, 39, 27, 51, 52, 24, 11, 6, 22, 42, 6, 31, 27, 28, 7, 4, 35, 9, 9, 27, 16, 10, 36, 13, 7, 25, 18, 36, 8, 7, 7, 21, 40, 40, 22, 15, 13, 27, 7, 20, 23, 32, 17, 37, 3, 41, 20, 41, 16, 24, 48, 20, 31, 58, 11, 6, 72, 19, 19, 11, 24, 26, 52, 35, 20, 19, 28, 14, 46, 18, 52, 20, 10, 24, 71, 35, 16, 27, 8, 15, 37, 23, 6, 19, 39, 39, 28, 17, 6, 33]\n",
      "[4, 6, 3, 5, 2, 3, 1, 3, 2, 6, 3, 0, 1, 4, 4, 2, 0, 5, 4, 2, 2, 0, 0, 1, 5, 1, 8, 9, 1, 1, 2, 4, 3, 1, 2, 1, 2, 2, 9, 2, 2, 2, 2, 1, 2, 1, 6, 3, 0, 0, 7, 2, 2, 4, 4, 1, 4, 2, 11, 2, 2, 5, 4, 5, 3, 1, 2, 0, 4, 5, 1, 4, 0, 1, 3, 5, 1, 1, 3, 4, 8, 4, 2, 0, 1, 5, 2, 2]\n"
     ]
    }
   ],
   "source": [
    "# Calculate average length differences\n",
    "source_mt_diff = calculate_avg_length_diff(ST, MT, pipeline_pt, pipeline_de)\n",
    "source_pe_diff = calculate_avg_length_diff(ST, PEMT, pipeline_pt, pipeline_de)\n",
    "source_pefn_diff = calculate_avg_length_diff(ST, PEMT_fn, pipeline_pt, pipeline_de)"
   ]
  },
  {
   "cell_type": "code",
   "execution_count": null,
   "metadata": {
    "colab": {
     "base_uri": "https://localhost:8080/"
    },
    "id": "m50GyNLwTrUV",
    "outputId": "654b920e-bcb2-474a-f87d-a91e16b01143"
   },
   "outputs": [
    {
     "name": "stdout",
     "output_type": "stream",
     "text": [
      "[19, 25, 33, 23, 3, 28, 36, 21, 52, 52, 32, 9, 10, 20, 49, 6, 40, 22, 21, 7, 8, 36, 9, 9, 30, 15, 12, 28, 18, 7, 21, 18, 40, 8, 8, 6, 21, 42, 27, 20, 15, 13, 29, 9, 15, 23, 30, 15, 37, 5, 44, 18, 42, 16, 24, 45, 25, 34, 53, 12, 7, 67, 20, 18, 7, 23, 26, 52, 32, 20, 22, 27, 12, 45, 21, 52, 16, 9, 22, 71, 34, 16, 28, 11, 11, 37, 20, 4]\n",
      "[19, 22, 31, 15, 3, 31, 39, 27, 51, 52, 24, 11, 6, 22, 42, 6, 31, 27, 28, 7, 4, 35, 9, 9, 27, 16, 10, 36, 13, 7, 25, 18, 36, 8, 7, 7, 21, 40, 40, 22, 15, 13, 27, 7, 20, 23, 32, 17, 37, 3, 41, 20, 41, 16, 24, 48, 20, 31, 58, 11, 6, 72, 19, 19, 11, 24, 26, 52, 35, 20, 19, 28, 14, 46, 18, 52, 20, 10, 24, 71, 35, 16, 27, 8, 15, 37, 23, 6]\n",
      "[0, 3, 2, 8, 0, 3, 3, 6, 1, 0, 8, 2, 4, 2, 7, 0, 9, 5, 7, 0, 4, 1, 0, 0, 3, 1, 2, 8, 5, 0, 4, 0, 4, 0, 1, 1, 0, 2, 13, 2, 0, 0, 2, 2, 5, 0, 2, 2, 0, 2, 3, 2, 1, 0, 0, 3, 5, 3, 5, 1, 1, 5, 1, 1, 4, 1, 0, 0, 3, 0, 3, 1, 2, 1, 3, 0, 4, 1, 2, 0, 1, 0, 1, 3, 4, 0, 3, 2]\n"
     ]
    }
   ],
   "source": [
    "mt_pe_diff = calculate_avg_length_diff(MT, PEMT, pipeline_de, pipeline_de)"
   ]
  },
  {
   "cell_type": "code",
   "execution_count": null,
   "metadata": {
    "colab": {
     "base_uri": "https://localhost:8080/"
    },
    "id": "iAIk-cyZ6yNj",
    "outputId": "b57f701f-e29c-44f8-f600-16275b6557ac"
   },
   "outputs": [
    {
     "name": "stdout",
     "output_type": "stream",
     "text": [
      "Source Text Statistics:\n",
      "{'num_sentences': 88, 'num_words': 1803, 'unique_words': 756, 'unique_lemmas': 598, 'num_char with space': 9501, 'type_token_ratio': 0.419, 'mean_sentence_length': 20.49}\n",
      "\n",
      "MT Statistics:\n",
      "{'num_sentences': 88, 'num_words': 1804, 'unique_words': 778, 'unique_lemmas': 625, 'num_char with space': 11027, 'type_token_ratio': 0.431, 'mean_sentence_length': 20.5}\n",
      "\n",
      "PEMT Statistics:\n",
      "{'num_sentences': 88, 'num_words': 1827, 'unique_words': 844, 'unique_lemmas': 700, 'num_char with space': 11345, 'type_token_ratio': 0.462, 'mean_sentence_length': 20.76}\n",
      "\n",
      "PEMT with footnotes Statistics:\n",
      "{'num_sentences': 95, 'num_words': 1976, 'unique_words': 917, 'unique_lemmas': 765, 'num_char with space': 12419, 'type_token_ratio': 0.464, 'mean_sentence_length': 20.8}\n",
      "\n",
      "Average Length Differences:\n",
      "Source-MT: 2.64\n",
      "Source-PEMT: 2.86\n",
      "Source-PEMT_fn: 2.86\n",
      "MT-PEMT: 2.34\n"
     ]
    }
   ],
   "source": [
    "# Print results\n",
    "print(\"Source Text Statistics:\")\n",
    "print(source_stats)\n",
    "print(\"\\nMT Statistics:\")\n",
    "print(mt_stats)\n",
    "print(\"\\nPEMT Statistics:\")\n",
    "print(pe_stats)\n",
    "print(\"\\nPEMT with footnotes Statistics:\")\n",
    "print(pe_fn_stats)\n",
    "print(\"\\nAverage Length Differences:\")\n",
    "print(f\"Source-MT: {round(source_mt_diff, 2)}\")\n",
    "print(f\"Source-PEMT: {round(source_pe_diff, 2)}\")\n",
    "print(f\"Source-PEMT_fn: {round(source_pefn_diff, 2)}\")\n",
    "\n",
    "print(f\"MT-PEMT: {round(mt_pe_diff, 2)}\")"
   ]
  },
  {
   "cell_type": "code",
   "execution_count": null,
   "metadata": {
    "id": "_ZNZl-TMYsAM"
   },
   "outputs": [],
   "source": [
    "def print_latex_table_with_pemt(source_stats, mt_stats, pe_stats, pefn_stats,\n",
    "                                 source_mt_diff, source_pe_diff, source_pefn_diff):\n",
    "    def fmt(val):\n",
    "        return round(val, 2) if isinstance(val, float) else val\n",
    "\n",
    "    print(\"      Number of sentences & {} & {} & {} & {} \\\\\\\\\".format(\n",
    "        source_stats['num_sentences'], mt_stats['num_sentences'],\n",
    "        pe_stats['num_sentences'], pe_fn_stats['num_sentences']))\n",
    "\n",
    "    print(\"      Total words & {} & {} & {} & {} \\\\\\\\\".format(\n",
    "        source_stats['num_words'], mt_stats['num_words'],\n",
    "        pe_stats['num_words'], pe_fn_stats['num_words']))\n",
    "\n",
    "    print(\"      Unique lemmata & {} & {} & {} & {} \\\\\\\\\".format(\n",
    "        source_stats['unique_lemmas'], mt_stats['unique_lemmas'],\n",
    "        pe_stats['unique_lemmas'], pe_fn_stats['unique_lemmas']))\n",
    "\n",
    "    print(\"      Characters & {} & {} & {} & {} \\\\\\\\\".format(\n",
    "        source_stats['num_char with space'], mt_stats['num_char with space'],\n",
    "        pe_stats['num_char with space'], pe_fn_stats['num_char with space']))\n",
    "\n",
    "    print(\"      TTR & {:.3f} & {:.3f} & {:.3f} & {:.3f} \\\\\\\\\".format(\n",
    "        source_stats['type_token_ratio'], mt_stats['type_token_ratio'],\n",
    "        pe_stats['type_token_ratio'], pe_fn_stats['type_token_ratio']))\n",
    "\n",
    "    print(\"      Mean sentence length & {:.2f} & {:.2f} & {:.2f} & {:.2f} \\\\\\\\\".format(\n",
    "        source_stats['mean_sentence_length'], mt_stats['mean_sentence_length'],\n",
    "        pe_stats['mean_sentence_length'], pe_fn_stats['mean_sentence_length']))\n",
    "\n",
    "    print(\"      Average length difference & -- & {:.2f} & {:.2f} & {:.2f} \\\\\\\\\".format(\n",
    "        source_mt_diff, source_pe_diff, source_pefn_diff))\n"
   ]
  },
  {
   "cell_type": "code",
   "execution_count": null,
   "metadata": {
    "colab": {
     "base_uri": "https://localhost:8080/"
    },
    "id": "BClDGVLvZlEG",
    "outputId": "40168400-f348-43de-d09e-5a0309c73ed6"
   },
   "outputs": [
    {
     "name": "stdout",
     "output_type": "stream",
     "text": [
      "      Number of sentences & 88 & 88 & 88 & 95 \\\\\n",
      "      Total words & 1803 & 1804 & 1827 & 1976 \\\\\n",
      "      Unique lemmata & 598 & 625 & 700 & 765 \\\\\n",
      "      Characters & 9501 & 11027 & 11345 & 12419 \\\\\n",
      "      TTR & 0.419 & 0.431 & 0.462 & 0.464 \\\\\n",
      "      Mean sentence length & 20.49 & 20.50 & 20.76 & 20.80 \\\\\n",
      "      Average length difference & -- & 2.64 & 2.86 & 2.86 \\\\\n"
     ]
    }
   ],
   "source": [
    "print_latex_table_with_pemt(source_stats, mt_stats, pe_stats, pe_fn_stats,\n",
    "                                 source_mt_diff, source_pe_diff, source_pefn_diff)"
   ]
  },
  {
   "cell_type": "markdown",
   "metadata": {
    "id": "mxTw978_i2dA"
   },
   "source": [
    "# Save parallel data TSV file"
   ]
  },
  {
   "cell_type": "code",
   "execution_count": null,
   "metadata": {
    "id": "6sCz2T6ba_VZ"
   },
   "outputs": [],
   "source": [
    "def extract_sentences(document):\n",
    "    \"\"\"\n",
    "    Extracts full sentences (with punctuation) from a Stanza document object.\n",
    "\n",
    "    Args:\n",
    "        document: Stanza processed Document object.\n",
    "\n",
    "    Returns:\n",
    "        list of str: Extracted sentences as strings.\n",
    "    \"\"\"\n",
    "    return [sentence.text for sentence in document.sentences]"
   ]
  },
  {
   "cell_type": "code",
   "execution_count": null,
   "metadata": {
    "id": "kutCjx_MbBDn"
   },
   "outputs": [],
   "source": [
    "mt_sentences = extract_sentences(test_MT)\n",
    "pe_sentences = extract_sentences(test_PEMT)\n",
    "st_sentences = extract_sentences(test_ST)"
   ]
  },
  {
   "cell_type": "code",
   "execution_count": null,
   "metadata": {
    "colab": {
     "base_uri": "https://localhost:8080/"
    },
    "id": "u2aIj51li9gr",
    "outputId": "eea13135-8720-42f0-aa4e-e1c9aff6c6bb"
   },
   "outputs": [
    {
     "data": {
      "text/plain": [
       "['Ich bin seit dem 25. des letzten Monats im Hospiz, oder vielmehr in verschiedenen Teilen davon.',\n",
       " 'Ich war auf der Beobachtungsstation, die die schlimmste Stufe für diejenigen ist, die wie ich hier in die Hände der Polizei geraten.',\n",
       " 'Sie nehmen dir die Kleidung weg, die du trägst, und geben dir eine andere, die nur deine Blöße bedeckt, und sie geben dir nicht einmal Hausschuhe oder Clogs.',\n",
       " 'Das andere Mal, als ich dort war, haben sie mir dieses Kleidungsstück geschenkt, das jetzt für mich unverzichtbar ist.',\n",
       " 'Diesmal nicht.',\n",
       " 'Die alte Krankenschwester war menschlich und gut, die jetzige ist eine arrogante Portugiesin (die andere war es), mit einer prahlerischen und anmaßenden Physiognomie.',\n",
       " 'Sie gaben mir einen Becher Mate, und danach, als es noch hell war, warfen sie mich auf eine Grasmatratze mit einer armen Decke, bekannt für unsere ganze Armut und unser Elend.',\n",
       " 'Das Hospiz stört mich nicht sehr, aber was mich stört, ist dieses Eindringen der Polizei in mein Leben.',\n",
       " 'Von mir zu mir, ich bin sicher, dass ich nicht verrückt bin, aber wegen des Alkohols, gemischt mit allen Arten von Befürchtungen, dass die Schwierigkeiten meines materiellen Lebens seit 6 Jahren mich überwältigen, von Zeit zu Zeit gebe ich Zeichen des Wahnsinns: Ich Delirium.',\n",
       " 'Außer diesem ersten Mal, als ich im Irrenhaus war, wurde ich 1916 in Ouro Fino von einer identischen Krise heimgesucht und in die dortige Santa Casa gebracht, 1917 wurde ich aus demselben Grund in das Zentralkrankenhaus der Armee gebracht, jetzt gehe ich wieder ins Irrenhaus.',\n",
       " 'Ich bin mir sicher, dass ich nicht ein drittes Mal dorthin zurückkehren werde, andernfalls werde ich es für St. Johannes der Täufer verlassen, der in der Nähe liegt.',\n",
       " 'Ich störe andere sehr, auch meine Verwandten.',\n",
       " 'Es ist nicht fair, dass dies so weitergeht.',\n",
       " 'Was meine Freunde angeht, so ist keiner von ihnen aufgetaucht, außer Mr. Carlos Ventura und sein Neffe.',\n",
       " 'Dieser Herr Carlos Ventura ist ein alter Mann, er hat einen Verkauf in der Piauí Straße, in Todos os Santos, er beliefert unser Haus, und mit seiner Hilfe haben sie es geschafft, mich mit dem Lasso einzufangen und ins Hospiz zu bringen.',\n",
       " 'Alípio und Jorge begleiteten mich.',\n",
       " 'Die Nacht zum 25. verbrachte ich im Pavillon und schlief sehr gut, denn die Nacht zum 24, hatte ich im Schlaf verbracht, indem ich im vollen Delirium in der Vorstadt herumirrte.',\n",
       " 'Ich aß Kaffee und Brot und ging zu einem Arzt, von dem man mir sagte, er heiße Adauto.',\n",
       " 'Er behandelte mich mit Gleichgültigkeit, stellte mir Fragen und deutete an, dass er mich für ihn rauswerfen würde.',\n",
       " 'Ich ging zurück in den Hof.',\n",
       " 'Was für ein Ding, mein Gott!',\n",
       " 'Ich war dort wie ein Truthahn, inmitten vieler anderer, gehütet von einem guten portugiesischen Mann, der die raue, aber süße und mitfühlende Art eines Bauern aus Trás-os-Montes hatte.',\n",
       " 'Er kannte mich schon vom anderen Mal.',\n",
       " 'Er nannte mich Sie und gab mir Zigaretten.',\n",
       " 'Das andere Mal ging ich in die Villa und er ließ mich die Veranda schaufeln, das Badezimmer waschen, wo er mir ein ausgezeichnetes Peitschen-Duschbad verpasste.',\n",
       " 'Wir waren alle nackt, die Türen offen, und ich war sehr schüchtern.',\n",
       " 'Ich erinnerte mich an Dostojewskis Dampfbad im Haus der Toten.',\n",
       " 'Als ich kübelte, weinte ich, aber ich erinnerte mich an Cervantes, an Dostojewski selbst, die schlimmer in Algier und Sibirien hätten leiden müssen.',\n",
       " 'Dieses Mal haben sie mich nicht dazu gebracht, den Balkon oder einen anderen Service zu kaufen.',\n",
       " 'Ich hatte den Tribut bereits entrichtet...',\n",
       " 'Ich ging in den Innenhof, nach Doktor Adauto, aber sehr bald wurde ich wieder auf den Balkon gerufen.',\n",
       " 'Ich setzte mich neben einen jungen schwarzen Mann, ein kompletter Typ des bescheidensten Exemplars unserer Gesellschaft.',\n",
       " 'Er trug eine Hose, die bis zu den Schienbeinen reichte, ein Hemd, dessen Ärmel bis zu zwei Dritteln der Unterarme reichten, und sehr schmutzige Hausschuhe, die ich im Keller der Veranda entdeckt hatte.',\n",
       " 'Ich musste von Henrique Roxo untersucht werden.',\n",
       " 'Vor vier Jahren lernten wir uns kennen.',\n",
       " 'Dieser Roxo ist sehr neugierig.',\n",
       " 'Er scheint mir intelligent, fleißig, ehrlich, aber ich weiß nicht, warum ich nicht mit ihm sympathisiere.',\n",
       " 'Er scheint mir einer jener brasilianischen Ärzte zu sein, die von der Gewissheit ihrer Kunst durchdrungen sind, die jede andere intellektuelle Tätigkeit als die eigene völlig verachten und kaum in der Lage sind, die Tatsache selbst zu überprüfen.',\n",
       " 'Ich finde ihn sehr buchhalterisch und wenig daran interessiert, zu entdecken, ein wenig den Schleier des Geheimnisses zu lüften - was für ein Geheimnis!',\n",
       " 'Er liest die Bücher von Europa, von den Vereinigten Staaten vielleicht, aber er liest nicht die Natur.',\n",
       " 'Ich habe keine Antipathie gegen ihn, aber nichts zieht mich zu ihm hin.',\n",
       " 'Er fragte mich nach meinem Vater, und ich gab ihm Auskunft.',\n",
       " 'Dann erzählte ich ihm, dass ich von meinem Bruder dorthin gesteckt worden war, der an die Allmacht der Wissenschaft und den Glauben an das Irrenhaus glaubte.',\n",
       " 'Ich glaube, er hat es nicht gemocht.',\n",
       " 'Ihn begleitete eine Art Praktikantin, die trotz des Kneifzahns ein bovines Gesicht hatte.',\n",
       " 'Sowohl dort als auch hier, im Hospiz, vermeiden die Kostgänger das Gespräch mit den Kranken: Leichenschauhaus oder Verordnung?',\n",
       " 'Zu Zeiten meines Vaters war das nicht so, und sobald sie einen kranken Menschen in unserem Haus entdeckten, gingen sie auf ihn zu und sprachen ihn an.',\n",
       " 'Die akademische Jugend, der ich angehörte, wird entschieden immer anmaßender und hohler.',\n",
       " 'Ich dachte, trotz allem, dass Roxo mich wegschicken würde, so sehr, dass ich nach dem Mittagessen, als diese Krankenschwester bragança mich rief, dachte, es sei, um zu gehen.',\n",
       " 'Das war es nicht.',\n",
       " 'Ich erinnere mich jetzt an eine Tatsache, der Zivilwächter, der an der Tür des Hospizes auf mich wartete, da kein Polizist mit mir kam, sprach ihn an und nannte ihn mehr als einmal Doktor, er protestierte jedoch nie.',\n",
       " 'Er nannte mich die Bragantin und führte mich durch die Gänge und Höfe zum eigentlichen Hospiz.',\n",
       " 'Dort wurde mir klar, dass ich mich dort aufhielt, und zwar in der Abteilung, der der Bedürftigen, in der das Bild dessen, was Unglück über das Leben der Menschen bringen kann, am eindrucksvollsten ist.',\n",
       " 'Die Möbel, das Bettzeug, die Betten, alles ist von einer unvergleichlichen Armut.',\n",
       " 'Ohne ein Monopol zu bilden, sind die Verrückten unterschiedlichster Provenienz und stammen in der Regel aus den ärmsten Schichten unseres armen Volkes.',\n",
       " 'Sie stammen von italienischen, portugiesischen und anderen exotischeren Einwanderern, sie sind die schwarzen Bauern, die darauf bestehen, in den Fensteröffnungen auf einer schmuddeligen Matte und einer schäbigen Decke zu schlafen, sie sind Mundschenke, Kutscher, Stallburschen, Handarbeiter.',\n",
       " 'Inmitten von all dem gab es viele gebildete Menschen, die aber aus Mangel an Mitteln und Schutz in dieses soziale Gehenna geworfen wurden.',\n",
       " 'Ich sah dort D... L..., ein fröhlicher Dichter, ein Weggefährte von Tapajós, den ich so und so kennengelernt habe, und dann hat er in Vila Isabel eine Schule gegründet.',\n",
       " 'Es scheint mir, dass es ihm gut ging, aber als die Gleichstellung kam und er nicht die Mittel hatte, um daraus ein Gymnasium zu machen (eine Kaution von fünfzigtausend Escudos und eine Aufsichtsquote), verlor er die Teilnahme, wurde angewidert, verschuldete sich und wurde verrückt.',\n",
       " 'Er grüßte mich, aber er wollte nicht mit mir sprechen.',\n",
       " 'Ich habe auf den Arzt gewartet.',\n",
       " 'Es war ein Doktor Airosa, ich glaube, so hieß er, er befragte mich, ich antwortete ihm wahrheitsgemäß, und er schien kein schlechter Kerl zu sein, aber er lächelte rätselhaft, so als wolle er sagen: \"Du bleibst hier\" oder zum Ausdruck bringen, dass meine literarischen Verdienste wertlos seien, natürlich angesichts der Dummheiten von Aluisio.',\n",
       " 'Ob es nun das eine oder das andere war, oder beides zusammen, ich habe mich nicht aufgeregt.',\n",
       " 'Er war sehr jung, in seinem Alter hätte ich in seinem Fall vielleicht auch so gedacht.',\n",
       " 'Die Oberschwester oder Inspektorin war Santana.',\n",
       " 'Ein kräftiger, freundlicher Mulatte, feste Augen, ein wenig wachsam, ovales Gesicht, der sehr gut zu mir war.',\n",
       " 'Er war auf der Insel angestellt gewesen, als mein Vater dort Steward oder Verwalter war, und er erinnerte sich in Freundschaft an ihn.',\n",
       " 'Er gab mir ein Bett in einer vernünftigeren Abteilung, sorgte dafür, dass ich mit den Internatsschülern der vierten Klasse aß, und ließ mich am nächsten Tag in einem Zimmer mit einem Medizinstudenten, Queirós, schlafen, der durch einen Anfall halbseitig gelähmt und halbwertig geworden war.',\n",
       " 'Er behandelte mich gut, obwohl er nicht ohne diese kindische Anmaßung unseres Schülers war, der denkt, er sei anders als die anderen, nur weil er anders ist.',\n",
       " 'Ich gab ihm zu verstehen, dass ich schon einer gewesen sei, er schien mir nicht zu glauben.',\n",
       " 'Die Nacht vom 26. auf den 27. schlief ich im allgemeinen Schlafsaal, den 27. im Studentenzimmer.',\n",
       " 'Achtundzwanzig war Sonntag, ich hatte Besuch von meinem Bruder und Herrn Ventura, beide brachten mir Zigaretten, und Herr Ventura, Rosinen und Feigen.',\n",
       " 'Auch dieses Mal schlief ich im Zimmer mit dem Studenten.',\n",
       " 'In der Sektion Pinel, von der ich spreche, lernte ich einen portugiesischen Jungen wieder kennen, der mich schon kannte, als ich noch Student war und in der Ferraz-Pension aß, das muss zwanzig Jahre oder mehr her sein.',\n",
       " 'Während der Tage, die ich dort war, war er, José Pinto, eine unvergessliche Hilfe für mich.',\n",
       " 'Er erinnerte den Portier an den Auftrag von Santana, die Mahlzeiten im speziellen Speisesaal einzunehmen, er besorgte mir Zeitungen (auch Santana), Zigaretten (diese Irrenhaus-Tragödie werde ich gesondert erzählen) und am Sonntagnachmittag machte er mit mir einen Spaziergang durch den Hospizhof.',\n",
       " 'Sie ist sehr groß und sollte trotz ihrer Verkrüppelung und Misshandlung eine wunderbare Arborealisation haben.',\n",
       " 'Die reichen Leute von heute mögen keine Bäume...',\n",
       " 'Das Hospiz ist gut gebaut und für die Zeit, in der es gebaut wurde, mit sehr ausgeprägter hygienischer Pflege.',\n",
       " 'Die Räume sind klar, die Zimmer großzügig, entsprechend ihrer Kapazität und Bestimmung, alles gut gelüftet, mit der blauen Luft dieser schönen Bucht von Botafogo, die uns in ihrer unerbittlichen Schönheit tröstet, wenn wir sie leicht von der Erde zerknittert durch die Gitterstäbe des Irrenhauses betrachten, wenn wir dämmern und uns daran erinnern, dass wir nicht mehr wissen, wie wir träumen sollen...',\n",
       " 'Dort fährt eine Falua ein, mit geschmückten Segeln, und auf der Straße unten gehen Mädchen in Badekleidern vorbei, die ihre Waschbecken scharf in den Rüssel ziehen, bis jetzt unbrauchbar.',\n",
       " 'Am Montag, bevor mein Bruder kam, ging ich zu Dr. Juliano Moreira.',\n",
       " 'Er behandelte mich mit großer Zärtlichkeit, väterlich, ermahnte mich nicht, ließ mich an seiner Seite sitzen und fragte mich, wo ich bleiben wolle.',\n",
       " 'Ich habe es ihm in der Calmeil-Sektion gesagt.',\n",
       " 'Er gab Santana Anweisungen, und bald war ich da.',\n",
       " 'Ich will hier aufhören, denn ich werde müde, aber ich kann nicht umhin, die eigentümliche Manie zu nennen, die die Geisteskranken haben, besonders die von niedriger Herkunft, nackt zu gehen.',\n",
       " 'Im Pinel lebten zehn Prozent so, in einem Innenhof, der eine Bolgia aus der Hölle war.',\n",
       " 'Warum ist das so?']"
      ]
     },
     "execution_count": 17,
     "metadata": {},
     "output_type": "execute_result"
    }
   ],
   "source": [
    "mt_sentences"
   ]
  },
  {
   "cell_type": "code",
   "execution_count": null,
   "metadata": {
    "id": "AqjE5OeHi_YP"
   },
   "outputs": [],
   "source": [
    "import csv\n",
    "\n",
    "def save_parallel_data(file_path, source_sentences, target_sentences):\n",
    "    with open(file_path, \"w\", encoding=\"utf-8\", newline='') as f:\n",
    "        writer = csv.writer(f, delimiter=\"\\t\")\n",
    "        for src, tgt in zip(source_sentences, target_sentences):\n",
    "            writer.writerow([src, tgt])"
   ]
  },
  {
   "cell_type": "code",
   "execution_count": null,
   "metadata": {
    "id": "7URcQJXBjBRr"
   },
   "outputs": [],
   "source": [
    "# Save MT–PEMT\n",
    "save_parallel_data(\"mt_pemt.tsv\", mt_sentences, pe_sentences)\n",
    "\n",
    "# Save ST-PEMT (optional, for analysis)\n",
    "save_parallel_data(\"st_pemt.tsv\", st_sentences, pe_sentences)\n",
    "\n",
    "# Save ST-MT\n",
    "save_parallel_data(\"o-pavilhão-e-a-pinel_st_mt.tsv\", st_sentences, mt_sentences)"
   ]
  },
  {
   "cell_type": "code",
   "execution_count": null,
   "metadata": {
    "colab": {
     "base_uri": "https://localhost:8080/",
     "height": 17
    },
    "id": "I3j4CcdPjCi0",
    "outputId": "b2364484-9bd2-4460-9bb8-52e2b3a8a620"
   },
   "outputs": [
    {
     "data": {
      "application/javascript": [
       "\n",
       "    async function download(id, filename, size) {\n",
       "      if (!google.colab.kernel.accessAllowed) {\n",
       "        return;\n",
       "      }\n",
       "      const div = document.createElement('div');\n",
       "      const label = document.createElement('label');\n",
       "      label.textContent = `Downloading \"${filename}\": `;\n",
       "      div.appendChild(label);\n",
       "      const progress = document.createElement('progress');\n",
       "      progress.max = size;\n",
       "      div.appendChild(progress);\n",
       "      document.body.appendChild(div);\n",
       "\n",
       "      const buffers = [];\n",
       "      let downloaded = 0;\n",
       "\n",
       "      const channel = await google.colab.kernel.comms.open(id);\n",
       "      // Send a message to notify the kernel that we're ready.\n",
       "      channel.send({})\n",
       "\n",
       "      for await (const message of channel.messages) {\n",
       "        // Send a message to notify the kernel that we're ready.\n",
       "        channel.send({})\n",
       "        if (message.buffers) {\n",
       "          for (const buffer of message.buffers) {\n",
       "            buffers.push(buffer);\n",
       "            downloaded += buffer.byteLength;\n",
       "            progress.value = downloaded;\n",
       "          }\n",
       "        }\n",
       "      }\n",
       "      const blob = new Blob(buffers, {type: 'application/binary'});\n",
       "      const a = document.createElement('a');\n",
       "      a.href = window.URL.createObjectURL(blob);\n",
       "      a.download = filename;\n",
       "      div.appendChild(a);\n",
       "      a.click();\n",
       "      div.remove();\n",
       "    }\n",
       "  "
      ],
      "text/plain": [
       "<IPython.core.display.Javascript object>"
      ]
     },
     "metadata": {},
     "output_type": "display_data"
    },
    {
     "data": {
      "application/javascript": [
       "download(\"download_d98c2700-6f8b-4fef-932f-1f27d1516d14\", \"mt_pemt.tsv\", 22746)"
      ],
      "text/plain": [
       "<IPython.core.display.Javascript object>"
      ]
     },
     "metadata": {},
     "output_type": "display_data"
    },
    {
     "data": {
      "application/javascript": [
       "\n",
       "    async function download(id, filename, size) {\n",
       "      if (!google.colab.kernel.accessAllowed) {\n",
       "        return;\n",
       "      }\n",
       "      const div = document.createElement('div');\n",
       "      const label = document.createElement('label');\n",
       "      label.textContent = `Downloading \"${filename}\": `;\n",
       "      div.appendChild(label);\n",
       "      const progress = document.createElement('progress');\n",
       "      progress.max = size;\n",
       "      div.appendChild(progress);\n",
       "      document.body.appendChild(div);\n",
       "\n",
       "      const buffers = [];\n",
       "      let downloaded = 0;\n",
       "\n",
       "      const channel = await google.colab.kernel.comms.open(id);\n",
       "      // Send a message to notify the kernel that we're ready.\n",
       "      channel.send({})\n",
       "\n",
       "      for await (const message of channel.messages) {\n",
       "        // Send a message to notify the kernel that we're ready.\n",
       "        channel.send({})\n",
       "        if (message.buffers) {\n",
       "          for (const buffer of message.buffers) {\n",
       "            buffers.push(buffer);\n",
       "            downloaded += buffer.byteLength;\n",
       "            progress.value = downloaded;\n",
       "          }\n",
       "        }\n",
       "      }\n",
       "      const blob = new Blob(buffers, {type: 'application/binary'});\n",
       "      const a = document.createElement('a');\n",
       "      a.href = window.URL.createObjectURL(blob);\n",
       "      a.download = filename;\n",
       "      div.appendChild(a);\n",
       "      a.click();\n",
       "      div.remove();\n",
       "    }\n",
       "  "
      ],
      "text/plain": [
       "<IPython.core.display.Javascript object>"
      ]
     },
     "metadata": {},
     "output_type": "display_data"
    },
    {
     "data": {
      "application/javascript": [
       "download(\"download_552888e2-f4bb-4f1a-b2ab-3b9d1deff7e3\", \"st_pemt.tsv\", 21334)"
      ],
      "text/plain": [
       "<IPython.core.display.Javascript object>"
      ]
     },
     "metadata": {},
     "output_type": "display_data"
    }
   ],
   "source": [
    "from google.colab import files\n",
    "files.download(\"mt_pemt.tsv\")\n",
    "files.download(\"st_pemt.tsv\")"
   ]
  },
  {
   "cell_type": "code",
   "execution_count": null,
   "metadata": {
    "colab": {
     "base_uri": "https://localhost:8080/",
     "height": 17
    },
    "id": "32biZzc78l9d",
    "outputId": "c858c048-826e-4b28-e51d-55899225217a"
   },
   "outputs": [
    {
     "data": {
      "application/javascript": [
       "\n",
       "    async function download(id, filename, size) {\n",
       "      if (!google.colab.kernel.accessAllowed) {\n",
       "        return;\n",
       "      }\n",
       "      const div = document.createElement('div');\n",
       "      const label = document.createElement('label');\n",
       "      label.textContent = `Downloading \"${filename}\": `;\n",
       "      div.appendChild(label);\n",
       "      const progress = document.createElement('progress');\n",
       "      progress.max = size;\n",
       "      div.appendChild(progress);\n",
       "      document.body.appendChild(div);\n",
       "\n",
       "      const buffers = [];\n",
       "      let downloaded = 0;\n",
       "\n",
       "      const channel = await google.colab.kernel.comms.open(id);\n",
       "      // Send a message to notify the kernel that we're ready.\n",
       "      channel.send({})\n",
       "\n",
       "      for await (const message of channel.messages) {\n",
       "        // Send a message to notify the kernel that we're ready.\n",
       "        channel.send({})\n",
       "        if (message.buffers) {\n",
       "          for (const buffer of message.buffers) {\n",
       "            buffers.push(buffer);\n",
       "            downloaded += buffer.byteLength;\n",
       "            progress.value = downloaded;\n",
       "          }\n",
       "        }\n",
       "      }\n",
       "      const blob = new Blob(buffers, {type: 'application/binary'});\n",
       "      const a = document.createElement('a');\n",
       "      a.href = window.URL.createObjectURL(blob);\n",
       "      a.download = filename;\n",
       "      div.appendChild(a);\n",
       "      a.click();\n",
       "      div.remove();\n",
       "    }\n",
       "  "
      ],
      "text/plain": [
       "<IPython.core.display.Javascript object>"
      ]
     },
     "metadata": {},
     "output_type": "display_data"
    },
    {
     "data": {
      "application/javascript": [
       "download(\"download_de56075a-c524-457c-9b15-07e5a31044de\", \"o-pavilh\\u00e3o-e-a-pinel_st_mt.tsv\", 21010)"
      ],
      "text/plain": [
       "<IPython.core.display.Javascript object>"
      ]
     },
     "metadata": {},
     "output_type": "display_data"
    }
   ],
   "source": [
    "from google.colab import files\n",
    "files.download(\"o-pavilhão-e-a-pinel_st_mt.tsv\")"
   ]
  },
  {
   "cell_type": "markdown",
   "metadata": {
    "id": "1R-4HnehTMtM"
   },
   "source": [
    "# Scores"
   ]
  },
  {
   "cell_type": "code",
   "execution_count": null,
   "metadata": {
    "id": "Vhlt3wX_bfzW"
   },
   "outputs": [],
   "source": [
    "import sacrebleu"
   ]
  },
  {
   "cell_type": "code",
   "execution_count": null,
   "metadata": {
    "colab": {
     "base_uri": "https://localhost:8080/"
    },
    "id": "ZcOBxlQkbhc7",
    "outputId": "1cfe7580-5c84-4de7-884e-9ddd689e0596"
   },
   "outputs": [
    {
     "name": "stdout",
     "output_type": "stream",
     "text": [
      "BLEU: 31.89\n",
      "TER: 59.27\n",
      "chrF: 55.26\n"
     ]
    }
   ],
   "source": [
    "# References and hypotheses should be lists of strings (sentences)\n",
    "references = [pe_sentences]  # reference: PEMT\n",
    "hypothesis = mt_sentences    # hypothesis: MT\n",
    "\n",
    "# BLEU\n",
    "bleu = sacrebleu.corpus_bleu(hypothesis, references)\n",
    "print(\"BLEU:\", round(bleu.score, 2))\n",
    "\n",
    "# TER\n",
    "ter = sacrebleu.corpus_ter(hypothesis, references)\n",
    "print(\"TER:\", round(ter.score, 2))\n",
    "\n",
    "# chrF\n",
    "chrf = sacrebleu.corpus_chrf(hypothesis, references)\n",
    "print(\"chrF:\", round(chrf.score, 2))"
   ]
  },
  {
   "cell_type": "code",
   "execution_count": null,
   "metadata": {
    "colab": {
     "base_uri": "https://localhost:8080/",
     "height": 500,
     "referenced_widgets": [
      "a3706f0e447c41ff90bb0936ab220456",
      "09f397fb9c3845aa827a24b8c8767b83",
      "cb9e8345d0224b31ac7730f0a1de0668",
      "1d69edfd05134dd48bfc3454c63b08de",
      "23fb1b5e0e0e4005809f79b287d52a0d",
      "622f665719d84edbacda8299c539f26f",
      "ef2606e6fa8a478593aba56ccff51d5e",
      "70155afa64834205868929f88f72433e",
      "5b8ea125a31b46a5939af974c904ab72",
      "9aa1b7631f8e4faa90175a34b4ccfa7e",
      "9086a86baca14fd4b13daeb7b0206d3a",
      "a3702608fae846dd9d2ac704b875974e",
      "4bc7a653291f45faba3c23448d9d702b",
      "1a1ee71766e24e9187e9fd5719b240eb",
      "ad64a0ce683b4fac803cf70cce4a1cff",
      "e4ed621b9ade494d96ebca6eaed499b5",
      "60039d11daaa4f37b2c6907ec505afca",
      "8b203615c9404a379f17fb183fbd0a1c",
      "b57137696c7c4d28bad9992f93233ea3",
      "4b4a0f76994e41128f6e3e278a4c150e",
      "cfcd91bd0ced42b1aa214a84a80dae74",
      "ed57266b03d844379cf38cb70d2e3fb6",
      "5900946bbca64ae19812a457b8fee82e",
      "f8bced59c7454122a7e3f714297973e0",
      "b5a43071bbc248bab03eaf52a79fb64e",
      "82e13c1abf2c4064a308572f912be277",
      "d4afd7e1d980457d8d5503657a376a08",
      "84220b6af7ca49faaf2ddc07733994df",
      "7bc707809e2d4c2fa6fadcfcf47434c5",
      "e1fc6048b5764992a330b157cb50eeb9",
      "14439a5d634b47acb720962eb8cbe96c",
      "2192abaeee024e47ba744c37d71a5811",
      "23c596d23f43461b93d8d3495afacd90",
      "1fe35f57ab484a93bcd1a9c1535493d0",
      "747f0c5b45bd489cb6030b40af4b683c",
      "34c30952353d46ab841a81f3d65a3e73",
      "84487733f26d43d3b4a44c879e4ea6f6",
      "d38092241e5444b79bf44a4878634baa",
      "123c3a82446941aeaf4778e73b0f6c6b",
      "26daab2db9a248fda0be32ddbc78feb2",
      "92b1653cf3b7439d83457ff8eaa02254",
      "9b5ddec7811940bb829d7bc6ac912b61",
      "938d17c56ba3494da0a7f9f8c3bbbc66",
      "792635e5b8f34eadaccc2f79d4735446",
      "db33632cd9ca40fdbb4fb4af1edaa61a",
      "14cbc8ebe0c64a05b5ed4d3ca6e7a1fa",
      "cde40d633a124300add07de88b3071bb",
      "2aff6416b80542d5934e1963e033acf8",
      "b13943a65e3d47aca1be1bd3922d2ab6",
      "28152664af8942a5a0150adcb3b3adb1",
      "fbfb09f177e04673931ad80b7990b926",
      "9e1bfc3e136e48bea9e254cbcaeca938",
      "374bead63ea1493a8da53bb097620e9b",
      "fd1bcf6456eb4ad49acfd6c4faf1923c",
      "34f9e27f140944dc8b6f448f64396043",
      "8bbd6c157c8842db8125ced5d4b37dad",
      "2001752550a84a89aa47a9a5a5ba0c78",
      "eb8f08e973c04f68bb20833736b6b4d3",
      "c2e099c845894afe952100bc2e238f78",
      "f6c68a2976714622aef4bf9f87a3c5e6",
      "9804cb659cee46e981a8f2440882691e",
      "792d26962aec4b3784ead7b0758d15dc",
      "7201304538124fe29c1fd038f73ba11f",
      "c0ca3a56f3744fa4ba68c8614a8d66e3",
      "2c0573fa2a9d4bc4b583818ef4d72af1",
      "f334bda01af44a04915b5824bb3446d8",
      "564168372cfa49dfb77f1534151a9769",
      "4275edb399ca410a8c9103cc75913799",
      "db0864db8b084b678380aa9b404bfe56",
      "b6d812966f4e4f949fa2d1f21a9c4af3",
      "a7903b7af5eb482d8020ce3d70fd4073",
      "6ca8fcdb82324b7890cff319bb4893d9",
      "da5c0bd7ae03418c8dff04626c71bbcc",
      "7e21e3294d6f484dbd51380ca47eab2e",
      "6958180bb9c24311970644a8d7fb45e7",
      "97ac437efcc745d8bae27fbeb71b9ab5",
      "093c2b0f49f8445f9be1cfdb52261e92",
      "931281ca622143a687fe151008ae3aad",
      "0c75f63472e94c73ad0ad359d6ef2cfc",
      "808686291b4c433788bc10620ac09b95",
      "2046ec5cb2f74572834977bae8c6fd51",
      "665d636ed16b43a28232fe533eaf95a6",
      "0c8685aaf2bc482ca811f7bd31f32f83",
      "acde5a92e74842ca86683cf4ea2ad3d9",
      "fc919c8f0265440ca48428ef4a65431b",
      "9a14a672e79b44e191d398d0dd5bc317",
      "ea61e9681602430eb7f9c60aa30552e1",
      "84d07a9b61fc47c49aadfac0fc4182ee",
      "c0527af0d0ad4a9f95c2c85772710d92",
      "b522245c44da480c894d6c53d746b944",
      "abfc8d694fd940698fd82254298dedf6",
      "42e8813cf43a43fb91b5222716d8bfd5",
      "5bd2fb4928f74554a449556ce2d80f7b",
      "d1397fb9133549878cb0aba71261c9d5",
      "0f2e09f4d4d14b5ebb5ddbf730940e28",
      "1ab08f45fd034d5cbb9f79769cb13f26",
      "45a7dc38ebe94dbe965f029f5626572b",
      "1045f98ae60d42de841006d7ecc39929",
      "23240b9e0cb34d6d909cf5837b2c8360",
      "5d51e4f4dd8e44588f4a3c890e06db53",
      "e0c78489dd474ec5b5f128655c1fdd24",
      "1a3ce89774704f1d80f42d30465d4949",
      "d788d2ea11e242d78ba886c3100094f3",
      "d416ca084b484f2da4d0dbae3386b4bb",
      "ac8c24c4bef64665ab1248400d7c201f",
      "90b06210d7304848b68c759890618fd0",
      "e4c51f092014478b981f05e07ae7cd09",
      "0ec221468aac4854afccbda47f564c0c",
      "87a8aa0b6aab45e48d60a7e510d9dd8f",
      "af16d97a2ead4d99b2a948bdbcbd64aa"
     ]
    },
    "id": "7Ap02xR0bnDt",
    "outputId": "d36b9caa-8bb1-453d-af6a-2faf6f325410"
   },
   "outputs": [
    {
     "name": "stderr",
     "output_type": "stream",
     "text": [
      "/usr/local/lib/python3.11/dist-packages/huggingface_hub/utils/_auth.py:94: UserWarning: \n",
      "The secret `HF_TOKEN` does not exist in your Colab secrets.\n",
      "To authenticate with the Hugging Face Hub, create a token in your settings tab (https://huggingface.co/settings/tokens), set it as secret in your Google Colab and restart your session.\n",
      "You will be able to reuse this secret in all of your notebooks.\n",
      "Please note that authentication is recommended but still optional to access public models or datasets.\n",
      "  warnings.warn(\n"
     ]
    },
    {
     "data": {
      "application/vnd.jupyter.widget-view+json": {
       "model_id": "a3706f0e447c41ff90bb0936ab220456",
       "version_major": 2,
       "version_minor": 0
      },
      "text/plain": [
       "Fetching 5 files:   0%|          | 0/5 [00:00<?, ?it/s]"
      ]
     },
     "metadata": {},
     "output_type": "display_data"
    },
    {
     "data": {
      "application/vnd.jupyter.widget-view+json": {
       "model_id": "a3702608fae846dd9d2ac704b875974e",
       "version_major": 2,
       "version_minor": 0
      },
      "text/plain": [
       "checkpoints/model.ckpt:   0%|          | 0.00/2.33G [00:00<?, ?B/s]"
      ]
     },
     "metadata": {},
     "output_type": "display_data"
    },
    {
     "data": {
      "application/vnd.jupyter.widget-view+json": {
       "model_id": "5900946bbca64ae19812a457b8fee82e",
       "version_major": 2,
       "version_minor": 0
      },
      "text/plain": [
       ".gitattributes: 0.00B [00:00, ?B/s]"
      ]
     },
     "metadata": {},
     "output_type": "display_data"
    },
    {
     "data": {
      "application/vnd.jupyter.widget-view+json": {
       "model_id": "1fe35f57ab484a93bcd1a9c1535493d0",
       "version_major": 2,
       "version_minor": 0
      },
      "text/plain": [
       "hparams.yaml:   0%|          | 0.00/437 [00:00<?, ?B/s]"
      ]
     },
     "metadata": {},
     "output_type": "display_data"
    },
    {
     "data": {
      "application/vnd.jupyter.widget-view+json": {
       "model_id": "db33632cd9ca40fdbb4fb4af1edaa61a",
       "version_major": 2,
       "version_minor": 0
      },
      "text/plain": [
       "README.md: 0.00B [00:00, ?B/s]"
      ]
     },
     "metadata": {},
     "output_type": "display_data"
    },
    {
     "data": {
      "application/vnd.jupyter.widget-view+json": {
       "model_id": "8bbd6c157c8842db8125ced5d4b37dad",
       "version_major": 2,
       "version_minor": 0
      },
      "text/plain": [
       "LICENSE: 0.00B [00:00, ?B/s]"
      ]
     },
     "metadata": {},
     "output_type": "display_data"
    },
    {
     "name": "stderr",
     "output_type": "stream",
     "text": [
      "INFO:pytorch_lightning.utilities.migration.utils:Lightning automatically upgraded your loaded checkpoint from v1.3.5 to v2.5.2. To apply the upgrade to your files permanently, run `python -m pytorch_lightning.utilities.upgrade_checkpoint ../root/.cache/huggingface/hub/models--Unbabel--wmt20-comet-da/snapshots/87819f4d6d4f17e0d1752cc9e0ccfa2064997219/checkpoints/model.ckpt`\n"
     ]
    },
    {
     "data": {
      "application/vnd.jupyter.widget-view+json": {
       "model_id": "564168372cfa49dfb77f1534151a9769",
       "version_major": 2,
       "version_minor": 0
      },
      "text/plain": [
       "tokenizer_config.json:   0%|          | 0.00/25.0 [00:00<?, ?B/s]"
      ]
     },
     "metadata": {},
     "output_type": "display_data"
    },
    {
     "data": {
      "application/vnd.jupyter.widget-view+json": {
       "model_id": "931281ca622143a687fe151008ae3aad",
       "version_major": 2,
       "version_minor": 0
      },
      "text/plain": [
       "sentencepiece.bpe.model:   0%|          | 0.00/5.07M [00:00<?, ?B/s]"
      ]
     },
     "metadata": {},
     "output_type": "display_data"
    },
    {
     "data": {
      "application/vnd.jupyter.widget-view+json": {
       "model_id": "c0527af0d0ad4a9f95c2c85772710d92",
       "version_major": 2,
       "version_minor": 0
      },
      "text/plain": [
       "tokenizer.json:   0%|          | 0.00/9.10M [00:00<?, ?B/s]"
      ]
     },
     "metadata": {},
     "output_type": "display_data"
    },
    {
     "data": {
      "application/vnd.jupyter.widget-view+json": {
       "model_id": "5d51e4f4dd8e44588f4a3c890e06db53",
       "version_major": 2,
       "version_minor": 0
      },
      "text/plain": [
       "config.json:   0%|          | 0.00/616 [00:00<?, ?B/s]"
      ]
     },
     "metadata": {},
     "output_type": "display_data"
    },
    {
     "name": "stderr",
     "output_type": "stream",
     "text": [
      "/usr/local/lib/python3.11/dist-packages/pytorch_lightning/core/saving.py:195: Found keys that are not in the model state dict but in the checkpoint: ['encoder.model.embeddings.position_ids']\n"
     ]
    }
   ],
   "source": [
    "from comet import download_model, load_from_checkpoint\n",
    "\n",
    "# Load pretrained COMET model (you can also try 'Unbabel/wmt22-comet-da')\n",
    "wmt20_model_path = download_model(\"Unbabel/wmt20-comet-da\")\n",
    "wmt20_model = load_from_checkpoint(wmt20_model_path)"
   ]
  },
  {
   "cell_type": "code",
   "execution_count": null,
   "metadata": {
    "colab": {
     "base_uri": "https://localhost:8080/"
    },
    "id": "p39pKcMGbrEp",
    "outputId": "ff57ab56-a245-4a6e-b4ad-e9fb98fa446c"
   },
   "outputs": [
    {
     "name": "stderr",
     "output_type": "stream",
     "text": [
      "INFO:pytorch_lightning.utilities.rank_zero:💡 Tip: For seamless cloud uploads and versioning, try installing [litmodels](https://pypi.org/project/litmodels/) to enable LitModelCheckpoint, which syncs automatically with the Lightning model registry.\n",
      "INFO:pytorch_lightning.utilities.rank_zero:GPU available: False, used: False\n",
      "INFO:pytorch_lightning.utilities.rank_zero:TPU available: False, using: 0 TPU cores\n",
      "INFO:pytorch_lightning.utilities.rank_zero:HPU available: False, using: 0 HPUs\n",
      "Predicting DataLoader 0: 100%|██████████| 11/11 [02:18<00:00, 12.55s/it]\n"
     ]
    },
    {
     "name": "stdout",
     "output_type": "stream",
     "text": [
      "COMET Score: 0.3139\n"
     ]
    }
   ],
   "source": [
    "# Input format: list of dicts with src, mt, and ref\n",
    "data = [{\"src\": st_sentences[i], \"mt\": mt_sentences[i], \"ref\": pe_sentences[i]} for i in range(len(mt_sentences))]\n",
    "\n",
    "# Predict\n",
    "wmt20_model_output = wmt20_model.predict(data, batch_size=8, gpus=1)\n",
    "print(\"COMET Score:\", round(wmt20_model_output.system_score, 4))"
   ]
  },
  {
   "cell_type": "code",
   "execution_count": null,
   "metadata": {
    "id": "5J_Y8K7rbwUa"
   },
   "outputs": [],
   "source": [
    "from huggingface_hub import login\n",
    "\n",
    "# Replace this with your actual Hugging Face token\n",
    "login(token=\"HF-TOKEN\")"
   ]
  },
  {
   "cell_type": "code",
   "execution_count": null,
   "metadata": {
    "colab": {
     "base_uri": "https://localhost:8080/",
     "height": 361,
     "referenced_widgets": [
      "5c17f614988b4d23a59f9ec0fb1c116a",
      "2e7536e33aaa4e148ba447e832cc33b1",
      "beff932c91b240d8bf85d83ca20a6267",
      "328eb6098e7d42399a76440d4e9a6634",
      "9c7ef0fea36443809f8856e75d1f273a",
      "aeda5de9fbe34f2cb01004a5f822470e",
      "14ba7ed987ff4a64b4b45b381a6ecf96",
      "7800550f7f5d4beb98bc1dee7fe1160a",
      "00ca4ba994e345a4b1a326dcf7fd5739",
      "53e7203d9a5946018f05f9891fe829b2",
      "827a61e6ec9343e2aed39976a86ccd9f",
      "cac4d88f9962492f8ff388f683aeb204",
      "c891bbf8a2374ddbb6b0f2ed21320950",
      "d62aa00eccd4478aa50aa16ed1223869",
      "855eb8d7608d4a91b299b6fcc2554138",
      "f831fbb730c247fd89867a7813ff3946",
      "d4ad45517c8a4618a1ce055e7e7c087d",
      "284d97b64a834bd2b4e015fa25b5325b",
      "570464ab5a1d448fb14831a1700ca20a",
      "f511a3e5dd5e47c3baae3cbf5fc72b6e",
      "3a7d2f507fd84d21a5ec667726f1a2dc",
      "acd4e5569dee4fc1882db90ec6358c3b",
      "f23b03ed6cf64d65a0858cb1b591fb55",
      "3246cb3263cf464d9880cc50aea5234a",
      "70c6f95b62cd4a01aae3e0fd0adc051f",
      "f5b9b1ad1f7d45f1806f9aa2ad70daa9",
      "87d79a4d7b98407ba86a35d5989cb105",
      "c109a79f653647d789f98f093008726b",
      "5229d0c0c448404f9be2a08f7fc6eccb",
      "80a3e092371b4ae7b5c98188e0ea2f95",
      "60dd18c49a6148c687f69817d523bb77",
      "5bf77250c54146a499b9593564895055",
      "e6a4072beb4844c488c44459111cac8b",
      "7057e92e7d9f42a49b3cedd789ed04a4",
      "064cf8c29cce40a69b2ec1efafc0cec0",
      "166999ca88ce401ab24f2d609b6dc2e8",
      "d897d140d55a4c15a45fe93b9b29040c",
      "10a5394c03464ecba7a5bb854853cb13",
      "59f0a6e9d19e40c9a7d8767a312c4954",
      "a5b0c8c1e62a4642bc5ebcda39a0e328",
      "caf3af8f255c47c1a38fcd5dd98a0ce9",
      "e6c376372fc645e7983408c76bdeb374",
      "135a38893b8d4ad78e959164150fa8d4",
      "7f93788a765049f8b43617640052a7b9",
      "142ab073a90340ec8abd6f1561b19a7f",
      "b47957ec3407490486b409ee26e52ff5",
      "270f796d959542b58bea5e6f5082ef8a",
      "88c2ff015fbe429ead228ee8f4bc2d43",
      "cea7fa8694ea4197959b976a5a7e4f44",
      "562803684a8a4db9a6234470cdd236eb",
      "54bd7b376e55420d92e08c16334619b5",
      "e7e2076eb5a844c58c5c7c66330968f5",
      "c05fac1cd64d4a0a8adc75531a99d3f6",
      "c83c89f97822447197326800b46f563e",
      "479fa5845b9f4cdea8ca026655973421",
      "e45ab60009cb44fe8722e7ca1c9e9c18",
      "2bb2e0aa706a426bb845502fa69099dd",
      "44acdaf8547e4f1f9ed76b3362ed68b1",
      "08fb30bd126d4add9f4a6b8b370623fa",
      "1ebfde09425b45268e8d84c10cfd4bbf",
      "e58d211f805545f88dd84ea15a18dc31",
      "1f9224adfc984054816ef727715dddd1",
      "4c579ff94a3749499e081dca8c483c3a",
      "2049da64a13a437cbad6340b741d1343",
      "777c0926094f4815835578c8fb34caf0",
      "54418760a332484aa76aff11890a56b0",
      "ccf92f724bf94450b3e8366d7daba104",
      "2012e73d3de8445fbfe7d6213c4b1ab2",
      "67e648bb16ac45e0abbe933cf13df0f1",
      "26299c34326448c8a79805c253c7fefd",
      "72b46ad516824befae64f65fbd8a3af4",
      "1d96f53f6b5e40e1a8a9506995ac74ab",
      "6372ba5e2e5141a4b011f84c700a96d4",
      "314106d15188410a871658fab94c3b00",
      "37f69e1113c64585b12800b742ada634",
      "247516dc10ec4d23887af7f109aefa85",
      "c31369cc87ab4fe5860855a6dd7d8089",
      "bd6fae6181c34ce08d78cf16d4a0a13b",
      "a5f028138e0548bc8d6df6efbdc7496e",
      "b329cc0d9c994fd8b5729577777638e5",
      "cab9164373b8459d9c8248f328227dac",
      "1cf241f8509a4318804d0ad678ca5acd",
      "cec99efea2924b62b904757845b436c5",
      "6b364c3291c34a418dea21b21f5db441",
      "e2e22f448df844989918bb035acdfaa8",
      "e742e2ef59bf4a14a7da6d8a7104f6f0",
      "24bf7711a1714856aab68b87ec2a36b3",
      "c5b84b22efd24380aae935aac6c2d9b6",
      "5a110aef6aac47fcac617d3aa37ae523",
      "28f7a13a035c4076a77b49032045582b",
      "8761bf791be4496da04338198b60eb04",
      "40a35810051644108dd19f3f550083d4",
      "c101d7d385ba4cf19c0ba9c7b6e2e4fe",
      "6a66e6e407704ee28131092f9bbcf7f8",
      "f4477637fad647d7b7f60c5436c655a9",
      "e61ad8180fa3443c8a009f410e88d6bd",
      "ef00308773954d0ca2b2e134b3b6abd1",
      "251a1dbe03e74cccbf92c933976cb536",
      "5b76c92119cb4f218ed98ca4fcf25369"
     ]
    },
    "id": "-0ZFXhYybyX7",
    "outputId": "7404a38e-4aa2-413f-85b3-371e2ce124f3"
   },
   "outputs": [
    {
     "data": {
      "application/vnd.jupyter.widget-view+json": {
       "model_id": "5c17f614988b4d23a59f9ec0fb1c116a",
       "version_major": 2,
       "version_minor": 0
      },
      "text/plain": [
       "Fetching 5 files:   0%|          | 0/5 [00:00<?, ?it/s]"
      ]
     },
     "metadata": {},
     "output_type": "display_data"
    },
    {
     "data": {
      "application/vnd.jupyter.widget-view+json": {
       "model_id": "cac4d88f9962492f8ff388f683aeb204",
       "version_major": 2,
       "version_minor": 0
      },
      "text/plain": [
       "LICENSE:   0%|          | 0.00/20.8k [00:00<?, ?B/s]"
      ]
     },
     "metadata": {},
     "output_type": "display_data"
    },
    {
     "data": {
      "application/vnd.jupyter.widget-view+json": {
       "model_id": "f23b03ed6cf64d65a0858cb1b591fb55",
       "version_major": 2,
       "version_minor": 0
      },
      "text/plain": [
       ".gitattributes:   0%|          | 0.00/1.48k [00:00<?, ?B/s]"
      ]
     },
     "metadata": {},
     "output_type": "display_data"
    },
    {
     "data": {
      "application/vnd.jupyter.widget-view+json": {
       "model_id": "7057e92e7d9f42a49b3cedd789ed04a4",
       "version_major": 2,
       "version_minor": 0
      },
      "text/plain": [
       "README.md:   0%|          | 0.00/4.10k [00:00<?, ?B/s]"
      ]
     },
     "metadata": {},
     "output_type": "display_data"
    },
    {
     "data": {
      "application/vnd.jupyter.widget-view+json": {
       "model_id": "142ab073a90340ec8abd6f1561b19a7f",
       "version_major": 2,
       "version_minor": 0
      },
      "text/plain": [
       "checkpoints/model.ckpt:   0%|          | 0.00/2.26G [00:00<?, ?B/s]"
      ]
     },
     "metadata": {},
     "output_type": "display_data"
    },
    {
     "data": {
      "application/vnd.jupyter.widget-view+json": {
       "model_id": "e45ab60009cb44fe8722e7ca1c9e9c18",
       "version_major": 2,
       "version_minor": 0
      },
      "text/plain": [
       "hparams.yaml:   0%|          | 0.00/716 [00:00<?, ?B/s]"
      ]
     },
     "metadata": {},
     "output_type": "display_data"
    },
    {
     "name": "stderr",
     "output_type": "stream",
     "text": [
      "INFO:pytorch_lightning.utilities.migration.utils:Lightning automatically upgraded your loaded checkpoint from v1.8.2 to v2.5.2. To apply the upgrade to your files permanently, run `python -m pytorch_lightning.utilities.upgrade_checkpoint ../root/.cache/huggingface/hub/models--Unbabel--wmt22-cometkiwi-da/snapshots/1ad785194e391eebc6c53e2d0776cada8f83179a/checkpoints/model.ckpt`\n"
     ]
    },
    {
     "data": {
      "application/vnd.jupyter.widget-view+json": {
       "model_id": "ccf92f724bf94450b3e8366d7daba104",
       "version_major": 2,
       "version_minor": 0
      },
      "text/plain": [
       "sentencepiece.bpe.model:   0%|          | 0.00/5.07M [00:00<?, ?B/s]"
      ]
     },
     "metadata": {},
     "output_type": "display_data"
    },
    {
     "data": {
      "application/vnd.jupyter.widget-view+json": {
       "model_id": "bd6fae6181c34ce08d78cf16d4a0a13b",
       "version_major": 2,
       "version_minor": 0
      },
      "text/plain": [
       "tokenizer.json: 0.00B [00:00, ?B/s]"
      ]
     },
     "metadata": {},
     "output_type": "display_data"
    },
    {
     "data": {
      "application/vnd.jupyter.widget-view+json": {
       "model_id": "5a110aef6aac47fcac617d3aa37ae523",
       "version_major": 2,
       "version_minor": 0
      },
      "text/plain": [
       "config.json:   0%|          | 0.00/513 [00:00<?, ?B/s]"
      ]
     },
     "metadata": {},
     "output_type": "display_data"
    },
    {
     "name": "stderr",
     "output_type": "stream",
     "text": [
      "/usr/local/lib/python3.11/dist-packages/pytorch_lightning/core/saving.py:195: Found keys that are not in the model state dict but in the checkpoint: ['encoder.model.embeddings.position_ids']\n"
     ]
    }
   ],
   "source": [
    "wmt22_model_path = download_model(\"Unbabel/wmt22-cometkiwi-da\")\n",
    "wmt22_model = load_from_checkpoint(wmt22_model_path)"
   ]
  },
  {
   "cell_type": "code",
   "execution_count": null,
   "metadata": {
    "colab": {
     "base_uri": "https://localhost:8080/"
    },
    "id": "eeANQBS6b0Mb",
    "outputId": "e3b77614-6080-4be3-8abb-f93cf5af0356"
   },
   "outputs": [
    {
     "name": "stderr",
     "output_type": "stream",
     "text": [
      "INFO:pytorch_lightning.utilities.rank_zero:💡 Tip: For seamless cloud uploads and versioning, try installing [litmodels](https://pypi.org/project/litmodels/) to enable LitModelCheckpoint, which syncs automatically with the Lightning model registry.\n",
      "INFO:pytorch_lightning.utilities.rank_zero:GPU available: False, used: False\n",
      "INFO:pytorch_lightning.utilities.rank_zero:TPU available: False, using: 0 TPU cores\n",
      "INFO:pytorch_lightning.utilities.rank_zero:HPU available: False, using: 0 HPUs\n",
      "Predicting DataLoader 0: 100%|██████████| 11/11 [01:21<00:00,  7.37s/it]\n"
     ]
    },
    {
     "name": "stdout",
     "output_type": "stream",
     "text": [
      "XCOMET Score for MT: 0.7595\n"
     ]
    }
   ],
   "source": [
    "data = [{\"src\": st_sentences[i], \"mt\": mt_sentences[i]} for i in range(len(mt_sentences))]  # no reference\n",
    "wmt22_model_output_mt = wmt22_model.predict(data, batch_size=8, gpus=1)\n",
    "print(\"XCOMET Score for MT:\", round(wmt22_model_output_mt.system_score, 4))"
   ]
  },
  {
   "cell_type": "code",
   "execution_count": null,
   "metadata": {
    "colab": {
     "base_uri": "https://localhost:8080/"
    },
    "id": "5hUEPAZSb373",
    "outputId": "4c75b7e0-34de-423f-cd9d-bc5dba106b9f"
   },
   "outputs": [
    {
     "name": "stderr",
     "output_type": "stream",
     "text": [
      "INFO:pytorch_lightning.utilities.rank_zero:💡 Tip: For seamless cloud uploads and versioning, try installing [litmodels](https://pypi.org/project/litmodels/) to enable LitModelCheckpoint, which syncs automatically with the Lightning model registry.\n",
      "INFO:pytorch_lightning.utilities.rank_zero:GPU available: False, used: False\n",
      "INFO:pytorch_lightning.utilities.rank_zero:TPU available: False, using: 0 TPU cores\n",
      "INFO:pytorch_lightning.utilities.rank_zero:HPU available: False, using: 0 HPUs\n",
      "Predicting DataLoader 0: 100%|██████████| 11/11 [01:22<00:00,  7.46s/it]\n"
     ]
    },
    {
     "name": "stdout",
     "output_type": "stream",
     "text": [
      "XCOMET Score for PEMT: 0.7342\n"
     ]
    }
   ],
   "source": [
    "data = [{\"src\": st_sentences[i], \"mt\": pe_sentences[i]} for i in range(len(pe_sentences))]  # no reference\n",
    "wmt22_model_output_pe = wmt22_model.predict(data, batch_size=8, gpus=1)\n",
    "print(\"XCOMET Score for PEMT:\", round(wmt22_model_output_pe.system_score, 4))"
   ]
  },
  {
   "cell_type": "code",
   "execution_count": null,
   "metadata": {
    "id": "W-8eHbvpb809"
   },
   "outputs": [],
   "source": [
    "bleu_score = round(bleu.score, 2)\n",
    "ter_score = round(ter.score, 2)\n",
    "chrf_score = round(chrf.score, 2)\n",
    "comet_score = round(wmt20_model_output.system_score, 3)\n",
    "xcomet_mt_score = round(wmt22_model_output_mt.system_score, 3)\n",
    "xcomet_pe_score = round(wmt22_model_output_pe.system_score, 3)"
   ]
  },
  {
   "cell_type": "code",
   "execution_count": null,
   "metadata": {
    "id": "gjXlH8qUcE77"
   },
   "outputs": [],
   "source": [
    "def print_metrics_latex_table(bleu, ter, chrf, comet, xcomet_mt, xcomet_pe):\n",
    "    print(\"\\\\begin{tabular}{lcc}\")\n",
    "    print(\"\\\\toprule\")\n",
    "    print(\"Metric & MT & PE \\\\\\\\\")\n",
    "    print(\"\\\\midrule\")\n",
    "    print(\"BLEU & {:.2f} & -- \\\\\\\\\".format(bleu))\n",
    "    print(\"TER & {:.2f} & -- \\\\\\\\\".format(ter))\n",
    "    print(\"chrF & {:.2f} & -- \\\\\\\\\".format(chrf))\n",
    "    print(\"COMET & {:.3f} & -- \\\\\\\\\".format(comet))\n",
    "    print(\"XCOMET & {:.3f} & {:.3f} \\\\\\\\\".format(xcomet_mt, xcomet_pe))\n",
    "    print(\"\\\\bottomrule\")\n",
    "    print(\"\\\\end{tabular}\")"
   ]
  },
  {
   "cell_type": "code",
   "execution_count": null,
   "metadata": {
    "colab": {
     "base_uri": "https://localhost:8080/"
    },
    "id": "T4A8jAYEcXjp",
    "outputId": "9994103c-c25b-483e-dcef-2724814c693b"
   },
   "outputs": [
    {
     "name": "stdout",
     "output_type": "stream",
     "text": [
      "\\begin{tabular}{lcc}\n",
      "\\toprule\n",
      "Metric & MT & PE \\\\\n",
      "\\midrule\n",
      "BLEU & 31.89 & -- \\\\\n",
      "TER & 59.27 & -- \\\\\n",
      "chrF & 55.26 & -- \\\\\n",
      "COMET & 0.314 & -- \\\\\n",
      "XCOMET & 0.759 & 0.734 \\\\\n",
      "\\bottomrule\n",
      "\\end{tabular}\n"
     ]
    }
   ],
   "source": [
    "print_metrics_latex_table(bleu_score, ter_score, chrf_score, comet_score, xcomet_mt_score, xcomet_pe_score)"
   ]
  }
 ],
 "metadata": {
  "colab": {
   "provenance": []
  },
  "kernelspec": {
   "display_name": "Python 3",
   "name": "python3"
  },
  "language_info": {
   "name": "python"
  }
 },
 "nbformat": 4,
 "nbformat_minor": 0
}
